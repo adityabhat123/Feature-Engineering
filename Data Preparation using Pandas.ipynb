{
 "cells": [
  {
   "attachments": {},
   "cell_type": "markdown",
   "metadata": {},
   "source": [
    "# **Data Preparation Using Python**\n",
    "\n",
    "**This Notebook provides a high level overview of how we can use Python libraries, Modules, and Methods to implement DPMENTOS procedures for Credit Risk Modelling.**"
   ]
  },
  {
   "attachments": {},
   "cell_type": "markdown",
   "metadata": {},
   "source": [
    "Import the Pandas and Numpy as these are the most widely used packages required for data manipulation and analysis"
   ]
  },
  {
   "cell_type": "code",
   "execution_count": 405,
   "metadata": {},
   "outputs": [],
   "source": [
    "import pandas as pd\n",
    "import numpy as np"
   ]
  },
  {
   "attachments": {},
   "cell_type": "markdown",
   "metadata": {},
   "source": [
    "Read the data file using the pandas method pd.read_excel() and then assign to a variable"
   ]
  },
  {
   "cell_type": "code",
   "execution_count": 406,
   "metadata": {},
   "outputs": [],
   "source": [
    "rawdata = pd.read_excel(io= r'D:\\Peak2Tails Projects\\Data Preparation Python\\Datasets\\Automobile Raw Data.xlsx')"
   ]
  },
  {
   "attachments": {},
   "cell_type": "markdown",
   "metadata": {},
   "source": [
    "Create a copy of the raw data dataframe using df.copy() to perform inplace operations on the dataframe without changing the original dataframe. This will also help us to compare both the dataframes after the Data Preparation procedures"
   ]
  },
  {
   "cell_type": "code",
   "execution_count": 407,
   "metadata": {},
   "outputs": [],
   "source": [
    "rawdata_copy = rawdata.copy()"
   ]
  },
  {
   "attachments": {},
   "cell_type": "markdown",
   "metadata": {},
   "source": [
    "Use dataframe.drop() method to drop columns that are not required, e.g. The # ID column is not required. Hence we drop it."
   ]
  },
  {
   "cell_type": "code",
   "execution_count": 408,
   "metadata": {},
   "outputs": [],
   "source": [
    "rawdata_copy.drop(labels = ['# ID'], axis = 1, inplace= True)"
   ]
  },
  {
   "attachments": {},
   "cell_type": "markdown",
   "metadata": {},
   "source": [
    "Below are Pandas Methods for performing basic statistical computations required for Exploratory Data Analysis"
   ]
  },
  {
   "attachments": {},
   "cell_type": "markdown",
   "metadata": {},
   "source": [
    "Calculating the Mean for all numerical columns of a data frame using the dataframe.mean() Pandas Method"
   ]
  },
  {
   "cell_type": "code",
   "execution_count": 409,
   "metadata": {},
   "outputs": [
    {
     "name": "stderr",
     "output_type": "stream",
     "text": [
      "C:\\Users\\adity\\AppData\\Local\\Temp\\ipykernel_9300\\3344344844.py:1: FutureWarning: Dropping of nuisance columns in DataFrame reductions (with 'numeric_only=None') is deprecated; in a future version this will raise TypeError.  Select only valid columns before calling the reduction.\n",
      "  rawdata_copy.mean()\n"
     ]
    },
    {
     "data": {
      "text/plain": [
       "sales        52.998076\n",
       "resale       18.072975\n",
       "price        27.390755\n",
       "engine_s      3.060897\n",
       "horsepow    185.948718\n",
       "wheelbas    107.487179\n",
       "width        71.150000\n",
       "length      187.343590\n",
       "curb_wgt      3.378026\n",
       "fuel_cap     17.951923\n",
       "mpg          23.844156\n",
       "dtype: float64"
      ]
     },
     "execution_count": 409,
     "metadata": {},
     "output_type": "execute_result"
    }
   ],
   "source": [
    "rawdata_copy.mean()"
   ]
  },
  {
   "attachments": {},
   "cell_type": "markdown",
   "metadata": {},
   "source": [
    "Calculating the Median for all numerical columns of a data frame using the dataframe.median() Pandas Method"
   ]
  },
  {
   "cell_type": "code",
   "execution_count": 410,
   "metadata": {},
   "outputs": [
    {
     "name": "stderr",
     "output_type": "stream",
     "text": [
      "C:\\Users\\adity\\AppData\\Local\\Temp\\ipykernel_9300\\1900373447.py:1: FutureWarning: Dropping of nuisance columns in DataFrame reductions (with 'numeric_only=None') is deprecated; in a future version this will raise TypeError.  Select only valid columns before calling the reduction.\n",
      "  rawdata_copy.median()\n"
     ]
    },
    {
     "data": {
      "text/plain": [
       "sales        29.450\n",
       "resale       14.180\n",
       "price        22.799\n",
       "engine_s      3.000\n",
       "horsepow    177.500\n",
       "wheelbas    107.000\n",
       "width        70.550\n",
       "length      187.900\n",
       "curb_wgt      3.342\n",
       "fuel_cap     17.200\n",
       "mpg          24.000\n",
       "dtype: float64"
      ]
     },
     "execution_count": 410,
     "metadata": {},
     "output_type": "execute_result"
    }
   ],
   "source": [
    "rawdata_copy.median()"
   ]
  },
  {
   "attachments": {},
   "cell_type": "markdown",
   "metadata": {},
   "source": [
    "Calculating the Mode for all numerical columns of a data frame using the dataframe.mode() Pandas Method"
   ]
  },
  {
   "cell_type": "code",
   "execution_count": 411,
   "metadata": {},
   "outputs": [
    {
     "data": {
      "text/html": [
       "<div>\n",
       "<style scoped>\n",
       "    .dataframe tbody tr th:only-of-type {\n",
       "        vertical-align: middle;\n",
       "    }\n",
       "\n",
       "    .dataframe tbody tr th {\n",
       "        vertical-align: top;\n",
       "    }\n",
       "\n",
       "    .dataframe thead th {\n",
       "        text-align: right;\n",
       "    }\n",
       "</style>\n",
       "<table border=\"1\" class=\"dataframe\">\n",
       "  <thead>\n",
       "    <tr style=\"text-align: right;\">\n",
       "      <th></th>\n",
       "      <th>manufact</th>\n",
       "      <th>model</th>\n",
       "      <th>sales</th>\n",
       "      <th>resale</th>\n",
       "      <th>type</th>\n",
       "      <th>price</th>\n",
       "      <th>engine_s</th>\n",
       "      <th>horsepow</th>\n",
       "      <th>wheelbas</th>\n",
       "      <th>width</th>\n",
       "      <th>length</th>\n",
       "      <th>curb_wgt</th>\n",
       "      <th>fuel_cap</th>\n",
       "      <th>mpg</th>\n",
       "    </tr>\n",
       "  </thead>\n",
       "  <tbody>\n",
       "    <tr>\n",
       "      <th>0</th>\n",
       "      <td>Dodge</td>\n",
       "      <td>Neon</td>\n",
       "      <td>0.110</td>\n",
       "      <td>7.750</td>\n",
       "      <td>Automobile</td>\n",
       "      <td>12.64</td>\n",
       "      <td>2.0</td>\n",
       "      <td>150.0</td>\n",
       "      <td>112.2</td>\n",
       "      <td>66.7</td>\n",
       "      <td>186.3</td>\n",
       "      <td>2.769</td>\n",
       "      <td>18.5</td>\n",
       "      <td>25.0</td>\n",
       "    </tr>\n",
       "    <tr>\n",
       "      <th>1</th>\n",
       "      <td>Ford</td>\n",
       "      <td>NaN</td>\n",
       "      <td>0.916</td>\n",
       "      <td>12.025</td>\n",
       "      <td>NaN</td>\n",
       "      <td>18.89</td>\n",
       "      <td>NaN</td>\n",
       "      <td>170.0</td>\n",
       "      <td>NaN</td>\n",
       "      <td>74.4</td>\n",
       "      <td>NaN</td>\n",
       "      <td>2.998</td>\n",
       "      <td>NaN</td>\n",
       "      <td>NaN</td>\n",
       "    </tr>\n",
       "    <tr>\n",
       "      <th>2</th>\n",
       "      <td>NaN</td>\n",
       "      <td>NaN</td>\n",
       "      <td>0.954</td>\n",
       "      <td>16.575</td>\n",
       "      <td>NaN</td>\n",
       "      <td>38.90</td>\n",
       "      <td>NaN</td>\n",
       "      <td>NaN</td>\n",
       "      <td>NaN</td>\n",
       "      <td>NaN</td>\n",
       "      <td>NaN</td>\n",
       "      <td>NaN</td>\n",
       "      <td>NaN</td>\n",
       "      <td>NaN</td>\n",
       "    </tr>\n",
       "    <tr>\n",
       "      <th>3</th>\n",
       "      <td>NaN</td>\n",
       "      <td>NaN</td>\n",
       "      <td>1.112</td>\n",
       "      <td>18.225</td>\n",
       "      <td>NaN</td>\n",
       "      <td>NaN</td>\n",
       "      <td>NaN</td>\n",
       "      <td>NaN</td>\n",
       "      <td>NaN</td>\n",
       "      <td>NaN</td>\n",
       "      <td>NaN</td>\n",
       "      <td>NaN</td>\n",
       "      <td>NaN</td>\n",
       "      <td>NaN</td>\n",
       "    </tr>\n",
       "    <tr>\n",
       "      <th>4</th>\n",
       "      <td>NaN</td>\n",
       "      <td>NaN</td>\n",
       "      <td>1.280</td>\n",
       "      <td>NaN</td>\n",
       "      <td>NaN</td>\n",
       "      <td>NaN</td>\n",
       "      <td>NaN</td>\n",
       "      <td>NaN</td>\n",
       "      <td>NaN</td>\n",
       "      <td>NaN</td>\n",
       "      <td>NaN</td>\n",
       "      <td>NaN</td>\n",
       "      <td>NaN</td>\n",
       "      <td>NaN</td>\n",
       "    </tr>\n",
       "    <tr>\n",
       "      <th>...</th>\n",
       "      <td>...</td>\n",
       "      <td>...</td>\n",
       "      <td>...</td>\n",
       "      <td>...</td>\n",
       "      <td>...</td>\n",
       "      <td>...</td>\n",
       "      <td>...</td>\n",
       "      <td>...</td>\n",
       "      <td>...</td>\n",
       "      <td>...</td>\n",
       "      <td>...</td>\n",
       "      <td>...</td>\n",
       "      <td>...</td>\n",
       "      <td>...</td>\n",
       "    </tr>\n",
       "    <tr>\n",
       "      <th>152</th>\n",
       "      <td>NaN</td>\n",
       "      <td>NaN</td>\n",
       "      <td>230.902</td>\n",
       "      <td>NaN</td>\n",
       "      <td>NaN</td>\n",
       "      <td>NaN</td>\n",
       "      <td>NaN</td>\n",
       "      <td>NaN</td>\n",
       "      <td>NaN</td>\n",
       "      <td>NaN</td>\n",
       "      <td>NaN</td>\n",
       "      <td>NaN</td>\n",
       "      <td>NaN</td>\n",
       "      <td>NaN</td>\n",
       "    </tr>\n",
       "    <tr>\n",
       "      <th>153</th>\n",
       "      <td>NaN</td>\n",
       "      <td>NaN</td>\n",
       "      <td>245.815</td>\n",
       "      <td>NaN</td>\n",
       "      <td>NaN</td>\n",
       "      <td>NaN</td>\n",
       "      <td>NaN</td>\n",
       "      <td>NaN</td>\n",
       "      <td>NaN</td>\n",
       "      <td>NaN</td>\n",
       "      <td>NaN</td>\n",
       "      <td>NaN</td>\n",
       "      <td>NaN</td>\n",
       "      <td>NaN</td>\n",
       "    </tr>\n",
       "    <tr>\n",
       "      <th>154</th>\n",
       "      <td>NaN</td>\n",
       "      <td>NaN</td>\n",
       "      <td>247.994</td>\n",
       "      <td>NaN</td>\n",
       "      <td>NaN</td>\n",
       "      <td>NaN</td>\n",
       "      <td>NaN</td>\n",
       "      <td>NaN</td>\n",
       "      <td>NaN</td>\n",
       "      <td>NaN</td>\n",
       "      <td>NaN</td>\n",
       "      <td>NaN</td>\n",
       "      <td>NaN</td>\n",
       "      <td>NaN</td>\n",
       "    </tr>\n",
       "    <tr>\n",
       "      <th>155</th>\n",
       "      <td>NaN</td>\n",
       "      <td>NaN</td>\n",
       "      <td>276.747</td>\n",
       "      <td>NaN</td>\n",
       "      <td>NaN</td>\n",
       "      <td>NaN</td>\n",
       "      <td>NaN</td>\n",
       "      <td>NaN</td>\n",
       "      <td>NaN</td>\n",
       "      <td>NaN</td>\n",
       "      <td>NaN</td>\n",
       "      <td>NaN</td>\n",
       "      <td>NaN</td>\n",
       "      <td>NaN</td>\n",
       "    </tr>\n",
       "    <tr>\n",
       "      <th>156</th>\n",
       "      <td>NaN</td>\n",
       "      <td>NaN</td>\n",
       "      <td>540.561</td>\n",
       "      <td>NaN</td>\n",
       "      <td>NaN</td>\n",
       "      <td>NaN</td>\n",
       "      <td>NaN</td>\n",
       "      <td>NaN</td>\n",
       "      <td>NaN</td>\n",
       "      <td>NaN</td>\n",
       "      <td>NaN</td>\n",
       "      <td>NaN</td>\n",
       "      <td>NaN</td>\n",
       "      <td>NaN</td>\n",
       "    </tr>\n",
       "  </tbody>\n",
       "</table>\n",
       "<p>157 rows × 14 columns</p>\n",
       "</div>"
      ],
      "text/plain": [
       "    manufact model    sales  resale        type  price  engine_s  horsepow  \\\n",
       "0      Dodge  Neon    0.110   7.750  Automobile  12.64       2.0     150.0   \n",
       "1       Ford   NaN    0.916  12.025         NaN  18.89       NaN     170.0   \n",
       "2        NaN   NaN    0.954  16.575         NaN  38.90       NaN       NaN   \n",
       "3        NaN   NaN    1.112  18.225         NaN    NaN       NaN       NaN   \n",
       "4        NaN   NaN    1.280     NaN         NaN    NaN       NaN       NaN   \n",
       "..       ...   ...      ...     ...         ...    ...       ...       ...   \n",
       "152      NaN   NaN  230.902     NaN         NaN    NaN       NaN       NaN   \n",
       "153      NaN   NaN  245.815     NaN         NaN    NaN       NaN       NaN   \n",
       "154      NaN   NaN  247.994     NaN         NaN    NaN       NaN       NaN   \n",
       "155      NaN   NaN  276.747     NaN         NaN    NaN       NaN       NaN   \n",
       "156      NaN   NaN  540.561     NaN         NaN    NaN       NaN       NaN   \n",
       "\n",
       "     wheelbas  width  length  curb_wgt  fuel_cap   mpg  \n",
       "0       112.2   66.7   186.3     2.769      18.5  25.0  \n",
       "1         NaN   74.4     NaN     2.998       NaN   NaN  \n",
       "2         NaN    NaN     NaN       NaN       NaN   NaN  \n",
       "3         NaN    NaN     NaN       NaN       NaN   NaN  \n",
       "4         NaN    NaN     NaN       NaN       NaN   NaN  \n",
       "..        ...    ...     ...       ...       ...   ...  \n",
       "152       NaN    NaN     NaN       NaN       NaN   NaN  \n",
       "153       NaN    NaN     NaN       NaN       NaN   NaN  \n",
       "154       NaN    NaN     NaN       NaN       NaN   NaN  \n",
       "155       NaN    NaN     NaN       NaN       NaN   NaN  \n",
       "156       NaN    NaN     NaN       NaN       NaN   NaN  \n",
       "\n",
       "[157 rows x 14 columns]"
      ]
     },
     "execution_count": 411,
     "metadata": {},
     "output_type": "execute_result"
    }
   ],
   "source": [
    "rawdata_copy.mode()"
   ]
  },
  {
   "attachments": {},
   "cell_type": "markdown",
   "metadata": {},
   "source": [
    "The Pandas df.mode() method returns a data frame of most repeated values instead of a single mode value, hence we use the df.iloc[0] property to extract only the first row of this data frame."
   ]
  },
  {
   "cell_type": "code",
   "execution_count": 412,
   "metadata": {},
   "outputs": [
    {
     "data": {
      "text/plain": [
       "manufact         Dodge\n",
       "model             Neon\n",
       "sales             0.11\n",
       "resale            7.75\n",
       "type        Automobile\n",
       "price            12.64\n",
       "engine_s           2.0\n",
       "horsepow         150.0\n",
       "wheelbas         112.2\n",
       "width             66.7\n",
       "length           186.3\n",
       "curb_wgt         2.769\n",
       "fuel_cap          18.5\n",
       "mpg               25.0\n",
       "Name: 0, dtype: object"
      ]
     },
     "execution_count": 412,
     "metadata": {},
     "output_type": "execute_result"
    }
   ],
   "source": [
    "rawdata_copy.mode().iloc[0]"
   ]
  },
  {
   "attachments": {},
   "cell_type": "markdown",
   "metadata": {},
   "source": [
    "Calculating the Standard Deviation for all numerical columns of a data frame using the df.std() Pandas Method"
   ]
  },
  {
   "cell_type": "code",
   "execution_count": 413,
   "metadata": {},
   "outputs": [
    {
     "name": "stderr",
     "output_type": "stream",
     "text": [
      "C:\\Users\\adity\\AppData\\Local\\Temp\\ipykernel_9300\\4250429987.py:1: FutureWarning: Dropping of nuisance columns in DataFrame reductions (with 'numeric_only=None') is deprecated; in a future version this will raise TypeError.  Select only valid columns before calling the reduction.\n",
      "  rawdata.std()\n"
     ]
    },
    {
     "data": {
      "text/plain": [
       "# ID        45.466105\n",
       "sales       68.029422\n",
       "resale      11.453384\n",
       "price       14.351653\n",
       "engine_s     1.044653\n",
       "horsepow    56.700321\n",
       "wheelbas     7.641303\n",
       "width        3.451872\n",
       "length      13.431754\n",
       "curb_wgt     0.630502\n",
       "fuel_cap     3.887921\n",
       "mpg          4.282706\n",
       "dtype: float64"
      ]
     },
     "execution_count": 413,
     "metadata": {},
     "output_type": "execute_result"
    }
   ],
   "source": [
    "rawdata.std()"
   ]
  },
  {
   "attachments": {},
   "cell_type": "markdown",
   "metadata": {},
   "source": [
    "Calculating the % of Missing Values in each column of a DataFrame \n",
    "There are 2 ways to do this"
   ]
  },
  {
   "attachments": {},
   "cell_type": "markdown",
   "metadata": {},
   "source": [
    "1st Approach is by using the count() and the len() methods as illustrated below"
   ]
  },
  {
   "cell_type": "code",
   "execution_count": 414,
   "metadata": {},
   "outputs": [
    {
     "name": "stdout",
     "output_type": "stream",
     "text": [
      "manufact    0.000000\n",
      "model       0.000000\n",
      "sales       0.000000\n",
      "resale      0.229299\n",
      "type        0.000000\n",
      "price       0.012739\n",
      "engine_s    0.006369\n",
      "horsepow    0.006369\n",
      "wheelbas    0.006369\n",
      "width       0.006369\n",
      "length      0.006369\n",
      "curb_wgt    0.012739\n",
      "fuel_cap    0.006369\n",
      "mpg         0.019108\n",
      "dtype: float64\n"
     ]
    }
   ],
   "source": [
    "missingrate_firstmethod = 1 - rawdata_copy.count() / len(rawdata_copy)\n",
    "print(missingrate_firstmethod)"
   ]
  },
  {
   "attachments": {},
   "cell_type": "markdown",
   "metadata": {},
   "source": [
    "2nd Approach is by using the .isnull() and .mean() methods as illustrated below"
   ]
  },
  {
   "cell_type": "code",
   "execution_count": 415,
   "metadata": {},
   "outputs": [
    {
     "name": "stdout",
     "output_type": "stream",
     "text": [
      "manufact    0.000000\n",
      "model       0.000000\n",
      "sales       0.000000\n",
      "resale      0.229299\n",
      "type        0.000000\n",
      "price       0.012739\n",
      "engine_s    0.006369\n",
      "horsepow    0.006369\n",
      "wheelbas    0.006369\n",
      "width       0.006369\n",
      "length      0.006369\n",
      "curb_wgt    0.012739\n",
      "fuel_cap    0.006369\n",
      "mpg         0.019108\n",
      "dtype: float64\n"
     ]
    }
   ],
   "source": [
    "missingrate_secondmethod = rawdata_copy.isnull().mean()\n",
    "print(missingrate_secondmethod)"
   ]
  },
  {
   "attachments": {},
   "cell_type": "markdown",
   "metadata": {},
   "source": [
    "After our calculations we can also create a dataframe and insert the calculated columns as values in a dataframe, with the columns names being the Index Labels. This way we can easily analyze the calculated data in each column. "
   ]
  },
  {
   "cell_type": "code",
   "execution_count": 416,
   "metadata": {},
   "outputs": [
    {
     "name": "stderr",
     "output_type": "stream",
     "text": [
      "C:\\Users\\adity\\AppData\\Local\\Temp\\ipykernel_9300\\562731050.py:3: FutureWarning: Dropping of nuisance columns in DataFrame reductions (with 'numeric_only=None') is deprecated; in a future version this will raise TypeError.  Select only valid columns before calling the reduction.\n",
      "  EDA_dataframe.insert(loc= 0, column = 'Mean', value = rawdata.mean())\n",
      "C:\\Users\\adity\\AppData\\Local\\Temp\\ipykernel_9300\\562731050.py:4: FutureWarning: Dropping of nuisance columns in DataFrame reductions (with 'numeric_only=None') is deprecated; in a future version this will raise TypeError.  Select only valid columns before calling the reduction.\n",
      "  EDA_dataframe.insert(loc= 1, column = 'Median', value = rawdata.median())\n",
      "C:\\Users\\adity\\AppData\\Local\\Temp\\ipykernel_9300\\562731050.py:6: FutureWarning: Dropping of nuisance columns in DataFrame reductions (with 'numeric_only=None') is deprecated; in a future version this will raise TypeError.  Select only valid columns before calling the reduction.\n",
      "  EDA_dataframe.insert(loc= 3, column = 'Standard deviation', value = rawdata.std())\n"
     ]
    }
   ],
   "source": [
    "EDA_dataframe = pd.DataFrame()\n",
    "\n",
    "EDA_dataframe.insert(loc= 0, column = 'Mean', value = rawdata.mean())\n",
    "EDA_dataframe.insert(loc= 1, column = 'Median', value = rawdata.median())\n",
    "EDA_dataframe.insert(loc= 2, column = 'Mode', value = rawdata.mode().iloc[0])\n",
    "EDA_dataframe.insert(loc= 3, column = 'Standard deviation', value = rawdata.std())\n",
    "EDA_dataframe.insert(loc=4, column = 'Missing Rate', value = 1 - rawdata.count() / len(rawdata))\n"
   ]
  },
  {
   "cell_type": "code",
   "execution_count": 417,
   "metadata": {},
   "outputs": [
    {
     "data": {
      "text/html": [
       "<div>\n",
       "<style scoped>\n",
       "    .dataframe tbody tr th:only-of-type {\n",
       "        vertical-align: middle;\n",
       "    }\n",
       "\n",
       "    .dataframe tbody tr th {\n",
       "        vertical-align: top;\n",
       "    }\n",
       "\n",
       "    .dataframe thead th {\n",
       "        text-align: right;\n",
       "    }\n",
       "</style>\n",
       "<table border=\"1\" class=\"dataframe\">\n",
       "  <thead>\n",
       "    <tr style=\"text-align: right;\">\n",
       "      <th></th>\n",
       "      <th>Mean</th>\n",
       "      <th>Median</th>\n",
       "      <th>Mode</th>\n",
       "      <th>Standard deviation</th>\n",
       "      <th>Missing Rate</th>\n",
       "    </tr>\n",
       "  </thead>\n",
       "  <tbody>\n",
       "    <tr>\n",
       "      <th># ID</th>\n",
       "      <td>79.000000</td>\n",
       "      <td>79.000</td>\n",
       "      <td>1</td>\n",
       "      <td>45.466105</td>\n",
       "      <td>0.000000</td>\n",
       "    </tr>\n",
       "    <tr>\n",
       "      <th>sales</th>\n",
       "      <td>52.998076</td>\n",
       "      <td>29.450</td>\n",
       "      <td>0.11</td>\n",
       "      <td>68.029422</td>\n",
       "      <td>0.000000</td>\n",
       "    </tr>\n",
       "    <tr>\n",
       "      <th>resale</th>\n",
       "      <td>18.072975</td>\n",
       "      <td>14.180</td>\n",
       "      <td>7.75</td>\n",
       "      <td>11.453384</td>\n",
       "      <td>0.229299</td>\n",
       "    </tr>\n",
       "    <tr>\n",
       "      <th>price</th>\n",
       "      <td>27.390755</td>\n",
       "      <td>22.799</td>\n",
       "      <td>12.64</td>\n",
       "      <td>14.351653</td>\n",
       "      <td>0.012739</td>\n",
       "    </tr>\n",
       "    <tr>\n",
       "      <th>engine_s</th>\n",
       "      <td>3.060897</td>\n",
       "      <td>3.000</td>\n",
       "      <td>2.0</td>\n",
       "      <td>1.044653</td>\n",
       "      <td>0.006369</td>\n",
       "    </tr>\n",
       "    <tr>\n",
       "      <th>horsepow</th>\n",
       "      <td>185.948718</td>\n",
       "      <td>177.500</td>\n",
       "      <td>150.0</td>\n",
       "      <td>56.700321</td>\n",
       "      <td>0.006369</td>\n",
       "    </tr>\n",
       "    <tr>\n",
       "      <th>wheelbas</th>\n",
       "      <td>107.487179</td>\n",
       "      <td>107.000</td>\n",
       "      <td>112.2</td>\n",
       "      <td>7.641303</td>\n",
       "      <td>0.006369</td>\n",
       "    </tr>\n",
       "    <tr>\n",
       "      <th>width</th>\n",
       "      <td>71.150000</td>\n",
       "      <td>70.550</td>\n",
       "      <td>66.7</td>\n",
       "      <td>3.451872</td>\n",
       "      <td>0.006369</td>\n",
       "    </tr>\n",
       "    <tr>\n",
       "      <th>length</th>\n",
       "      <td>187.343590</td>\n",
       "      <td>187.900</td>\n",
       "      <td>186.3</td>\n",
       "      <td>13.431754</td>\n",
       "      <td>0.006369</td>\n",
       "    </tr>\n",
       "    <tr>\n",
       "      <th>curb_wgt</th>\n",
       "      <td>3.378026</td>\n",
       "      <td>3.342</td>\n",
       "      <td>2.769</td>\n",
       "      <td>0.630502</td>\n",
       "      <td>0.012739</td>\n",
       "    </tr>\n",
       "    <tr>\n",
       "      <th>fuel_cap</th>\n",
       "      <td>17.951923</td>\n",
       "      <td>17.200</td>\n",
       "      <td>18.5</td>\n",
       "      <td>3.887921</td>\n",
       "      <td>0.006369</td>\n",
       "    </tr>\n",
       "    <tr>\n",
       "      <th>mpg</th>\n",
       "      <td>23.844156</td>\n",
       "      <td>24.000</td>\n",
       "      <td>25.0</td>\n",
       "      <td>4.282706</td>\n",
       "      <td>0.019108</td>\n",
       "    </tr>\n",
       "  </tbody>\n",
       "</table>\n",
       "</div>"
      ],
      "text/plain": [
       "                Mean   Median   Mode  Standard deviation  Missing Rate\n",
       "# ID       79.000000   79.000      1           45.466105      0.000000\n",
       "sales      52.998076   29.450   0.11           68.029422      0.000000\n",
       "resale     18.072975   14.180   7.75           11.453384      0.229299\n",
       "price      27.390755   22.799  12.64           14.351653      0.012739\n",
       "engine_s    3.060897    3.000    2.0            1.044653      0.006369\n",
       "horsepow  185.948718  177.500  150.0           56.700321      0.006369\n",
       "wheelbas  107.487179  107.000  112.2            7.641303      0.006369\n",
       "width      71.150000   70.550   66.7            3.451872      0.006369\n",
       "length    187.343590  187.900  186.3           13.431754      0.006369\n",
       "curb_wgt    3.378026    3.342  2.769            0.630502      0.012739\n",
       "fuel_cap   17.951923   17.200   18.5            3.887921      0.006369\n",
       "mpg        23.844156   24.000   25.0            4.282706      0.019108"
      ]
     },
     "execution_count": 417,
     "metadata": {},
     "output_type": "execute_result"
    }
   ],
   "source": [
    "EDA_dataframe"
   ]
  },
  {
   "attachments": {},
   "cell_type": "markdown",
   "metadata": {},
   "source": [
    "We can also write a function such that it returns us a dataframe with the required datapoints for Exploratory Data Analysis"
   ]
  },
  {
   "cell_type": "code",
   "execution_count": 418,
   "metadata": {},
   "outputs": [],
   "source": [
    "def exploratory_data_analysis(dataframe = rawdata_copy):\n",
    "    \n",
    "    mean = dataframe.mean()\n",
    "    median = dataframe.median()\n",
    "    mode  = dataframe.mode().iloc[0]\n",
    "    standard_deviation = dataframe.std()\n",
    "    nonmissing_values = dataframe.count()\n",
    "    total_valus = len(dataframe.index)\n",
    "    missingrate = 1 - (dataframe.count()/len(dataframe.index))\n",
    "    \n",
    "    EDA_dataframe = pd.DataFrame()\n",
    "    \n",
    "    EDA_dataframe.insert(loc= 0, column = 'Mean', value = mean)\n",
    "    EDA_dataframe.insert(loc= 1, column = 'Median', value = median)\n",
    "    EDA_dataframe.insert(loc= 2, column = 'Mode', value = mode)\n",
    "    EDA_dataframe.insert(loc= 3, column = 'Standard deviation', value = standard_deviation)\n",
    "    EDA_dataframe.insert(loc=4, column = 'Count of Non Missing Values', value = nonmissing_values)\n",
    "    EDA_dataframe.insert(loc=5, column = 'Total Values', value = total_valus)\n",
    "    EDA_dataframe.insert(loc=6, column = 'Missing Rate', value = missingrate)\n",
    "    \n",
    "    return EDA_dataframe\n"
   ]
  },
  {
   "attachments": {},
   "cell_type": "markdown",
   "metadata": {},
   "source": [
    "# **Skewness and Outlier**\n",
    "    "
   ]
  },
  {
   "attachments": {},
   "cell_type": "markdown",
   "metadata": {},
   "source": [
    "**Detetcing Skewness** \n",
    "\n",
    "We can detect skewness by visualizing our data set's distribution and Manually Flagging those columns of the dataframe whose data is skewed"
   ]
  },
  {
   "attachments": {},
   "cell_type": "markdown",
   "metadata": {},
   "source": [
    "Import the seaborn package which is required for data visualization."
   ]
  },
  {
   "cell_type": "code",
   "execution_count": 419,
   "metadata": {},
   "outputs": [],
   "source": [
    "import matplotlib.pyplot as plt\n",
    "import seaborn as sns"
   ]
  },
  {
   "attachments": {},
   "cell_type": "markdown",
   "metadata": {},
   "source": [
    "Using the sns.displot() method we can plot the the frequency distribution of the column values. We can further combine this with for loops to get a distribution for all the columns in a dataframe."
   ]
  },
  {
   "cell_type": "code",
   "execution_count": 420,
   "metadata": {},
   "outputs": [],
   "source": [
    "numerical_columns = ['sales', 'resale', 'price', 'engine_s', 'horsepow', 'wheelbas', 'width', 'length', 'curb_wgt',  'fuel_cap', 'mpg']"
   ]
  },
  {
   "cell_type": "code",
   "execution_count": 421,
   "metadata": {},
   "outputs": [
    {
     "data": {
      "image/png": "[encoded data removed]",
      "text/plain": [
       "<Figure size 500x500 with 1 Axes>"
      ]
     },
     "metadata": {},
     "output_type": "display_data"
    },
    {
     "data": {
      "image/png": "[encoded data removed]",
      "text/plain": [
       "<Figure size 500x500 with 1 Axes>"
      ]
     },
     "metadata": {},
     "output_type": "display_data"
    },
    {
     "data": {
      "image/png": "[encoded data removed]",
      "text/plain": [
       "<Figure size 500x500 with 1 Axes>"
      ]
     },
     "metadata": {},
     "output_type": "display_data"
    },
    {
     "data": {
      "image/png": "[encoded data removed]",
      "text/plain": [
       "<Figure size 500x500 with 1 Axes>"
      ]
     },
     "metadata": {},
     "output_type": "display_data"
    },
    {
     "data": {
      "image/png": "[encoded data removed]",
      "text/plain": [
       "<Figure size 500x500 with 1 Axes>"
      ]
     },
     "metadata": {},
     "output_type": "display_data"
    },
    {
     "data": {
      "image/png": "[encoded data removed]",
      "text/plain": [
       "<Figure size 500x500 with 1 Axes>"
      ]
     },
     "metadata": {},
     "output_type": "display_data"
    },
    {
     "data": {
      "image/png": "[encoded data removed]",
      "text/plain": [
       "<Figure size 500x500 with 1 Axes>"
      ]
     },
     "metadata": {},
     "output_type": "display_data"
    },
    {
     "data": {
      "image/png": "[encoded data removed]",
      "text/plain": [
       "<Figure size 500x500 with 1 Axes>"
      ]
     },
     "metadata": {},
     "output_type": "display_data"
    },
    {
     "data": {
      "image/png": "[encoded data removed]",
      "text/plain": [
       "<Figure size 500x500 with 1 Axes>"
      ]
     },
     "metadata": {},
     "output_type": "display_data"
    },
    {
     "data": {
      "image/png": "[encoded data removed]",
      "text/plain": [
       "<Figure size 500x500 with 1 Axes>"
      ]
     },
     "metadata": {},
     "output_type": "display_data"
    },
    {
     "data": {
      "image/png": "[encoded data removed]",
      "text/plain": [
       "<Figure size 500x500 with 1 Axes>"
      ]
     },
     "metadata": {},
     "output_type": "display_data"
    }
   ],
   "source": [
    "for i in numerical_columns:\n",
    "    sns.displot(data = rawdata[i])"
   ]
  },
  {
   "attachments": {},
   "cell_type": "markdown",
   "metadata": {},
   "source": [
    "Now, after analyzing the skew in the above distributions we can manually make a note of the datasets that are skewed and flag them for further reference."
   ]
  },
  {
   "attachments": {},
   "cell_type": "markdown",
   "metadata": {},
   "source": [
    "For Example,"
   ]
  },
  {
   "cell_type": "code",
   "execution_count": 422,
   "metadata": {},
   "outputs": [],
   "source": [
    "skewness_dict = {'sales' : 'Is Skewed', 'length' : 'Is not Skewed'}"
   ]
  },
  {
   "cell_type": "code",
   "execution_count": 423,
   "metadata": {},
   "outputs": [
    {
     "data": {
      "text/plain": [
       "{'sales': 'Is Skewed', 'length': 'Is not Skewed'}"
      ]
     },
     "execution_count": 423,
     "metadata": {},
     "output_type": "execute_result"
    }
   ],
   "source": [
    "skewness_dict"
   ]
  },
  {
   "attachments": {},
   "cell_type": "markdown",
   "metadata": {},
   "source": [
    "# **Detecing Outliers** \n",
    "Outliers are those datapoints that have fallen outside the upper and lower bounds as per the IQR Proximity Rule. There are two ways that we can detect outliers:\n",
    "\n",
    "1. We can write a function on the basis of the Inter Quantal Range Proximity Rule\n",
    "\n",
    "OR\n",
    "        \n",
    "2. By plotting a box plot and manually counting for the number of outliers.**"
   ]
  },
  {
   "attachments": {},
   "cell_type": "markdown",
   "metadata": {},
   "source": [
    "Below mentioned is a function that return us the value of the outliers, number of outliers, the 1st and the 3rd quartile values in the data set, the IQR range and the upper and lower bounds for the data set"
   ]
  },
  {
   "attachments": {},
   "cell_type": "markdown",
   "metadata": {},
   "source": [
    "Step 1\n",
    "\n",
    "     We first need to sort the data by using the np.sort() method.\n",
    "\n",
    "Step 2\n",
    "\n",
    "    Secondly, we use the np.nanpercentile() method to calculate the 1st Quartile and 3rd Quartile values.\n",
    "\n",
    "Step 3\n",
    "\n",
    "    And subsequently, we find the IQR for calculating the difference between Quartile 1 and Quartile 3.\n",
    "\n",
    "Step 4\n",
    "    \n",
    "    We calculate the Upper and Lower bounds by using the IQR Proximity Formula.\n",
    "\n",
    "Step 5\n",
    "\n",
    "    We find the outliers by first creating an empty list. And then use if, elif and else statements along with a for loop to append outliers to the empty list created.\n",
    "\n",
    "Step 6\n",
    "\n",
    "    We can further use the len() method on the outliers list that was created in the previous step to calculate the number of outliers in the dataset."
   ]
  },
  {
   "cell_type": "code",
   "execution_count": 424,
   "metadata": {},
   "outputs": [],
   "source": [
    "    \n",
    "def find_outliers(dataframe, column_name):\n",
    "        \n",
    "    data = dataframe[column_name]\n",
    "    sorted_columns = np.sort(data)\n",
    "\n",
    "    Q3 = np.nanpercentile(a= sorted_columns, q = 75, interpolation= 'midpoint')\n",
    "    Q1 = np.nanpercentile(a= sorted_columns, q = 25, interpolation= 'midpoint')\n",
    "    IQR = Q3 - Q1\n",
    "    upperbound = Q3 + 1.5 * IQR\n",
    "    lowerbound = Q1 - 1.5 * IQR\n",
    "\n",
    "    outliers = []\n",
    "\n",
    "    for i in sorted_columns:\n",
    "        if i > upperbound:\n",
    "            outliers.append(i)\n",
    "        elif i < lowerbound:\n",
    "            outliers.append(i)\n",
    "        elif i == np.isnan:\n",
    "            pass\n",
    "        else:\n",
    "            pass\n",
    "\n",
    "    outlier_count = len(outliers)\n",
    "    \n",
    "    # Statements\n",
    "    outlier_statement = f'{outliers} are the outliers for {column_name}'\n",
    "    outlier_count_statement = f'There are {outlier_count} ouliers in this column'\n",
    "    first_quartile_statement = f'Q1 is {Q1}'\n",
    "    thrid_quartile_statement = f'Q3 is {Q3}'\n",
    "    IQR_statement = f'IQR is {IQR}'\n",
    "    upperbound_statement = f'Upper Bound is {upperbound}'\n",
    "    lowerbound_statement = f'Lower Bound is {lowerbound}' \n",
    "    \n",
    "    return outlier_statement, outlier_count_statement, first_quartile_statement, thrid_quartile_statement, IQR_statement, upperbound_statement, lowerbound_statement\n"
   ]
  },
  {
   "attachments": {},
   "cell_type": "markdown",
   "metadata": {},
   "source": [
    "We can apply the above written function to our columns individually to get a representation of the outliers in that column"
   ]
  },
  {
   "cell_type": "code",
   "execution_count": 425,
   "metadata": {},
   "outputs": [
    {
     "data": {
      "text/plain": [
       "('[155.787, 157.04, 175.67, 181.749, 199.685, 220.65, 227.061, 230.902, 245.815, 247.994, 276.747, 540.561] are the outliers for sales',\n",
       " 'There are 12 ouliers in this column',\n",
       " 'Q1 is 14.114',\n",
       " 'Q3 is 67.956',\n",
       " 'IQR is 53.842',\n",
       " 'Upper Bound is 148.719',\n",
       " 'Lower Bound is -66.649')"
      ]
     },
     "execution_count": 425,
     "metadata": {},
     "output_type": "execute_result"
    }
   ],
   "source": [
    "find_outliers(rawdata, 'sales')"
   ]
  },
  {
   "cell_type": "code",
   "execution_count": 426,
   "metadata": {},
   "outputs": [
    {
     "data": {
      "text/plain": [
       "('[34.08, 36.125, 36.225, 39.0, 40.375, 41.25, 41.45, 50.375, 58.47, 58.6, 60.625, 67.55] are the outliers for resale',\n",
       " 'There are 12 ouliers in this column',\n",
       " 'Q1 is 11.26',\n",
       " 'Q3 is 19.875',\n",
       " 'IQR is 8.615',\n",
       " 'Upper Bound is 32.7975',\n",
       " 'Lower Bound is -1.6624999999999996')"
      ]
     },
     "execution_count": 426,
     "metadata": {},
     "output_type": "execute_result"
    }
   ],
   "source": [
    "find_outliers(rawdata, 'resale')"
   ]
  },
  {
   "cell_type": "code",
   "execution_count": 427,
   "metadata": {},
   "outputs": [
    {
     "data": {
      "text/plain": [
       "('[54.005, 60.105, 62.0, 69.7, 69.725, 71.02, 74.97, 82.6, 85.5] are the outliers for price',\n",
       " 'There are 9 ouliers in this column',\n",
       " 'Q1 is 18.0175',\n",
       " 'Q3 is 31.947499999999998',\n",
       " 'IQR is 13.93',\n",
       " 'Upper Bound is 52.8425',\n",
       " 'Lower Bound is -2.8775000000000013')"
      ]
     },
     "execution_count": 427,
     "metadata": {},
     "output_type": "execute_result"
    }
   ],
   "source": [
    "find_outliers(rawdata, 'price')"
   ]
  },
  {
   "cell_type": "code",
   "execution_count": 428,
   "metadata": {},
   "outputs": [
    {
     "data": {
      "text/plain": [
       "('[5.7, 5.7, 8.0] are the outliers for engine_s',\n",
       " 'There are 3 ouliers in this column',\n",
       " 'Q1 is 2.3',\n",
       " 'Q3 is 3.65',\n",
       " 'IQR is 1.35',\n",
       " 'Upper Bound is 5.675000000000001',\n",
       " 'Lower Bound is 0.27499999999999947')"
      ]
     },
     "execution_count": 428,
     "metadata": {},
     "output_type": "execute_result"
    }
   ],
   "source": [
    "find_outliers(rawdata, 'engine_s')"
   ]
  },
  {
   "cell_type": "code",
   "execution_count": 429,
   "metadata": {},
   "outputs": [
    {
     "data": {
      "text/plain": [
       "('[345.0, 450.0] are the outliers for horsepow',\n",
       " 'There are 2 ouliers in this column',\n",
       " 'Q1 is 149.0',\n",
       " 'Q3 is 215.0',\n",
       " 'IQR is 66.0',\n",
       " 'Upper Bound is 314.0',\n",
       " 'Lower Bound is 50.0')"
      ]
     },
     "execution_count": 429,
     "metadata": {},
     "output_type": "execute_result"
    }
   ],
   "source": [
    "find_outliers(rawdata, 'horsepow')"
   ]
  },
  {
   "cell_type": "code",
   "execution_count": 430,
   "metadata": {},
   "outputs": [
    {
     "data": {
      "text/plain": [
       "('[127.2, 131.0, 138.5, 138.7] are the outliers for wheelbas',\n",
       " 'There are 4 ouliers in this column',\n",
       " 'Q1 is 103.0',\n",
       " 'Q3 is 112.2',\n",
       " 'IQR is 9.200000000000003',\n",
       " 'Upper Bound is 126.0',\n",
       " 'Lower Bound is 89.19999999999999')"
      ]
     },
     "execution_count": 430,
     "metadata": {},
     "output_type": "execute_result"
    }
   ],
   "source": [
    "find_outliers(rawdata, 'wheelbas')"
   ]
  },
  {
   "cell_type": "code",
   "execution_count": 431,
   "metadata": {},
   "outputs": [
    {
     "data": {
      "text/plain": [
       "('[] are the outliers for width',\n",
       " 'There are 0 ouliers in this column',\n",
       " 'Q1 is 68.4',\n",
       " 'Q3 is 73.45',\n",
       " 'IQR is 5.049999999999997',\n",
       " 'Upper Bound is 81.025',\n",
       " 'Lower Bound is 60.82500000000001')"
      ]
     },
     "execution_count": 431,
     "metadata": {},
     "output_type": "execute_result"
    }
   ],
   "source": [
    "find_outliers(rawdata, 'width')"
   ]
  },
  {
   "cell_type": "code",
   "execution_count": 432,
   "metadata": {},
   "outputs": [
    {
     "data": {
      "text/plain": [
       "('[149.4, 224.2, 224.5] are the outliers for length',\n",
       " 'There are 3 ouliers in this column',\n",
       " 'Q1 is 177.55',\n",
       " 'Q3 is 196.14999999999998',\n",
       " 'IQR is 18.599999999999966',\n",
       " 'Upper Bound is 224.04999999999993',\n",
       " 'Lower Bound is 149.65000000000006')"
      ]
     },
     "execution_count": 432,
     "metadata": {},
     "output_type": "execute_result"
    }
   ],
   "source": [
    "find_outliers(rawdata, 'length')"
   ]
  },
  {
   "cell_type": "code",
   "execution_count": 433,
   "metadata": {},
   "outputs": [
    {
     "data": {
      "text/plain": [
       "('[5.115, 5.393, 5.401, 5.572] are the outliers for curb_wgt',\n",
       " 'There are 4 ouliers in this column',\n",
       " 'Q1 is 2.971',\n",
       " 'Q3 is 3.7995',\n",
       " 'IQR is 0.8285',\n",
       " 'Upper Bound is 5.04225',\n",
       " 'Lower Bound is 1.72825')"
      ]
     },
     "execution_count": 433,
     "metadata": {},
     "output_type": "execute_result"
    }
   ],
   "source": [
    "find_outliers(rawdata, 'curb_wgt')"
   ]
  },
  {
   "cell_type": "code",
   "execution_count": 434,
   "metadata": {},
   "outputs": [
    {
     "data": {
      "text/plain": [
       "('[26.0, 26.0, 26.0, 30.0, 30.0, 32.0, 32.0] are the outliers for fuel_cap',\n",
       " 'There are 7 ouliers in this column',\n",
       " 'Q1 is 15.8',\n",
       " 'Q3 is 19.65',\n",
       " 'IQR is 3.849999999999998',\n",
       " 'Upper Bound is 25.424999999999997',\n",
       " 'Lower Bound is 10.025000000000004')"
      ]
     },
     "execution_count": 434,
     "metadata": {},
     "output_type": "execute_result"
    }
   ],
   "source": [
    "find_outliers(rawdata, 'fuel_cap')"
   ]
  },
  {
   "cell_type": "code",
   "execution_count": 435,
   "metadata": {},
   "outputs": [
    {
     "data": {
      "text/plain": [
       "('[45.0] are the outliers for mpg',\n",
       " 'There are 1 ouliers in this column',\n",
       " 'Q1 is 21.0',\n",
       " 'Q3 is 26.0',\n",
       " 'IQR is 5.0',\n",
       " 'Upper Bound is 33.5',\n",
       " 'Lower Bound is 13.5')"
      ]
     },
     "execution_count": 435,
     "metadata": {},
     "output_type": "execute_result"
    }
   ],
   "source": [
    "find_outliers(rawdata, 'mpg')"
   ]
  },
  {
   "attachments": {},
   "cell_type": "markdown",
   "metadata": {},
   "source": [
    "**Plotting Box Plots to visually represent the outliers in the dataset.**"
   ]
  },
  {
   "attachments": {},
   "cell_type": "markdown",
   "metadata": {},
   "source": [
    "We can use the sns.boxplot() function and pass in the pandas series(Column of the DataFrame) as an argument to the data parameter"
   ]
  },
  {
   "cell_type": "code",
   "execution_count": 436,
   "metadata": {},
   "outputs": [
    {
     "data": {
      "text/plain": [
       "<AxesSubplot:>"
      ]
     },
     "execution_count": 436,
     "metadata": {},
     "output_type": "execute_result"
    },
    {
     "data": {
      "image/png": "[encoded data removed]",
      "text/plain": [
       "<Figure size 640x480 with 1 Axes>"
      ]
     },
     "metadata": {},
     "output_type": "display_data"
    }
   ],
   "source": [
    "sns.boxplot(data= rawdata['sales'])"
   ]
  },
  {
   "cell_type": "code",
   "execution_count": 437,
   "metadata": {},
   "outputs": [
    {
     "data": {
      "text/plain": [
       "<AxesSubplot:>"
      ]
     },
     "execution_count": 437,
     "metadata": {},
     "output_type": "execute_result"
    },
    {
     "data": {
      "image/png": "[encoded data removed]",
      "text/plain": [
       "<Figure size 640x480 with 1 Axes>"
      ]
     },
     "metadata": {},
     "output_type": "display_data"
    }
   ],
   "source": [
    "sns.boxplot(data= rawdata['resale'])"
   ]
  },
  {
   "attachments": {},
   "cell_type": "markdown",
   "metadata": {},
   "source": [
    "# **Partioning Data**\n",
    "In the data partioning procedure we need to first split the raw data into 3 groups. The first is training data, the second is validation data, and the third is testing data."
   ]
  },
  {
   "attachments": {},
   "cell_type": "markdown",
   "metadata": {},
   "source": [
    "We use Scikit Learn's train_test_split method for data partitioning. Unfortunately in Python we do not have the ability an inbuilt function to split the data into training, validation and testing. Hence we can use the train_test_split method twice to get the same results"
   ]
  },
  {
   "attachments": {},
   "cell_type": "markdown",
   "metadata": {},
   "source": [
    "## **Step 1**\n",
    "\n",
    "Firstly import the train_test_split function from the scikit learn library's model_selection module"
   ]
  },
  {
   "cell_type": "code",
   "execution_count": 438,
   "metadata": {},
   "outputs": [],
   "source": [
    "from sklearn.model_selection import train_test_split"
   ]
  },
  {
   "attachments": {},
   "cell_type": "markdown",
   "metadata": {},
   "source": [
    "## **Step 2**\n",
    "Secondly, as mentioned we need to use the train_test_split function 2 times to create the training, validation and the testing datasets."
   ]
  },
  {
   "cell_type": "code",
   "execution_count": 439,
   "metadata": {},
   "outputs": [],
   "source": [
    "training_and_validation_dataset, testing_dataset = train_test_split(rawdata_copy, train_size= 0.8, test_size= 0.2 )\n",
    "training_dataset, validation_dataset = train_test_split(training_and_validation_dataset, train_size= 0.75, test_size= 0.25)"
   ]
  },
  {
   "attachments": {},
   "cell_type": "markdown",
   "metadata": {},
   "source": [
    "## **Step 3**\n",
    "\n",
    "View the dimensions and visual representation of the 3 datasets compared to the original dataset to verify if the function has been performed correctly"
   ]
  },
  {
   "cell_type": "code",
   "execution_count": 440,
   "metadata": {},
   "outputs": [
    {
     "name": "stdout",
     "output_type": "stream",
     "text": [
      "(157, 14)\n",
      "(93, 14)\n",
      "(32, 14)\n",
      "(32, 14)\n"
     ]
    }
   ],
   "source": [
    "print(rawdata_copy.shape)\n",
    "print(training_dataset.shape)\n",
    "print(validation_dataset.shape)\n",
    "print(testing_dataset.shape)"
   ]
  },
  {
   "attachments": {},
   "cell_type": "markdown",
   "metadata": {},
   "source": [
    "We can just use the dataframe.squeeze() method to compress and view the data. This is better than using dataframe.head() because the dataframe.head() method does not display the amount of rows and columns in the dataframe."
   ]
  },
  {
   "cell_type": "code",
   "execution_count": 441,
   "metadata": {},
   "outputs": [
    {
     "data": {
      "text/html": [
       "<div>\n",
       "<style scoped>\n",
       "    .dataframe tbody tr th:only-of-type {\n",
       "        vertical-align: middle;\n",
       "    }\n",
       "\n",
       "    .dataframe tbody tr th {\n",
       "        vertical-align: top;\n",
       "    }\n",
       "\n",
       "    .dataframe thead th {\n",
       "        text-align: right;\n",
       "    }\n",
       "</style>\n",
       "<table border=\"1\" class=\"dataframe\">\n",
       "  <thead>\n",
       "    <tr style=\"text-align: right;\">\n",
       "      <th></th>\n",
       "      <th>manufact</th>\n",
       "      <th>model</th>\n",
       "      <th>sales</th>\n",
       "      <th>resale</th>\n",
       "      <th>type</th>\n",
       "      <th>price</th>\n",
       "      <th>engine_s</th>\n",
       "      <th>horsepow</th>\n",
       "      <th>wheelbas</th>\n",
       "      <th>width</th>\n",
       "      <th>length</th>\n",
       "      <th>curb_wgt</th>\n",
       "      <th>fuel_cap</th>\n",
       "      <th>mpg</th>\n",
       "    </tr>\n",
       "  </thead>\n",
       "  <tbody>\n",
       "    <tr>\n",
       "      <th>136</th>\n",
       "      <td>Toyota</td>\n",
       "      <td>Corolla</td>\n",
       "      <td>142.535</td>\n",
       "      <td>10.025</td>\n",
       "      <td>Automobile</td>\n",
       "      <td>13.108</td>\n",
       "      <td>1.8</td>\n",
       "      <td>120.0</td>\n",
       "      <td>97.0</td>\n",
       "      <td>66.7</td>\n",
       "      <td>174.0</td>\n",
       "      <td>2.420</td>\n",
       "      <td>13.2</td>\n",
       "      <td>33.0</td>\n",
       "    </tr>\n",
       "    <tr>\n",
       "      <th>77</th>\n",
       "      <td>Lincoln</td>\n",
       "      <td>Town car</td>\n",
       "      <td>48.911</td>\n",
       "      <td>21.725</td>\n",
       "      <td>Automobile</td>\n",
       "      <td>43.330</td>\n",
       "      <td>4.6</td>\n",
       "      <td>215.0</td>\n",
       "      <td>117.7</td>\n",
       "      <td>78.2</td>\n",
       "      <td>215.3</td>\n",
       "      <td>4.121</td>\n",
       "      <td>19.0</td>\n",
       "      <td>21.0</td>\n",
       "    </tr>\n",
       "    <tr>\n",
       "      <th>43</th>\n",
       "      <td>Dodge</td>\n",
       "      <td>Dakota</td>\n",
       "      <td>111.313</td>\n",
       "      <td>11.260</td>\n",
       "      <td>Truck</td>\n",
       "      <td>16.980</td>\n",
       "      <td>2.5</td>\n",
       "      <td>120.0</td>\n",
       "      <td>131.0</td>\n",
       "      <td>71.5</td>\n",
       "      <td>215.0</td>\n",
       "      <td>3.557</td>\n",
       "      <td>22.0</td>\n",
       "      <td>19.0</td>\n",
       "    </tr>\n",
       "    <tr>\n",
       "      <th>38</th>\n",
       "      <td>Dodge</td>\n",
       "      <td>Intrepid</td>\n",
       "      <td>88.028</td>\n",
       "      <td>12.275</td>\n",
       "      <td>Automobile</td>\n",
       "      <td>22.505</td>\n",
       "      <td>2.7</td>\n",
       "      <td>202.0</td>\n",
       "      <td>113.0</td>\n",
       "      <td>74.7</td>\n",
       "      <td>203.7</td>\n",
       "      <td>3.489</td>\n",
       "      <td>17.0</td>\n",
       "      <td>NaN</td>\n",
       "    </tr>\n",
       "    <tr>\n",
       "      <th>138</th>\n",
       "      <td>Toyota</td>\n",
       "      <td>Avalon</td>\n",
       "      <td>63.849</td>\n",
       "      <td>18.140</td>\n",
       "      <td>Automobile</td>\n",
       "      <td>25.545</td>\n",
       "      <td>3.0</td>\n",
       "      <td>210.0</td>\n",
       "      <td>107.1</td>\n",
       "      <td>71.7</td>\n",
       "      <td>191.9</td>\n",
       "      <td>3.417</td>\n",
       "      <td>18.5</td>\n",
       "      <td>26.0</td>\n",
       "    </tr>\n",
       "    <tr>\n",
       "      <th>...</th>\n",
       "      <td>...</td>\n",
       "      <td>...</td>\n",
       "      <td>...</td>\n",
       "      <td>...</td>\n",
       "      <td>...</td>\n",
       "      <td>...</td>\n",
       "      <td>...</td>\n",
       "      <td>...</td>\n",
       "      <td>...</td>\n",
       "      <td>...</td>\n",
       "      <td>...</td>\n",
       "      <td>...</td>\n",
       "      <td>...</td>\n",
       "      <td>...</td>\n",
       "    </tr>\n",
       "    <tr>\n",
       "      <th>146</th>\n",
       "      <td>Volkswagen</td>\n",
       "      <td>Jetta</td>\n",
       "      <td>83.721</td>\n",
       "      <td>13.240</td>\n",
       "      <td>Automobile</td>\n",
       "      <td>16.700</td>\n",
       "      <td>2.0</td>\n",
       "      <td>115.0</td>\n",
       "      <td>98.9</td>\n",
       "      <td>68.3</td>\n",
       "      <td>172.3</td>\n",
       "      <td>2.853</td>\n",
       "      <td>14.5</td>\n",
       "      <td>26.0</td>\n",
       "    </tr>\n",
       "    <tr>\n",
       "      <th>90</th>\n",
       "      <td>Mercury</td>\n",
       "      <td>Mountaineer</td>\n",
       "      <td>27.609</td>\n",
       "      <td>20.430</td>\n",
       "      <td>Truck</td>\n",
       "      <td>27.560</td>\n",
       "      <td>4.0</td>\n",
       "      <td>210.0</td>\n",
       "      <td>111.6</td>\n",
       "      <td>70.2</td>\n",
       "      <td>190.1</td>\n",
       "      <td>3.876</td>\n",
       "      <td>21.0</td>\n",
       "      <td>18.0</td>\n",
       "    </tr>\n",
       "    <tr>\n",
       "      <th>112</th>\n",
       "      <td>Oldsmobile</td>\n",
       "      <td>Bravada</td>\n",
       "      <td>20.017</td>\n",
       "      <td>19.925</td>\n",
       "      <td>Truck</td>\n",
       "      <td>31.598</td>\n",
       "      <td>4.3</td>\n",
       "      <td>190.0</td>\n",
       "      <td>107.0</td>\n",
       "      <td>67.8</td>\n",
       "      <td>181.2</td>\n",
       "      <td>4.068</td>\n",
       "      <td>17.5</td>\n",
       "      <td>19.0</td>\n",
       "    </tr>\n",
       "    <tr>\n",
       "      <th>96</th>\n",
       "      <td>Mercedes-Benz</td>\n",
       "      <td>SLK</td>\n",
       "      <td>7.998</td>\n",
       "      <td>NaN</td>\n",
       "      <td>Automobile</td>\n",
       "      <td>38.900</td>\n",
       "      <td>2.3</td>\n",
       "      <td>190.0</td>\n",
       "      <td>94.5</td>\n",
       "      <td>67.5</td>\n",
       "      <td>157.9</td>\n",
       "      <td>3.055</td>\n",
       "      <td>15.9</td>\n",
       "      <td>26.0</td>\n",
       "    </tr>\n",
       "    <tr>\n",
       "      <th>147</th>\n",
       "      <td>Volkswagen</td>\n",
       "      <td>Passat</td>\n",
       "      <td>51.102</td>\n",
       "      <td>16.725</td>\n",
       "      <td>Automobile</td>\n",
       "      <td>21.200</td>\n",
       "      <td>1.8</td>\n",
       "      <td>150.0</td>\n",
       "      <td>106.4</td>\n",
       "      <td>68.5</td>\n",
       "      <td>184.1</td>\n",
       "      <td>3.043</td>\n",
       "      <td>16.4</td>\n",
       "      <td>27.0</td>\n",
       "    </tr>\n",
       "  </tbody>\n",
       "</table>\n",
       "<p>93 rows × 14 columns</p>\n",
       "</div>"
      ],
      "text/plain": [
       "          manufact        model    sales  resale        type   price  \\\n",
       "136         Toyota      Corolla  142.535  10.025  Automobile  13.108   \n",
       "77         Lincoln     Town car   48.911  21.725  Automobile  43.330   \n",
       "43           Dodge       Dakota  111.313  11.260       Truck  16.980   \n",
       "38           Dodge     Intrepid   88.028  12.275  Automobile  22.505   \n",
       "138         Toyota       Avalon   63.849  18.140  Automobile  25.545   \n",
       "..             ...          ...      ...     ...         ...     ...   \n",
       "146     Volkswagen        Jetta   83.721  13.240  Automobile  16.700   \n",
       "90         Mercury  Mountaineer   27.609  20.430       Truck  27.560   \n",
       "112     Oldsmobile      Bravada   20.017  19.925       Truck  31.598   \n",
       "96   Mercedes-Benz          SLK    7.998     NaN  Automobile  38.900   \n",
       "147     Volkswagen       Passat   51.102  16.725  Automobile  21.200   \n",
       "\n",
       "     engine_s  horsepow  wheelbas  width  length  curb_wgt  fuel_cap   mpg  \n",
       "136       1.8     120.0      97.0   66.7   174.0     2.420      13.2  33.0  \n",
       "77        4.6     215.0     117.7   78.2   215.3     4.121      19.0  21.0  \n",
       "43        2.5     120.0     131.0   71.5   215.0     3.557      22.0  19.0  \n",
       "38        2.7     202.0     113.0   74.7   203.7     3.489      17.0   NaN  \n",
       "138       3.0     210.0     107.1   71.7   191.9     3.417      18.5  26.0  \n",
       "..        ...       ...       ...    ...     ...       ...       ...   ...  \n",
       "146       2.0     115.0      98.9   68.3   172.3     2.853      14.5  26.0  \n",
       "90        4.0     210.0     111.6   70.2   190.1     3.876      21.0  18.0  \n",
       "112       4.3     190.0     107.0   67.8   181.2     4.068      17.5  19.0  \n",
       "96        2.3     190.0      94.5   67.5   157.9     3.055      15.9  26.0  \n",
       "147       1.8     150.0     106.4   68.5   184.1     3.043      16.4  27.0  \n",
       "\n",
       "[93 rows x 14 columns]"
      ]
     },
     "execution_count": 441,
     "metadata": {},
     "output_type": "execute_result"
    }
   ],
   "source": [
    "training_dataset.squeeze()"
   ]
  },
  {
   "cell_type": "code",
   "execution_count": 442,
   "metadata": {},
   "outputs": [
    {
     "data": {
      "text/html": [
       "<div>\n",
       "<style scoped>\n",
       "    .dataframe tbody tr th:only-of-type {\n",
       "        vertical-align: middle;\n",
       "    }\n",
       "\n",
       "    .dataframe tbody tr th {\n",
       "        vertical-align: top;\n",
       "    }\n",
       "\n",
       "    .dataframe thead th {\n",
       "        text-align: right;\n",
       "    }\n",
       "</style>\n",
       "<table border=\"1\" class=\"dataframe\">\n",
       "  <thead>\n",
       "    <tr style=\"text-align: right;\">\n",
       "      <th></th>\n",
       "      <th>manufact</th>\n",
       "      <th>model</th>\n",
       "      <th>sales</th>\n",
       "      <th>resale</th>\n",
       "      <th>type</th>\n",
       "      <th>price</th>\n",
       "      <th>engine_s</th>\n",
       "      <th>horsepow</th>\n",
       "      <th>wheelbas</th>\n",
       "      <th>width</th>\n",
       "      <th>length</th>\n",
       "      <th>curb_wgt</th>\n",
       "      <th>fuel_cap</th>\n",
       "      <th>mpg</th>\n",
       "    </tr>\n",
       "  </thead>\n",
       "  <tbody>\n",
       "    <tr>\n",
       "      <th>64</th>\n",
       "      <td>Hyundai</td>\n",
       "      <td>Sonata</td>\n",
       "      <td>29.450</td>\n",
       "      <td>8.910</td>\n",
       "      <td>Automobile</td>\n",
       "      <td>14.999</td>\n",
       "      <td>2.4</td>\n",
       "      <td>148.0</td>\n",
       "      <td>106.3</td>\n",
       "      <td>71.6</td>\n",
       "      <td>185.4</td>\n",
       "      <td>3.072</td>\n",
       "      <td>17.2</td>\n",
       "      <td>25.0</td>\n",
       "    </tr>\n",
       "    <tr>\n",
       "      <th>67</th>\n",
       "      <td>Jeep</td>\n",
       "      <td>Wrangler</td>\n",
       "      <td>55.557</td>\n",
       "      <td>13.475</td>\n",
       "      <td>Truck</td>\n",
       "      <td>14.460</td>\n",
       "      <td>2.5</td>\n",
       "      <td>120.0</td>\n",
       "      <td>93.4</td>\n",
       "      <td>66.7</td>\n",
       "      <td>152.0</td>\n",
       "      <td>3.045</td>\n",
       "      <td>19.0</td>\n",
       "      <td>17.0</td>\n",
       "    </tr>\n",
       "    <tr>\n",
       "      <th>145</th>\n",
       "      <td>Volkswagen</td>\n",
       "      <td>Golf</td>\n",
       "      <td>9.761</td>\n",
       "      <td>11.425</td>\n",
       "      <td>Automobile</td>\n",
       "      <td>14.900</td>\n",
       "      <td>2.0</td>\n",
       "      <td>115.0</td>\n",
       "      <td>98.9</td>\n",
       "      <td>68.3</td>\n",
       "      <td>163.3</td>\n",
       "      <td>2.767</td>\n",
       "      <td>14.5</td>\n",
       "      <td>26.0</td>\n",
       "    </tr>\n",
       "    <tr>\n",
       "      <th>21</th>\n",
       "      <td>Chevrolet</td>\n",
       "      <td>Lumina</td>\n",
       "      <td>24.629</td>\n",
       "      <td>10.310</td>\n",
       "      <td>Automobile</td>\n",
       "      <td>18.890</td>\n",
       "      <td>3.1</td>\n",
       "      <td>175.0</td>\n",
       "      <td>107.5</td>\n",
       "      <td>72.5</td>\n",
       "      <td>200.9</td>\n",
       "      <td>3.330</td>\n",
       "      <td>16.6</td>\n",
       "      <td>25.0</td>\n",
       "    </tr>\n",
       "    <tr>\n",
       "      <th>139</th>\n",
       "      <td>Toyota</td>\n",
       "      <td>Celica</td>\n",
       "      <td>33.269</td>\n",
       "      <td>15.445</td>\n",
       "      <td>Automobile</td>\n",
       "      <td>16.875</td>\n",
       "      <td>1.8</td>\n",
       "      <td>140.0</td>\n",
       "      <td>102.4</td>\n",
       "      <td>68.3</td>\n",
       "      <td>170.5</td>\n",
       "      <td>2.425</td>\n",
       "      <td>14.5</td>\n",
       "      <td>31.0</td>\n",
       "    </tr>\n",
       "    <tr>\n",
       "      <th>110</th>\n",
       "      <td>Oldsmobile</td>\n",
       "      <td>Alero</td>\n",
       "      <td>80.255</td>\n",
       "      <td>NaN</td>\n",
       "      <td>Automobile</td>\n",
       "      <td>18.270</td>\n",
       "      <td>2.4</td>\n",
       "      <td>150.0</td>\n",
       "      <td>107.0</td>\n",
       "      <td>70.1</td>\n",
       "      <td>186.7</td>\n",
       "      <td>2.958</td>\n",
       "      <td>15.0</td>\n",
       "      <td>27.0</td>\n",
       "    </tr>\n",
       "    <tr>\n",
       "      <th>133</th>\n",
       "      <td>Saturn</td>\n",
       "      <td>LS</td>\n",
       "      <td>49.989</td>\n",
       "      <td>NaN</td>\n",
       "      <td>Automobile</td>\n",
       "      <td>15.010</td>\n",
       "      <td>2.2</td>\n",
       "      <td>137.0</td>\n",
       "      <td>106.5</td>\n",
       "      <td>69.0</td>\n",
       "      <td>190.4</td>\n",
       "      <td>2.910</td>\n",
       "      <td>13.1</td>\n",
       "      <td>28.0</td>\n",
       "    </tr>\n",
       "    <tr>\n",
       "      <th>35</th>\n",
       "      <td>Dodge</td>\n",
       "      <td>Neon</td>\n",
       "      <td>76.034</td>\n",
       "      <td>7.750</td>\n",
       "      <td>Automobile</td>\n",
       "      <td>12.640</td>\n",
       "      <td>2.0</td>\n",
       "      <td>132.0</td>\n",
       "      <td>105.0</td>\n",
       "      <td>74.4</td>\n",
       "      <td>174.4</td>\n",
       "      <td>2.567</td>\n",
       "      <td>12.5</td>\n",
       "      <td>29.0</td>\n",
       "    </tr>\n",
       "    <tr>\n",
       "      <th>107</th>\n",
       "      <td>Nissan</td>\n",
       "      <td>Frontier</td>\n",
       "      <td>65.005</td>\n",
       "      <td>NaN</td>\n",
       "      <td>Truck</td>\n",
       "      <td>17.890</td>\n",
       "      <td>3.3</td>\n",
       "      <td>170.0</td>\n",
       "      <td>116.1</td>\n",
       "      <td>66.5</td>\n",
       "      <td>196.1</td>\n",
       "      <td>3.217</td>\n",
       "      <td>19.4</td>\n",
       "      <td>18.0</td>\n",
       "    </tr>\n",
       "    <tr>\n",
       "      <th>2</th>\n",
       "      <td>Acura</td>\n",
       "      <td>CL</td>\n",
       "      <td>14.114</td>\n",
       "      <td>18.225</td>\n",
       "      <td>Automobile</td>\n",
       "      <td>NaN</td>\n",
       "      <td>3.2</td>\n",
       "      <td>225.0</td>\n",
       "      <td>106.9</td>\n",
       "      <td>70.6</td>\n",
       "      <td>192.0</td>\n",
       "      <td>3.470</td>\n",
       "      <td>17.2</td>\n",
       "      <td>26.0</td>\n",
       "    </tr>\n",
       "    <tr>\n",
       "      <th>150</th>\n",
       "      <td>Volkswagen</td>\n",
       "      <td>Beetle</td>\n",
       "      <td>49.463</td>\n",
       "      <td>NaN</td>\n",
       "      <td>Automobile</td>\n",
       "      <td>15.900</td>\n",
       "      <td>2.0</td>\n",
       "      <td>115.0</td>\n",
       "      <td>98.9</td>\n",
       "      <td>67.9</td>\n",
       "      <td>161.1</td>\n",
       "      <td>2.769</td>\n",
       "      <td>14.5</td>\n",
       "      <td>26.0</td>\n",
       "    </tr>\n",
       "    <tr>\n",
       "      <th>72</th>\n",
       "      <td>Lexus</td>\n",
       "      <td>GS400</td>\n",
       "      <td>3.334</td>\n",
       "      <td>NaN</td>\n",
       "      <td>Automobile</td>\n",
       "      <td>46.305</td>\n",
       "      <td>4.0</td>\n",
       "      <td>300.0</td>\n",
       "      <td>110.2</td>\n",
       "      <td>70.9</td>\n",
       "      <td>189.2</td>\n",
       "      <td>3.693</td>\n",
       "      <td>19.8</td>\n",
       "      <td>21.0</td>\n",
       "    </tr>\n",
       "    <tr>\n",
       "      <th>68</th>\n",
       "      <td>Jeep</td>\n",
       "      <td>Cherokee</td>\n",
       "      <td>80.556</td>\n",
       "      <td>13.775</td>\n",
       "      <td>Truck</td>\n",
       "      <td>21.620</td>\n",
       "      <td>4.0</td>\n",
       "      <td>190.0</td>\n",
       "      <td>101.4</td>\n",
       "      <td>69.4</td>\n",
       "      <td>167.5</td>\n",
       "      <td>3.194</td>\n",
       "      <td>20.0</td>\n",
       "      <td>20.0</td>\n",
       "    </tr>\n",
       "    <tr>\n",
       "      <th>94</th>\n",
       "      <td>Mercedes-Benz</td>\n",
       "      <td>S-Class</td>\n",
       "      <td>16.774</td>\n",
       "      <td>50.375</td>\n",
       "      <td>Automobile</td>\n",
       "      <td>69.700</td>\n",
       "      <td>4.3</td>\n",
       "      <td>275.0</td>\n",
       "      <td>121.5</td>\n",
       "      <td>73.1</td>\n",
       "      <td>203.1</td>\n",
       "      <td>4.133</td>\n",
       "      <td>23.2</td>\n",
       "      <td>21.0</td>\n",
       "    </tr>\n",
       "    <tr>\n",
       "      <th>140</th>\n",
       "      <td>Toyota</td>\n",
       "      <td>Tacoma</td>\n",
       "      <td>84.087</td>\n",
       "      <td>9.575</td>\n",
       "      <td>Truck</td>\n",
       "      <td>11.528</td>\n",
       "      <td>2.4</td>\n",
       "      <td>142.0</td>\n",
       "      <td>103.3</td>\n",
       "      <td>66.5</td>\n",
       "      <td>178.7</td>\n",
       "      <td>2.580</td>\n",
       "      <td>15.1</td>\n",
       "      <td>23.0</td>\n",
       "    </tr>\n",
       "    <tr>\n",
       "      <th>15</th>\n",
       "      <td>Cadillac</td>\n",
       "      <td>Seville</td>\n",
       "      <td>15.943</td>\n",
       "      <td>27.100</td>\n",
       "      <td>Automobile</td>\n",
       "      <td>44.475</td>\n",
       "      <td>4.6</td>\n",
       "      <td>275.0</td>\n",
       "      <td>112.2</td>\n",
       "      <td>75.0</td>\n",
       "      <td>201.0</td>\n",
       "      <td>NaN</td>\n",
       "      <td>18.5</td>\n",
       "      <td>22.0</td>\n",
       "    </tr>\n",
       "    <tr>\n",
       "      <th>56</th>\n",
       "      <td>Ford</td>\n",
       "      <td>F-Series</td>\n",
       "      <td>540.561</td>\n",
       "      <td>15.075</td>\n",
       "      <td>Truck</td>\n",
       "      <td>26.935</td>\n",
       "      <td>4.6</td>\n",
       "      <td>220.0</td>\n",
       "      <td>138.5</td>\n",
       "      <td>79.1</td>\n",
       "      <td>224.5</td>\n",
       "      <td>4.241</td>\n",
       "      <td>25.1</td>\n",
       "      <td>18.0</td>\n",
       "    </tr>\n",
       "    <tr>\n",
       "      <th>97</th>\n",
       "      <td>Mercedes-Benz</td>\n",
       "      <td>SLK230</td>\n",
       "      <td>1.526</td>\n",
       "      <td>NaN</td>\n",
       "      <td>Automobile</td>\n",
       "      <td>41.000</td>\n",
       "      <td>2.3</td>\n",
       "      <td>185.0</td>\n",
       "      <td>94.5</td>\n",
       "      <td>67.5</td>\n",
       "      <td>157.3</td>\n",
       "      <td>2.975</td>\n",
       "      <td>14.0</td>\n",
       "      <td>27.0</td>\n",
       "    </tr>\n",
       "    <tr>\n",
       "      <th>36</th>\n",
       "      <td>Dodge</td>\n",
       "      <td>Avenger</td>\n",
       "      <td>4.734</td>\n",
       "      <td>12.545</td>\n",
       "      <td>Automobile</td>\n",
       "      <td>19.045</td>\n",
       "      <td>2.5</td>\n",
       "      <td>163.0</td>\n",
       "      <td>103.7</td>\n",
       "      <td>69.1</td>\n",
       "      <td>190.2</td>\n",
       "      <td>2.879</td>\n",
       "      <td>15.9</td>\n",
       "      <td>24.0</td>\n",
       "    </tr>\n",
       "    <tr>\n",
       "      <th>12</th>\n",
       "      <td>Buick</td>\n",
       "      <td>Park Avenue</td>\n",
       "      <td>27.851</td>\n",
       "      <td>20.190</td>\n",
       "      <td>Automobile</td>\n",
       "      <td>31.965</td>\n",
       "      <td>3.8</td>\n",
       "      <td>205.0</td>\n",
       "      <td>113.8</td>\n",
       "      <td>74.7</td>\n",
       "      <td>206.8</td>\n",
       "      <td>3.778</td>\n",
       "      <td>18.5</td>\n",
       "      <td>24.0</td>\n",
       "    </tr>\n",
       "    <tr>\n",
       "      <th>17</th>\n",
       "      <td>Cadillac</td>\n",
       "      <td>Catera</td>\n",
       "      <td>11.185</td>\n",
       "      <td>18.225</td>\n",
       "      <td>Automobile</td>\n",
       "      <td>31.010</td>\n",
       "      <td>3.0</td>\n",
       "      <td>200.0</td>\n",
       "      <td>107.4</td>\n",
       "      <td>70.3</td>\n",
       "      <td>194.8</td>\n",
       "      <td>3.770</td>\n",
       "      <td>18.0</td>\n",
       "      <td>22.0</td>\n",
       "    </tr>\n",
       "    <tr>\n",
       "      <th>82</th>\n",
       "      <td>Mitsubishi</td>\n",
       "      <td>Diamante</td>\n",
       "      <td>5.711</td>\n",
       "      <td>16.575</td>\n",
       "      <td>Automobile</td>\n",
       "      <td>24.997</td>\n",
       "      <td>3.5</td>\n",
       "      <td>210.0</td>\n",
       "      <td>107.1</td>\n",
       "      <td>70.3</td>\n",
       "      <td>194.1</td>\n",
       "      <td>3.443</td>\n",
       "      <td>19.0</td>\n",
       "      <td>22.0</td>\n",
       "    </tr>\n",
       "    <tr>\n",
       "      <th>86</th>\n",
       "      <td>Mercury</td>\n",
       "      <td>Mystique</td>\n",
       "      <td>14.351</td>\n",
       "      <td>8.800</td>\n",
       "      <td>Automobile</td>\n",
       "      <td>16.240</td>\n",
       "      <td>2.0</td>\n",
       "      <td>125.0</td>\n",
       "      <td>106.5</td>\n",
       "      <td>69.1</td>\n",
       "      <td>184.8</td>\n",
       "      <td>2.769</td>\n",
       "      <td>15.0</td>\n",
       "      <td>28.0</td>\n",
       "    </tr>\n",
       "    <tr>\n",
       "      <th>61</th>\n",
       "      <td>Honda</td>\n",
       "      <td>Odyssey</td>\n",
       "      <td>76.029</td>\n",
       "      <td>19.490</td>\n",
       "      <td>Truck</td>\n",
       "      <td>26.000</td>\n",
       "      <td>3.5</td>\n",
       "      <td>210.0</td>\n",
       "      <td>118.1</td>\n",
       "      <td>75.6</td>\n",
       "      <td>201.2</td>\n",
       "      <td>4.288</td>\n",
       "      <td>20.0</td>\n",
       "      <td>23.0</td>\n",
       "    </tr>\n",
       "    <tr>\n",
       "      <th>34</th>\n",
       "      <td>Chrysler</td>\n",
       "      <td>300M</td>\n",
       "      <td>30.696</td>\n",
       "      <td>NaN</td>\n",
       "      <td>Automobile</td>\n",
       "      <td>29.185</td>\n",
       "      <td>3.5</td>\n",
       "      <td>253.0</td>\n",
       "      <td>113.0</td>\n",
       "      <td>74.4</td>\n",
       "      <td>197.8</td>\n",
       "      <td>3.567</td>\n",
       "      <td>17.0</td>\n",
       "      <td>23.0</td>\n",
       "    </tr>\n",
       "    <tr>\n",
       "      <th>3</th>\n",
       "      <td>Acura</td>\n",
       "      <td>RL</td>\n",
       "      <td>8.588</td>\n",
       "      <td>29.725</td>\n",
       "      <td>Automobile</td>\n",
       "      <td>42.000</td>\n",
       "      <td>3.5</td>\n",
       "      <td>210.0</td>\n",
       "      <td>114.6</td>\n",
       "      <td>71.4</td>\n",
       "      <td>196.6</td>\n",
       "      <td>3.850</td>\n",
       "      <td>18.0</td>\n",
       "      <td>22.0</td>\n",
       "    </tr>\n",
       "    <tr>\n",
       "      <th>63</th>\n",
       "      <td>Hyundai</td>\n",
       "      <td>Elantra</td>\n",
       "      <td>66.692</td>\n",
       "      <td>7.825</td>\n",
       "      <td>Automobile</td>\n",
       "      <td>11.799</td>\n",
       "      <td>2.0</td>\n",
       "      <td>140.0</td>\n",
       "      <td>100.4</td>\n",
       "      <td>66.9</td>\n",
       "      <td>174.0</td>\n",
       "      <td>2.626</td>\n",
       "      <td>14.5</td>\n",
       "      <td>27.0</td>\n",
       "    </tr>\n",
       "    <tr>\n",
       "      <th>132</th>\n",
       "      <td>Saturn</td>\n",
       "      <td>LW</td>\n",
       "      <td>8.472</td>\n",
       "      <td>NaN</td>\n",
       "      <td>Automobile</td>\n",
       "      <td>18.835</td>\n",
       "      <td>2.2</td>\n",
       "      <td>137.0</td>\n",
       "      <td>106.5</td>\n",
       "      <td>69.0</td>\n",
       "      <td>190.4</td>\n",
       "      <td>3.075</td>\n",
       "      <td>13.1</td>\n",
       "      <td>27.0</td>\n",
       "    </tr>\n",
       "    <tr>\n",
       "      <th>28</th>\n",
       "      <td>Chrysler</td>\n",
       "      <td>Sebring Coupe</td>\n",
       "      <td>7.854</td>\n",
       "      <td>12.360</td>\n",
       "      <td>Automobile</td>\n",
       "      <td>19.840</td>\n",
       "      <td>2.5</td>\n",
       "      <td>163.0</td>\n",
       "      <td>103.7</td>\n",
       "      <td>69.7</td>\n",
       "      <td>190.9</td>\n",
       "      <td>2.967</td>\n",
       "      <td>15.9</td>\n",
       "      <td>24.0</td>\n",
       "    </tr>\n",
       "    <tr>\n",
       "      <th>51</th>\n",
       "      <td>Ford</td>\n",
       "      <td>Crown Victoria</td>\n",
       "      <td>63.403</td>\n",
       "      <td>14.210</td>\n",
       "      <td>Automobile</td>\n",
       "      <td>22.195</td>\n",
       "      <td>4.6</td>\n",
       "      <td>200.0</td>\n",
       "      <td>114.7</td>\n",
       "      <td>78.2</td>\n",
       "      <td>212.0</td>\n",
       "      <td>3.908</td>\n",
       "      <td>19.0</td>\n",
       "      <td>21.0</td>\n",
       "    </tr>\n",
       "    <tr>\n",
       "      <th>105</th>\n",
       "      <td>Nissan</td>\n",
       "      <td>Pathfinder</td>\n",
       "      <td>42.574</td>\n",
       "      <td>17.810</td>\n",
       "      <td>Truck</td>\n",
       "      <td>29.299</td>\n",
       "      <td>3.3</td>\n",
       "      <td>170.0</td>\n",
       "      <td>106.3</td>\n",
       "      <td>71.7</td>\n",
       "      <td>182.6</td>\n",
       "      <td>3.947</td>\n",
       "      <td>21.0</td>\n",
       "      <td>19.0</td>\n",
       "    </tr>\n",
       "    <tr>\n",
       "      <th>48</th>\n",
       "      <td>Ford</td>\n",
       "      <td>Contour</td>\n",
       "      <td>35.068</td>\n",
       "      <td>8.835</td>\n",
       "      <td>Automobile</td>\n",
       "      <td>17.035</td>\n",
       "      <td>2.5</td>\n",
       "      <td>170.0</td>\n",
       "      <td>106.5</td>\n",
       "      <td>69.1</td>\n",
       "      <td>184.6</td>\n",
       "      <td>2.769</td>\n",
       "      <td>15.0</td>\n",
       "      <td>25.0</td>\n",
       "    </tr>\n",
       "  </tbody>\n",
       "</table>\n",
       "</div>"
      ],
      "text/plain": [
       "          manufact           model    sales  resale        type   price  \\\n",
       "64         Hyundai          Sonata   29.450   8.910  Automobile  14.999   \n",
       "67            Jeep        Wrangler   55.557  13.475       Truck  14.460   \n",
       "145     Volkswagen            Golf    9.761  11.425  Automobile  14.900   \n",
       "21       Chevrolet          Lumina   24.629  10.310  Automobile  18.890   \n",
       "139         Toyota          Celica   33.269  15.445  Automobile  16.875   \n",
       "110     Oldsmobile           Alero   80.255     NaN  Automobile  18.270   \n",
       "133         Saturn              LS   49.989     NaN  Automobile  15.010   \n",
       "35           Dodge            Neon   76.034   7.750  Automobile  12.640   \n",
       "107         Nissan        Frontier   65.005     NaN       Truck  17.890   \n",
       "2            Acura              CL   14.114  18.225  Automobile     NaN   \n",
       "150     Volkswagen          Beetle   49.463     NaN  Automobile  15.900   \n",
       "72           Lexus           GS400    3.334     NaN  Automobile  46.305   \n",
       "68            Jeep        Cherokee   80.556  13.775       Truck  21.620   \n",
       "94   Mercedes-Benz         S-Class   16.774  50.375  Automobile  69.700   \n",
       "140         Toyota          Tacoma   84.087   9.575       Truck  11.528   \n",
       "15        Cadillac         Seville   15.943  27.100  Automobile  44.475   \n",
       "56            Ford        F-Series  540.561  15.075       Truck  26.935   \n",
       "97   Mercedes-Benz          SLK230    1.526     NaN  Automobile  41.000   \n",
       "36           Dodge         Avenger    4.734  12.545  Automobile  19.045   \n",
       "12           Buick     Park Avenue   27.851  20.190  Automobile  31.965   \n",
       "17        Cadillac          Catera   11.185  18.225  Automobile  31.010   \n",
       "82      Mitsubishi        Diamante    5.711  16.575  Automobile  24.997   \n",
       "86         Mercury        Mystique   14.351   8.800  Automobile  16.240   \n",
       "61           Honda         Odyssey   76.029  19.490       Truck  26.000   \n",
       "34        Chrysler            300M   30.696     NaN  Automobile  29.185   \n",
       "3            Acura              RL    8.588  29.725  Automobile  42.000   \n",
       "63         Hyundai         Elantra   66.692   7.825  Automobile  11.799   \n",
       "132         Saturn              LW    8.472     NaN  Automobile  18.835   \n",
       "28        Chrysler   Sebring Coupe    7.854  12.360  Automobile  19.840   \n",
       "51            Ford  Crown Victoria   63.403  14.210  Automobile  22.195   \n",
       "105         Nissan      Pathfinder   42.574  17.810       Truck  29.299   \n",
       "48            Ford         Contour   35.068   8.835  Automobile  17.035   \n",
       "\n",
       "     engine_s  horsepow  wheelbas  width  length  curb_wgt  fuel_cap   mpg  \n",
       "64        2.4     148.0     106.3   71.6   185.4     3.072      17.2  25.0  \n",
       "67        2.5     120.0      93.4   66.7   152.0     3.045      19.0  17.0  \n",
       "145       2.0     115.0      98.9   68.3   163.3     2.767      14.5  26.0  \n",
       "21        3.1     175.0     107.5   72.5   200.9     3.330      16.6  25.0  \n",
       "139       1.8     140.0     102.4   68.3   170.5     2.425      14.5  31.0  \n",
       "110       2.4     150.0     107.0   70.1   186.7     2.958      15.0  27.0  \n",
       "133       2.2     137.0     106.5   69.0   190.4     2.910      13.1  28.0  \n",
       "35        2.0     132.0     105.0   74.4   174.4     2.567      12.5  29.0  \n",
       "107       3.3     170.0     116.1   66.5   196.1     3.217      19.4  18.0  \n",
       "2         3.2     225.0     106.9   70.6   192.0     3.470      17.2  26.0  \n",
       "150       2.0     115.0      98.9   67.9   161.1     2.769      14.5  26.0  \n",
       "72        4.0     300.0     110.2   70.9   189.2     3.693      19.8  21.0  \n",
       "68        4.0     190.0     101.4   69.4   167.5     3.194      20.0  20.0  \n",
       "94        4.3     275.0     121.5   73.1   203.1     4.133      23.2  21.0  \n",
       "140       2.4     142.0     103.3   66.5   178.7     2.580      15.1  23.0  \n",
       "15        4.6     275.0     112.2   75.0   201.0       NaN      18.5  22.0  \n",
       "56        4.6     220.0     138.5   79.1   224.5     4.241      25.1  18.0  \n",
       "97        2.3     185.0      94.5   67.5   157.3     2.975      14.0  27.0  \n",
       "36        2.5     163.0     103.7   69.1   190.2     2.879      15.9  24.0  \n",
       "12        3.8     205.0     113.8   74.7   206.8     3.778      18.5  24.0  \n",
       "17        3.0     200.0     107.4   70.3   194.8     3.770      18.0  22.0  \n",
       "82        3.5     210.0     107.1   70.3   194.1     3.443      19.0  22.0  \n",
       "86        2.0     125.0     106.5   69.1   184.8     2.769      15.0  28.0  \n",
       "61        3.5     210.0     118.1   75.6   201.2     4.288      20.0  23.0  \n",
       "34        3.5     253.0     113.0   74.4   197.8     3.567      17.0  23.0  \n",
       "3         3.5     210.0     114.6   71.4   196.6     3.850      18.0  22.0  \n",
       "63        2.0     140.0     100.4   66.9   174.0     2.626      14.5  27.0  \n",
       "132       2.2     137.0     106.5   69.0   190.4     3.075      13.1  27.0  \n",
       "28        2.5     163.0     103.7   69.7   190.9     2.967      15.9  24.0  \n",
       "51        4.6     200.0     114.7   78.2   212.0     3.908      19.0  21.0  \n",
       "105       3.3     170.0     106.3   71.7   182.6     3.947      21.0  19.0  \n",
       "48        2.5     170.0     106.5   69.1   184.6     2.769      15.0  25.0  "
      ]
     },
     "execution_count": 442,
     "metadata": {},
     "output_type": "execute_result"
    }
   ],
   "source": [
    "validation_dataset.squeeze()"
   ]
  },
  {
   "cell_type": "code",
   "execution_count": 443,
   "metadata": {},
   "outputs": [
    {
     "data": {
      "text/html": [
       "<div>\n",
       "<style scoped>\n",
       "    .dataframe tbody tr th:only-of-type {\n",
       "        vertical-align: middle;\n",
       "    }\n",
       "\n",
       "    .dataframe tbody tr th {\n",
       "        vertical-align: top;\n",
       "    }\n",
       "\n",
       "    .dataframe thead th {\n",
       "        text-align: right;\n",
       "    }\n",
       "</style>\n",
       "<table border=\"1\" class=\"dataframe\">\n",
       "  <thead>\n",
       "    <tr style=\"text-align: right;\">\n",
       "      <th></th>\n",
       "      <th>manufact</th>\n",
       "      <th>model</th>\n",
       "      <th>sales</th>\n",
       "      <th>resale</th>\n",
       "      <th>type</th>\n",
       "      <th>price</th>\n",
       "      <th>engine_s</th>\n",
       "      <th>horsepow</th>\n",
       "      <th>wheelbas</th>\n",
       "      <th>width</th>\n",
       "      <th>length</th>\n",
       "      <th>curb_wgt</th>\n",
       "      <th>fuel_cap</th>\n",
       "      <th>mpg</th>\n",
       "    </tr>\n",
       "  </thead>\n",
       "  <tbody>\n",
       "    <tr>\n",
       "      <th>60</th>\n",
       "      <td>Honda</td>\n",
       "      <td>Passport</td>\n",
       "      <td>12.855</td>\n",
       "      <td>17.525</td>\n",
       "      <td>Truck</td>\n",
       "      <td>26.600</td>\n",
       "      <td>3.2</td>\n",
       "      <td>205.0</td>\n",
       "      <td>106.4</td>\n",
       "      <td>70.4</td>\n",
       "      <td>178.2</td>\n",
       "      <td>3.857</td>\n",
       "      <td>21.1</td>\n",
       "      <td>19.0</td>\n",
       "    </tr>\n",
       "    <tr>\n",
       "      <th>114</th>\n",
       "      <td>Plymouth</td>\n",
       "      <td>Neon</td>\n",
       "      <td>32.734</td>\n",
       "      <td>7.750</td>\n",
       "      <td>Automobile</td>\n",
       "      <td>12.640</td>\n",
       "      <td>2.0</td>\n",
       "      <td>132.0</td>\n",
       "      <td>105.0</td>\n",
       "      <td>74.4</td>\n",
       "      <td>174.4</td>\n",
       "      <td>2.559</td>\n",
       "      <td>12.5</td>\n",
       "      <td>29.0</td>\n",
       "    </tr>\n",
       "    <tr>\n",
       "      <th>81</th>\n",
       "      <td>Mitsubishi</td>\n",
       "      <td>Galant</td>\n",
       "      <td>55.616</td>\n",
       "      <td>10.595</td>\n",
       "      <td>Automobile</td>\n",
       "      <td>17.357</td>\n",
       "      <td>2.4</td>\n",
       "      <td>145.0</td>\n",
       "      <td>103.7</td>\n",
       "      <td>68.5</td>\n",
       "      <td>187.8</td>\n",
       "      <td>2.945</td>\n",
       "      <td>16.3</td>\n",
       "      <td>25.0</td>\n",
       "    </tr>\n",
       "    <tr>\n",
       "      <th>144</th>\n",
       "      <td>Toyota</td>\n",
       "      <td>Land Cruiser</td>\n",
       "      <td>9.835</td>\n",
       "      <td>34.080</td>\n",
       "      <td>Truck</td>\n",
       "      <td>51.728</td>\n",
       "      <td>4.7</td>\n",
       "      <td>230.0</td>\n",
       "      <td>112.2</td>\n",
       "      <td>76.4</td>\n",
       "      <td>192.5</td>\n",
       "      <td>5.115</td>\n",
       "      <td>25.4</td>\n",
       "      <td>15.0</td>\n",
       "    </tr>\n",
       "    <tr>\n",
       "      <th>50</th>\n",
       "      <td>Ford</td>\n",
       "      <td>Focus</td>\n",
       "      <td>175.670</td>\n",
       "      <td>NaN</td>\n",
       "      <td>Automobile</td>\n",
       "      <td>12.315</td>\n",
       "      <td>2.0</td>\n",
       "      <td>107.0</td>\n",
       "      <td>103.0</td>\n",
       "      <td>66.9</td>\n",
       "      <td>174.8</td>\n",
       "      <td>2.564</td>\n",
       "      <td>13.2</td>\n",
       "      <td>30.0</td>\n",
       "    </tr>\n",
       "    <tr>\n",
       "      <th>8</th>\n",
       "      <td>BMW</td>\n",
       "      <td>328i</td>\n",
       "      <td>9.231</td>\n",
       "      <td>28.675</td>\n",
       "      <td>Automobile</td>\n",
       "      <td>33.400</td>\n",
       "      <td>2.8</td>\n",
       "      <td>193.0</td>\n",
       "      <td>107.3</td>\n",
       "      <td>68.5</td>\n",
       "      <td>176.0</td>\n",
       "      <td>3.197</td>\n",
       "      <td>16.6</td>\n",
       "      <td>24.0</td>\n",
       "    </tr>\n",
       "    <tr>\n",
       "      <th>69</th>\n",
       "      <td>Jeep</td>\n",
       "      <td>Grand Cherokee</td>\n",
       "      <td>157.040</td>\n",
       "      <td>18.810</td>\n",
       "      <td>Truck</td>\n",
       "      <td>26.895</td>\n",
       "      <td>4.0</td>\n",
       "      <td>195.0</td>\n",
       "      <td>105.9</td>\n",
       "      <td>72.3</td>\n",
       "      <td>181.5</td>\n",
       "      <td>3.880</td>\n",
       "      <td>20.5</td>\n",
       "      <td>19.0</td>\n",
       "    </tr>\n",
       "    <tr>\n",
       "      <th>10</th>\n",
       "      <td>Buick</td>\n",
       "      <td>Century</td>\n",
       "      <td>91.561</td>\n",
       "      <td>12.475</td>\n",
       "      <td>Automobile</td>\n",
       "      <td>21.975</td>\n",
       "      <td>3.1</td>\n",
       "      <td>175.0</td>\n",
       "      <td>109.0</td>\n",
       "      <td>72.7</td>\n",
       "      <td>194.6</td>\n",
       "      <td>3.368</td>\n",
       "      <td>17.5</td>\n",
       "      <td>25.0</td>\n",
       "    </tr>\n",
       "    <tr>\n",
       "      <th>70</th>\n",
       "      <td>Lexus</td>\n",
       "      <td>ES300</td>\n",
       "      <td>24.072</td>\n",
       "      <td>26.975</td>\n",
       "      <td>Automobile</td>\n",
       "      <td>31.505</td>\n",
       "      <td>3.0</td>\n",
       "      <td>210.0</td>\n",
       "      <td>105.1</td>\n",
       "      <td>70.5</td>\n",
       "      <td>190.2</td>\n",
       "      <td>3.373</td>\n",
       "      <td>18.5</td>\n",
       "      <td>23.0</td>\n",
       "    </tr>\n",
       "    <tr>\n",
       "      <th>18</th>\n",
       "      <td>Cadillac</td>\n",
       "      <td>Escalade</td>\n",
       "      <td>14.785</td>\n",
       "      <td>NaN</td>\n",
       "      <td>Truck</td>\n",
       "      <td>46.225</td>\n",
       "      <td>5.7</td>\n",
       "      <td>255.0</td>\n",
       "      <td>117.5</td>\n",
       "      <td>77.0</td>\n",
       "      <td>201.2</td>\n",
       "      <td>5.572</td>\n",
       "      <td>30.0</td>\n",
       "      <td>15.0</td>\n",
       "    </tr>\n",
       "    <tr>\n",
       "      <th>99</th>\n",
       "      <td>Mercedes-Benz</td>\n",
       "      <td>CL500</td>\n",
       "      <td>0.954</td>\n",
       "      <td>NaN</td>\n",
       "      <td>Automobile</td>\n",
       "      <td>85.500</td>\n",
       "      <td>5.0</td>\n",
       "      <td>302.0</td>\n",
       "      <td>113.6</td>\n",
       "      <td>73.1</td>\n",
       "      <td>196.6</td>\n",
       "      <td>4.115</td>\n",
       "      <td>23.2</td>\n",
       "      <td>20.0</td>\n",
       "    </tr>\n",
       "    <tr>\n",
       "      <th>95</th>\n",
       "      <td>Mercedes-Benz</td>\n",
       "      <td>SL-Class</td>\n",
       "      <td>3.311</td>\n",
       "      <td>58.600</td>\n",
       "      <td>Automobile</td>\n",
       "      <td>82.600</td>\n",
       "      <td>5.0</td>\n",
       "      <td>302.0</td>\n",
       "      <td>99.0</td>\n",
       "      <td>71.3</td>\n",
       "      <td>177.1</td>\n",
       "      <td>4.125</td>\n",
       "      <td>21.1</td>\n",
       "      <td>20.0</td>\n",
       "    </tr>\n",
       "    <tr>\n",
       "      <th>5</th>\n",
       "      <td>Audi</td>\n",
       "      <td>A6</td>\n",
       "      <td>18.780</td>\n",
       "      <td>23.555</td>\n",
       "      <td>Automobile</td>\n",
       "      <td>33.950</td>\n",
       "      <td>2.8</td>\n",
       "      <td>200.0</td>\n",
       "      <td>108.7</td>\n",
       "      <td>76.1</td>\n",
       "      <td>192.0</td>\n",
       "      <td>3.561</td>\n",
       "      <td>18.5</td>\n",
       "      <td>22.0</td>\n",
       "    </tr>\n",
       "    <tr>\n",
       "      <th>75</th>\n",
       "      <td>Lexus</td>\n",
       "      <td>RX300</td>\n",
       "      <td>51.238</td>\n",
       "      <td>NaN</td>\n",
       "      <td>Truck</td>\n",
       "      <td>34.605</td>\n",
       "      <td>3.0</td>\n",
       "      <td>220.0</td>\n",
       "      <td>103.0</td>\n",
       "      <td>71.5</td>\n",
       "      <td>180.1</td>\n",
       "      <td>3.900</td>\n",
       "      <td>17.2</td>\n",
       "      <td>21.0</td>\n",
       "    </tr>\n",
       "    <tr>\n",
       "      <th>54</th>\n",
       "      <td>Ford</td>\n",
       "      <td>Expedition</td>\n",
       "      <td>125.338</td>\n",
       "      <td>23.575</td>\n",
       "      <td>Truck</td>\n",
       "      <td>36.135</td>\n",
       "      <td>4.6</td>\n",
       "      <td>240.0</td>\n",
       "      <td>119.0</td>\n",
       "      <td>78.7</td>\n",
       "      <td>204.6</td>\n",
       "      <td>4.808</td>\n",
       "      <td>26.0</td>\n",
       "      <td>16.0</td>\n",
       "    </tr>\n",
       "    <tr>\n",
       "      <th>135</th>\n",
       "      <td>Subaru</td>\n",
       "      <td>Forester</td>\n",
       "      <td>33.028</td>\n",
       "      <td>NaN</td>\n",
       "      <td>Truck</td>\n",
       "      <td>20.095</td>\n",
       "      <td>2.5</td>\n",
       "      <td>165.0</td>\n",
       "      <td>99.4</td>\n",
       "      <td>68.3</td>\n",
       "      <td>175.2</td>\n",
       "      <td>3.125</td>\n",
       "      <td>15.9</td>\n",
       "      <td>24.0</td>\n",
       "    </tr>\n",
       "    <tr>\n",
       "      <th>49</th>\n",
       "      <td>Ford</td>\n",
       "      <td>Taurus</td>\n",
       "      <td>245.815</td>\n",
       "      <td>10.055</td>\n",
       "      <td>Automobile</td>\n",
       "      <td>17.885</td>\n",
       "      <td>3.0</td>\n",
       "      <td>155.0</td>\n",
       "      <td>108.5</td>\n",
       "      <td>73.0</td>\n",
       "      <td>197.6</td>\n",
       "      <td>3.368</td>\n",
       "      <td>16.0</td>\n",
       "      <td>24.0</td>\n",
       "    </tr>\n",
       "    <tr>\n",
       "      <th>89</th>\n",
       "      <td>Mercury</td>\n",
       "      <td>Grand Marquis</td>\n",
       "      <td>81.174</td>\n",
       "      <td>14.875</td>\n",
       "      <td>Automobile</td>\n",
       "      <td>22.605</td>\n",
       "      <td>4.6</td>\n",
       "      <td>200.0</td>\n",
       "      <td>114.7</td>\n",
       "      <td>78.2</td>\n",
       "      <td>212.0</td>\n",
       "      <td>3.958</td>\n",
       "      <td>19.0</td>\n",
       "      <td>21.0</td>\n",
       "    </tr>\n",
       "    <tr>\n",
       "      <th>148</th>\n",
       "      <td>Volkswagen</td>\n",
       "      <td>Cabrio</td>\n",
       "      <td>9.569</td>\n",
       "      <td>16.575</td>\n",
       "      <td>Automobile</td>\n",
       "      <td>19.990</td>\n",
       "      <td>2.0</td>\n",
       "      <td>115.0</td>\n",
       "      <td>97.4</td>\n",
       "      <td>66.7</td>\n",
       "      <td>160.4</td>\n",
       "      <td>3.079</td>\n",
       "      <td>13.7</td>\n",
       "      <td>26.0</td>\n",
       "    </tr>\n",
       "    <tr>\n",
       "      <th>128</th>\n",
       "      <td>Saab</td>\n",
       "      <td>2021-09-03 00:00:00</td>\n",
       "      <td>12.115</td>\n",
       "      <td>NaN</td>\n",
       "      <td>Automobile</td>\n",
       "      <td>26.100</td>\n",
       "      <td>2.0</td>\n",
       "      <td>185.0</td>\n",
       "      <td>102.6</td>\n",
       "      <td>67.4</td>\n",
       "      <td>182.2</td>\n",
       "      <td>2.990</td>\n",
       "      <td>16.9</td>\n",
       "      <td>23.0</td>\n",
       "    </tr>\n",
       "    <tr>\n",
       "      <th>149</th>\n",
       "      <td>Volkswagen</td>\n",
       "      <td>GTI</td>\n",
       "      <td>5.596</td>\n",
       "      <td>13.760</td>\n",
       "      <td>Automobile</td>\n",
       "      <td>17.500</td>\n",
       "      <td>2.0</td>\n",
       "      <td>115.0</td>\n",
       "      <td>98.9</td>\n",
       "      <td>68.3</td>\n",
       "      <td>163.3</td>\n",
       "      <td>2.762</td>\n",
       "      <td>14.6</td>\n",
       "      <td>26.0</td>\n",
       "    </tr>\n",
       "    <tr>\n",
       "      <th>80</th>\n",
       "      <td>Mitsubishi</td>\n",
       "      <td>Eclipse</td>\n",
       "      <td>42.541</td>\n",
       "      <td>10.395</td>\n",
       "      <td>Automobile</td>\n",
       "      <td>19.047</td>\n",
       "      <td>2.4</td>\n",
       "      <td>154.0</td>\n",
       "      <td>100.8</td>\n",
       "      <td>68.9</td>\n",
       "      <td>175.4</td>\n",
       "      <td>2.910</td>\n",
       "      <td>15.9</td>\n",
       "      <td>24.0</td>\n",
       "    </tr>\n",
       "    <tr>\n",
       "      <th>109</th>\n",
       "      <td>Oldsmobile</td>\n",
       "      <td>Intrigue</td>\n",
       "      <td>38.554</td>\n",
       "      <td>NaN</td>\n",
       "      <td>Automobile</td>\n",
       "      <td>24.150</td>\n",
       "      <td>3.5</td>\n",
       "      <td>215.0</td>\n",
       "      <td>109.0</td>\n",
       "      <td>73.6</td>\n",
       "      <td>195.9</td>\n",
       "      <td>3.455</td>\n",
       "      <td>18.0</td>\n",
       "      <td>NaN</td>\n",
       "    </tr>\n",
       "    <tr>\n",
       "      <th>153</th>\n",
       "      <td>Volvo</td>\n",
       "      <td>S70</td>\n",
       "      <td>15.245</td>\n",
       "      <td>NaN</td>\n",
       "      <td>Automobile</td>\n",
       "      <td>27.500</td>\n",
       "      <td>2.4</td>\n",
       "      <td>168.0</td>\n",
       "      <td>104.9</td>\n",
       "      <td>69.3</td>\n",
       "      <td>185.9</td>\n",
       "      <td>3.208</td>\n",
       "      <td>17.9</td>\n",
       "      <td>25.0</td>\n",
       "    </tr>\n",
       "    <tr>\n",
       "      <th>1</th>\n",
       "      <td>Acura</td>\n",
       "      <td>TL</td>\n",
       "      <td>39.384</td>\n",
       "      <td>19.875</td>\n",
       "      <td>Automobile</td>\n",
       "      <td>28.400</td>\n",
       "      <td>3.2</td>\n",
       "      <td>225.0</td>\n",
       "      <td>108.1</td>\n",
       "      <td>70.3</td>\n",
       "      <td>192.9</td>\n",
       "      <td>3.517</td>\n",
       "      <td>17.2</td>\n",
       "      <td>25.0</td>\n",
       "    </tr>\n",
       "    <tr>\n",
       "      <th>6</th>\n",
       "      <td>Audi</td>\n",
       "      <td>A8</td>\n",
       "      <td>1.380</td>\n",
       "      <td>39.000</td>\n",
       "      <td>Automobile</td>\n",
       "      <td>62.000</td>\n",
       "      <td>4.2</td>\n",
       "      <td>310.0</td>\n",
       "      <td>113.0</td>\n",
       "      <td>74.0</td>\n",
       "      <td>198.2</td>\n",
       "      <td>3.902</td>\n",
       "      <td>23.7</td>\n",
       "      <td>21.0</td>\n",
       "    </tr>\n",
       "    <tr>\n",
       "      <th>152</th>\n",
       "      <td>Volvo</td>\n",
       "      <td>V40</td>\n",
       "      <td>3.545</td>\n",
       "      <td>NaN</td>\n",
       "      <td>Automobile</td>\n",
       "      <td>24.400</td>\n",
       "      <td>1.9</td>\n",
       "      <td>160.0</td>\n",
       "      <td>100.5</td>\n",
       "      <td>67.6</td>\n",
       "      <td>176.6</td>\n",
       "      <td>3.042</td>\n",
       "      <td>15.8</td>\n",
       "      <td>25.0</td>\n",
       "    </tr>\n",
       "    <tr>\n",
       "      <th>142</th>\n",
       "      <td>Toyota</td>\n",
       "      <td>RAV4</td>\n",
       "      <td>25.106</td>\n",
       "      <td>13.325</td>\n",
       "      <td>Truck</td>\n",
       "      <td>16.888</td>\n",
       "      <td>2.0</td>\n",
       "      <td>127.0</td>\n",
       "      <td>94.9</td>\n",
       "      <td>66.7</td>\n",
       "      <td>163.8</td>\n",
       "      <td>2.668</td>\n",
       "      <td>15.3</td>\n",
       "      <td>27.0</td>\n",
       "    </tr>\n",
       "    <tr>\n",
       "      <th>104</th>\n",
       "      <td>Nissan</td>\n",
       "      <td>Quest</td>\n",
       "      <td>27.308</td>\n",
       "      <td>15.380</td>\n",
       "      <td>Truck</td>\n",
       "      <td>26.399</td>\n",
       "      <td>3.3</td>\n",
       "      <td>170.0</td>\n",
       "      <td>112.2</td>\n",
       "      <td>74.9</td>\n",
       "      <td>194.8</td>\n",
       "      <td>3.991</td>\n",
       "      <td>20.0</td>\n",
       "      <td>21.0</td>\n",
       "    </tr>\n",
       "    <tr>\n",
       "      <th>85</th>\n",
       "      <td>Mitsubishi</td>\n",
       "      <td>Montero Sport</td>\n",
       "      <td>39.348</td>\n",
       "      <td>13.880</td>\n",
       "      <td>Truck</td>\n",
       "      <td>22.527</td>\n",
       "      <td>3.0</td>\n",
       "      <td>173.0</td>\n",
       "      <td>107.3</td>\n",
       "      <td>66.7</td>\n",
       "      <td>178.3</td>\n",
       "      <td>3.510</td>\n",
       "      <td>19.5</td>\n",
       "      <td>20.0</td>\n",
       "    </tr>\n",
       "    <tr>\n",
       "      <th>131</th>\n",
       "      <td>Saturn</td>\n",
       "      <td>SW</td>\n",
       "      <td>5.223</td>\n",
       "      <td>10.790</td>\n",
       "      <td>Automobile</td>\n",
       "      <td>14.290</td>\n",
       "      <td>1.9</td>\n",
       "      <td>124.0</td>\n",
       "      <td>102.4</td>\n",
       "      <td>66.4</td>\n",
       "      <td>176.9</td>\n",
       "      <td>2.452</td>\n",
       "      <td>12.1</td>\n",
       "      <td>31.0</td>\n",
       "    </tr>\n",
       "    <tr>\n",
       "      <th>40</th>\n",
       "      <td>Dodge</td>\n",
       "      <td>Ram Pickup</td>\n",
       "      <td>227.061</td>\n",
       "      <td>15.060</td>\n",
       "      <td>Truck</td>\n",
       "      <td>19.460</td>\n",
       "      <td>5.2</td>\n",
       "      <td>230.0</td>\n",
       "      <td>138.7</td>\n",
       "      <td>79.3</td>\n",
       "      <td>224.2</td>\n",
       "      <td>4.470</td>\n",
       "      <td>26.0</td>\n",
       "      <td>17.0</td>\n",
       "    </tr>\n",
       "  </tbody>\n",
       "</table>\n",
       "</div>"
      ],
      "text/plain": [
       "          manufact                model    sales  resale        type   price  \\\n",
       "60           Honda             Passport   12.855  17.525       Truck  26.600   \n",
       "114       Plymouth                 Neon   32.734   7.750  Automobile  12.640   \n",
       "81      Mitsubishi               Galant   55.616  10.595  Automobile  17.357   \n",
       "144         Toyota         Land Cruiser    9.835  34.080       Truck  51.728   \n",
       "50            Ford                Focus  175.670     NaN  Automobile  12.315   \n",
       "8              BMW                 328i    9.231  28.675  Automobile  33.400   \n",
       "69            Jeep       Grand Cherokee  157.040  18.810       Truck  26.895   \n",
       "10           Buick              Century   91.561  12.475  Automobile  21.975   \n",
       "70           Lexus                ES300   24.072  26.975  Automobile  31.505   \n",
       "18        Cadillac             Escalade   14.785     NaN       Truck  46.225   \n",
       "99   Mercedes-Benz                CL500    0.954     NaN  Automobile  85.500   \n",
       "95   Mercedes-Benz             SL-Class    3.311  58.600  Automobile  82.600   \n",
       "5             Audi                   A6   18.780  23.555  Automobile  33.950   \n",
       "75           Lexus                RX300   51.238     NaN       Truck  34.605   \n",
       "54            Ford           Expedition  125.338  23.575       Truck  36.135   \n",
       "135         Subaru             Forester   33.028     NaN       Truck  20.095   \n",
       "49            Ford               Taurus  245.815  10.055  Automobile  17.885   \n",
       "89         Mercury        Grand Marquis   81.174  14.875  Automobile  22.605   \n",
       "148     Volkswagen               Cabrio    9.569  16.575  Automobile  19.990   \n",
       "128           Saab  2021-09-03 00:00:00   12.115     NaN  Automobile  26.100   \n",
       "149     Volkswagen                  GTI    5.596  13.760  Automobile  17.500   \n",
       "80      Mitsubishi              Eclipse   42.541  10.395  Automobile  19.047   \n",
       "109     Oldsmobile             Intrigue   38.554     NaN  Automobile  24.150   \n",
       "153          Volvo                  S70   15.245     NaN  Automobile  27.500   \n",
       "1            Acura                   TL   39.384  19.875  Automobile  28.400   \n",
       "6             Audi                   A8    1.380  39.000  Automobile  62.000   \n",
       "152          Volvo                  V40    3.545     NaN  Automobile  24.400   \n",
       "142         Toyota                 RAV4   25.106  13.325       Truck  16.888   \n",
       "104         Nissan                Quest   27.308  15.380       Truck  26.399   \n",
       "85      Mitsubishi        Montero Sport   39.348  13.880       Truck  22.527   \n",
       "131         Saturn                   SW    5.223  10.790  Automobile  14.290   \n",
       "40           Dodge           Ram Pickup  227.061  15.060       Truck  19.460   \n",
       "\n",
       "     engine_s  horsepow  wheelbas  width  length  curb_wgt  fuel_cap   mpg  \n",
       "60        3.2     205.0     106.4   70.4   178.2     3.857      21.1  19.0  \n",
       "114       2.0     132.0     105.0   74.4   174.4     2.559      12.5  29.0  \n",
       "81        2.4     145.0     103.7   68.5   187.8     2.945      16.3  25.0  \n",
       "144       4.7     230.0     112.2   76.4   192.5     5.115      25.4  15.0  \n",
       "50        2.0     107.0     103.0   66.9   174.8     2.564      13.2  30.0  \n",
       "8         2.8     193.0     107.3   68.5   176.0     3.197      16.6  24.0  \n",
       "69        4.0     195.0     105.9   72.3   181.5     3.880      20.5  19.0  \n",
       "10        3.1     175.0     109.0   72.7   194.6     3.368      17.5  25.0  \n",
       "70        3.0     210.0     105.1   70.5   190.2     3.373      18.5  23.0  \n",
       "18        5.7     255.0     117.5   77.0   201.2     5.572      30.0  15.0  \n",
       "99        5.0     302.0     113.6   73.1   196.6     4.115      23.2  20.0  \n",
       "95        5.0     302.0      99.0   71.3   177.1     4.125      21.1  20.0  \n",
       "5         2.8     200.0     108.7   76.1   192.0     3.561      18.5  22.0  \n",
       "75        3.0     220.0     103.0   71.5   180.1     3.900      17.2  21.0  \n",
       "54        4.6     240.0     119.0   78.7   204.6     4.808      26.0  16.0  \n",
       "135       2.5     165.0      99.4   68.3   175.2     3.125      15.9  24.0  \n",
       "49        3.0     155.0     108.5   73.0   197.6     3.368      16.0  24.0  \n",
       "89        4.6     200.0     114.7   78.2   212.0     3.958      19.0  21.0  \n",
       "148       2.0     115.0      97.4   66.7   160.4     3.079      13.7  26.0  \n",
       "128       2.0     185.0     102.6   67.4   182.2     2.990      16.9  23.0  \n",
       "149       2.0     115.0      98.9   68.3   163.3     2.762      14.6  26.0  \n",
       "80        2.4     154.0     100.8   68.9   175.4     2.910      15.9  24.0  \n",
       "109       3.5     215.0     109.0   73.6   195.9     3.455      18.0   NaN  \n",
       "153       2.4     168.0     104.9   69.3   185.9     3.208      17.9  25.0  \n",
       "1         3.2     225.0     108.1   70.3   192.9     3.517      17.2  25.0  \n",
       "6         4.2     310.0     113.0   74.0   198.2     3.902      23.7  21.0  \n",
       "152       1.9     160.0     100.5   67.6   176.6     3.042      15.8  25.0  \n",
       "142       2.0     127.0      94.9   66.7   163.8     2.668      15.3  27.0  \n",
       "104       3.3     170.0     112.2   74.9   194.8     3.991      20.0  21.0  \n",
       "85        3.0     173.0     107.3   66.7   178.3     3.510      19.5  20.0  \n",
       "131       1.9     124.0     102.4   66.4   176.9     2.452      12.1  31.0  \n",
       "40        5.2     230.0     138.7   79.3   224.2     4.470      26.0  17.0  "
      ]
     },
     "execution_count": 443,
     "metadata": {},
     "output_type": "execute_result"
    }
   ],
   "source": [
    "testing_dataset.squeeze()"
   ]
  },
  {
   "attachments": {},
   "cell_type": "markdown",
   "metadata": {},
   "source": [
    "# **Building Intelligence from the Training Data Set**"
   ]
  },
  {
   "attachments": {},
   "cell_type": "markdown",
   "metadata": {},
   "source": [
    "In this step we are going to see how we can build our intellgience on the training set i.e. the mean, median and regression coefficients required for missing value imputation. We use the same intellgience that we would have built on the training set for the validation and the testing set."
   ]
  },
  {
   "attachments": {},
   "cell_type": "markdown",
   "metadata": {},
   "source": [
    "Here we use the exploratory_data_analysis function that we had previously written for exploratory data analysis"
   ]
  },
  {
   "cell_type": "code",
   "execution_count": 444,
   "metadata": {},
   "outputs": [
    {
     "name": "stderr",
     "output_type": "stream",
     "text": [
      "C:\\Users\\adity\\AppData\\Local\\Temp\\ipykernel_9300\\899696493.py:3: FutureWarning: Dropping of nuisance columns in DataFrame reductions (with 'numeric_only=None') is deprecated; in a future version this will raise TypeError.  Select only valid columns before calling the reduction.\n",
      "  mean = dataframe.mean()\n",
      "C:\\Users\\adity\\AppData\\Local\\Temp\\ipykernel_9300\\899696493.py:4: FutureWarning: Dropping of nuisance columns in DataFrame reductions (with 'numeric_only=None') is deprecated; in a future version this will raise TypeError.  Select only valid columns before calling the reduction.\n",
      "  median = dataframe.median()\n",
      "c:\\Users\\adity\\anaconda3\\lib\\site-packages\\pandas\\core\\algorithms.py:968: UserWarning: Unable to sort modes: '<' not supported between instances of 'str' and 'datetime.datetime'\n",
      "  warn(f\"Unable to sort modes: {err}\")\n",
      "C:\\Users\\adity\\AppData\\Local\\Temp\\ipykernel_9300\\899696493.py:6: FutureWarning: Dropping of nuisance columns in DataFrame reductions (with 'numeric_only=None') is deprecated; in a future version this will raise TypeError.  Select only valid columns before calling the reduction.\n",
      "  standard_deviation = dataframe.std()\n"
     ]
    },
    {
     "data": {
      "text/html": [
       "<div>\n",
       "<style scoped>\n",
       "    .dataframe tbody tr th:only-of-type {\n",
       "        vertical-align: middle;\n",
       "    }\n",
       "\n",
       "    .dataframe tbody tr th {\n",
       "        vertical-align: top;\n",
       "    }\n",
       "\n",
       "    .dataframe thead th {\n",
       "        text-align: right;\n",
       "    }\n",
       "</style>\n",
       "<table border=\"1\" class=\"dataframe\">\n",
       "  <thead>\n",
       "    <tr style=\"text-align: right;\">\n",
       "      <th></th>\n",
       "      <th>Mean</th>\n",
       "      <th>Median</th>\n",
       "      <th>Mode</th>\n",
       "      <th>Standard deviation</th>\n",
       "      <th>Count of Non Missing Values</th>\n",
       "      <th>Total Values</th>\n",
       "      <th>Missing Rate</th>\n",
       "    </tr>\n",
       "  </thead>\n",
       "  <tbody>\n",
       "    <tr>\n",
       "      <th>sales</th>\n",
       "      <td>54.324419</td>\n",
       "      <td>31.0380</td>\n",
       "      <td>0.11</td>\n",
       "      <td>58.914997</td>\n",
       "      <td>93</td>\n",
       "      <td>93</td>\n",
       "      <td>0.000000</td>\n",
       "    </tr>\n",
       "    <tr>\n",
       "      <th>resale</th>\n",
       "      <td>18.151554</td>\n",
       "      <td>13.8400</td>\n",
       "      <td>12.025</td>\n",
       "      <td>12.075188</td>\n",
       "      <td>74</td>\n",
       "      <td>93</td>\n",
       "      <td>0.204301</td>\n",
       "    </tr>\n",
       "    <tr>\n",
       "      <th>price</th>\n",
       "      <td>27.413685</td>\n",
       "      <td>23.5775</td>\n",
       "      <td>38.9</td>\n",
       "      <td>13.408038</td>\n",
       "      <td>92</td>\n",
       "      <td>93</td>\n",
       "      <td>0.010753</td>\n",
       "    </tr>\n",
       "    <tr>\n",
       "      <th>engine_s</th>\n",
       "      <td>3.039130</td>\n",
       "      <td>3.0000</td>\n",
       "      <td>3.0</td>\n",
       "      <td>1.075293</td>\n",
       "      <td>92</td>\n",
       "      <td>93</td>\n",
       "      <td>0.010753</td>\n",
       "    </tr>\n",
       "    <tr>\n",
       "      <th>horsepow</th>\n",
       "      <td>186.260870</td>\n",
       "      <td>180.0000</td>\n",
       "      <td>150.0</td>\n",
       "      <td>60.405383</td>\n",
       "      <td>92</td>\n",
       "      <td>93</td>\n",
       "      <td>0.010753</td>\n",
       "    </tr>\n",
       "    <tr>\n",
       "      <th>wheelbas</th>\n",
       "      <td>107.429348</td>\n",
       "      <td>107.2000</td>\n",
       "      <td>112.2</td>\n",
       "      <td>7.220796</td>\n",
       "      <td>92</td>\n",
       "      <td>93</td>\n",
       "      <td>0.010753</td>\n",
       "    </tr>\n",
       "    <tr>\n",
       "      <th>width</th>\n",
       "      <td>71.136957</td>\n",
       "      <td>70.8500</td>\n",
       "      <td>72.7</td>\n",
       "      <td>3.367287</td>\n",
       "      <td>92</td>\n",
       "      <td>93</td>\n",
       "      <td>0.010753</td>\n",
       "    </tr>\n",
       "    <tr>\n",
       "      <th>length</th>\n",
       "      <td>187.777174</td>\n",
       "      <td>187.3000</td>\n",
       "      <td>186.3</td>\n",
       "      <td>12.192811</td>\n",
       "      <td>92</td>\n",
       "      <td>93</td>\n",
       "      <td>0.010753</td>\n",
       "    </tr>\n",
       "    <tr>\n",
       "      <th>curb_wgt</th>\n",
       "      <td>3.361587</td>\n",
       "      <td>3.3585</td>\n",
       "      <td>2.998</td>\n",
       "      <td>0.613308</td>\n",
       "      <td>92</td>\n",
       "      <td>93</td>\n",
       "      <td>0.010753</td>\n",
       "    </tr>\n",
       "    <tr>\n",
       "      <th>fuel_cap</th>\n",
       "      <td>18.003261</td>\n",
       "      <td>17.3000</td>\n",
       "      <td>18.5</td>\n",
       "      <td>4.030419</td>\n",
       "      <td>92</td>\n",
       "      <td>93</td>\n",
       "      <td>0.010753</td>\n",
       "    </tr>\n",
       "    <tr>\n",
       "      <th>mpg</th>\n",
       "      <td>24.263736</td>\n",
       "      <td>24.0000</td>\n",
       "      <td>25.0</td>\n",
       "      <td>4.584600</td>\n",
       "      <td>91</td>\n",
       "      <td>93</td>\n",
       "      <td>0.021505</td>\n",
       "    </tr>\n",
       "  </tbody>\n",
       "</table>\n",
       "</div>"
      ],
      "text/plain": [
       "                Mean    Median    Mode  Standard deviation  \\\n",
       "sales      54.324419   31.0380    0.11           58.914997   \n",
       "resale     18.151554   13.8400  12.025           12.075188   \n",
       "price      27.413685   23.5775    38.9           13.408038   \n",
       "engine_s    3.039130    3.0000     3.0            1.075293   \n",
       "horsepow  186.260870  180.0000   150.0           60.405383   \n",
       "wheelbas  107.429348  107.2000   112.2            7.220796   \n",
       "width      71.136957   70.8500    72.7            3.367287   \n",
       "length    187.777174  187.3000   186.3           12.192811   \n",
       "curb_wgt    3.361587    3.3585   2.998            0.613308   \n",
       "fuel_cap   18.003261   17.3000    18.5            4.030419   \n",
       "mpg        24.263736   24.0000    25.0            4.584600   \n",
       "\n",
       "          Count of Non Missing Values  Total Values  Missing Rate  \n",
       "sales                              93            93      0.000000  \n",
       "resale                             74            93      0.204301  \n",
       "price                              92            93      0.010753  \n",
       "engine_s                           92            93      0.010753  \n",
       "horsepow                           92            93      0.010753  \n",
       "wheelbas                           92            93      0.010753  \n",
       "width                              92            93      0.010753  \n",
       "length                             92            93      0.010753  \n",
       "curb_wgt                           92            93      0.010753  \n",
       "fuel_cap                           92            93      0.010753  \n",
       "mpg                                91            93      0.021505  "
      ]
     },
     "execution_count": 444,
     "metadata": {},
     "output_type": "execute_result"
    }
   ],
   "source": [
    "exploratory_data_analysis(dataframe= training_dataset)"
   ]
  },
  {
   "attachments": {},
   "cell_type": "markdown",
   "metadata": {},
   "source": [
    "# **Missing Value Imputation** "
   ]
  },
  {
   "attachments": {},
   "cell_type": "markdown",
   "metadata": {},
   "source": [
    "We need to import the stats module from scipy as we need it use the .linregress() function for regression value imputation"
   ]
  },
  {
   "cell_type": "code",
   "execution_count": 445,
   "metadata": {},
   "outputs": [],
   "source": [
    "from scipy import stats"
   ]
  },
  {
   "attachments": {},
   "cell_type": "markdown",
   "metadata": {},
   "source": [
    "3 Missing Value Imputation Techniques \n",
    "1. Mean Value Imputation\n",
    "2. Median Value Imputation\n",
    "3. Regression Imputation"
   ]
  },
  {
   "attachments": {},
   "cell_type": "markdown",
   "metadata": {},
   "source": [
    "We have written 3 methods for the same purpose within a class named Missing_Value_Imputation as illustrated below"
   ]
  },
  {
   "attachments": {},
   "cell_type": "markdown",
   "metadata": {},
   "source": [
    "One commanility between all 3 methods methods is that it takes a training data frame argument and an implementation dataframe argument."
   ]
  },
  {
   "attachments": {},
   "cell_type": "markdown",
   "metadata": {},
   "source": [
    "The mean and median value imputation methods are written in a very simple way. Essentially, the mean and median values to impute are calculated using the training data. And the same mean and median values are imputed into the dataframe using the dataframe.fillna() method. "
   ]
  },
  {
   "cell_type": "code",
   "execution_count": 510,
   "metadata": {},
   "outputs": [],
   "source": [
    "class Missing_Value_Imputation:\n",
    "    \n",
    "    def mean_value_imputation(self, training_dataframe, implement_dataframe, column_name):\n",
    "        \n",
    "        mean_value = training_dataframe[column_name].mean()\n",
    "        \n",
    "        implement_dataframe[column_name].fillna(mean_value, inplace= True)\n",
    "        \n",
    "        return implement_dataframe\n",
    "    \n",
    "    def median_value_imputation(self, training_dataframe, implement_dataframe, column_name):\n",
    "        \n",
    "        median_value = training_dataframe[column_name].median()\n",
    "        \n",
    "        implement_dataframe[column_name].fillna(median_value, inplace= True)\n",
    "        \n",
    "        return implement_dataframe\n",
    "    \n",
    "    \n",
    "    def regression_imputation(self, training_dataframe = pd.DataFrame, implement_dataframe = pd.DataFrame, x_value_column_name = str, y_value_column_name = str):\n",
    "        \n",
    "        notnull_filtered_df = training_dataframe[training_dataframe[y_value_column_name].notnull()]\n",
    "        \n",
    "        x_values = notnull_filtered_df[x_value_column_name]\n",
    "        y_values = notnull_filtered_df[y_value_column_name]\n",
    "        \n",
    "        slope, intercept, r, p, std_err = stats.linregress(x= x_values, y = y_values)\n",
    "        \n",
    "        print(slope)\n",
    "        print(intercept)\n",
    "        \n",
    "        implement_dataframe.fillna(0, inplace = True)\n",
    "        \n",
    "        complete_value_column = implement_dataframe[x_value_column_name]\n",
    "        missing_value_column = implement_dataframe[y_value_column_name]\n",
    "        \n",
    "        print(type(missing_value_column))\n",
    "        \n",
    "        enumerate_object = enumerate(missing_value_column)\n",
    "        \n",
    "        \n",
    "        \n",
    "        for index, characters in enumerate_object:\n",
    "            print(index, characters)\n",
    "            if characters == 0:\n",
    "                missing_value_column.iloc[index] = (complete_value_column.iloc[index] * slope) + intercept\n",
    "                \n",
    "        \n",
    "        "
   ]
  },
  {
   "cell_type": "code",
   "execution_count": 511,
   "metadata": {},
   "outputs": [],
   "source": [
    "MVI_class = Missing_Value_Imputation()"
   ]
  },
  {
   "cell_type": "code",
   "execution_count": 512,
   "metadata": {},
   "outputs": [
    {
     "name": "stdout",
     "output_type": "stream",
     "text": [
      "-0.07100070411888039\n",
      "22.42412024971206\n",
      "<class 'pandas.core.series.Series'>\n",
      "0 8.91\n",
      "1 13.475\n",
      "2 11.425\n",
      "3 10.31\n",
      "4 15.445\n",
      "5 16.725958740651315\n",
      "6 0.0\n",
      "7 7.75\n",
      "8 0.0\n",
      "9 18.225\n",
      "10 0.0\n",
      "11 0.0\n",
      "12 13.775\n",
      "13 50.375\n",
      "14 9.575\n",
      "15 27.1\n",
      "16 15.075\n",
      "17 0.0\n",
      "18 12.545\n",
      "19 20.19\n",
      "20 18.225\n",
      "21 16.575\n",
      "22 8.8\n",
      "23 19.49\n",
      "24 0.0\n",
      "25 29.725\n",
      "26 7.825\n",
      "27 0.0\n",
      "28 12.36\n",
      "29 14.21\n",
      "30 17.81\n",
      "31 8.835\n"
     ]
    },
    {
     "name": "stderr",
     "output_type": "stream",
     "text": [
      "C:\\Users\\adity\\AppData\\Local\\Temp\\ipykernel_9300\\3963553311.py:46: SettingWithCopyWarning: \n",
      "A value is trying to be set on a copy of a slice from a DataFrame\n",
      "\n",
      "See the caveats in the documentation: https://pandas.pydata.org/pandas-docs/stable/user_guide/indexing.html#returning-a-view-versus-a-copy\n",
      "  missing_value_column.iloc[index] = (complete_value_column.iloc[index] * slope) + intercept\n"
     ]
    }
   ],
   "source": [
    "MVI_class.regression_imputation(training_dataframe = training_dataset, implement_dataframe = validation_dataset, x_value_column_name= 'sales', y_value_column_name= 'resale')"
   ]
  },
  {
   "cell_type": "code",
   "execution_count": null,
   "metadata": {},
   "outputs": [],
   "source": []
  },
  {
   "cell_type": "code",
   "execution_count": null,
   "metadata": {},
   "outputs": [],
   "source": []
  },
  {
   "cell_type": "code",
   "execution_count": null,
   "metadata": {},
   "outputs": [],
   "source": []
  },
  {
   "cell_type": "code",
   "execution_count": null,
   "metadata": {},
   "outputs": [],
   "source": []
  },
  {
   "cell_type": "code",
   "execution_count": null,
   "metadata": {},
   "outputs": [],
   "source": []
  },
  {
   "cell_type": "code",
   "execution_count": null,
   "metadata": {},
   "outputs": [],
   "source": []
  },
  {
   "cell_type": "code",
   "execution_count": null,
   "metadata": {},
   "outputs": [],
   "source": []
  },
  {
   "attachments": {},
   "cell_type": "markdown",
   "metadata": {},
   "source": [
    "# **Outlier Engineering**"
   ]
  },
  {
   "attachments": {},
   "cell_type": "markdown",
   "metadata": {},
   "source": [
    "Outlier Engineering is a technique of treating the outliers by either removing them completely or by putting a cap and floor on them."
   ]
  },
  {
   "attachments": {},
   "cell_type": "markdown",
   "metadata": {},
   "source": [
    "Before treating the dataset for outliers we can plot a histogram, a QQ Plot and a box plot to better visualize the outliers in the selected datasets. We do that by using the seaborn methods i.e. sns.histplot(), sns.probplot(), sns.boxplot()."
   ]
  },
  {
   "cell_type": "code",
   "execution_count": null,
   "metadata": {},
   "outputs": [],
   "source": [
    "def diagnostic_plots(df, column_name):\n",
    "    # function takes a dataframe (df) and\n",
    "    # the df of interest as arguments\n",
    "\n",
    "    # define figure size\n",
    "    plt.figure(figsize=(16, 4))\n",
    "\n",
    "    # histogram\n",
    "    plt.subplot(1, 3, 1)\n",
    "    sns.histplot(df[column_name], bins=30)\n",
    "    plt.title('Histogram')\n",
    "\n",
    "    # Q-Q plot\n",
    "    plt.subplot(1, 3, 2)\n",
    "    stats.probplot(df[column_name], dist=\"norm\", plot=plt)\n",
    "    plt.ylabel('column_name quantiles')\n",
    "\n",
    "    # boxplot\n",
    "    plt.subplot(1, 3, 3)\n",
    "    sns.boxplot(y=df[column_name])\n",
    "    plt.title('Boxplot')\n",
    "\n",
    "    plt.show()"
   ]
  },
  {
   "attachments": {},
   "cell_type": "markdown",
   "metadata": {},
   "source": [
    "Call the plotting function by passing in the dataframe variable and column name as arguments"
   ]
  },
  {
   "cell_type": "code",
   "execution_count": null,
   "metadata": {},
   "outputs": [
    {
     "data": {
      "image/png": "[encoded data removed]",
      "text/plain": [
       "<Figure size 1600x400 with 3 Axes>"
      ]
     },
     "metadata": {},
     "output_type": "display_data"
    }
   ],
   "source": [
    "diagnostic_plots(df= rawdata, column_name = 'sales')"
   ]
  },
  {
   "attachments": {},
   "cell_type": "markdown",
   "metadata": {},
   "source": [
    "Function to generate the Q3, Q1, IQR, Upper and Lower Bound datapoints based on the Inter Quantal Proximity Rule. Again we use the np.sort() and np.nanpercentile() functions to generate these datapoints"
   ]
  },
  {
   "cell_type": "code",
   "execution_count": null,
   "metadata": {},
   "outputs": [],
   "source": [
    "def IQR_datapoints(dataframe, column_name):\n",
    "        \n",
    "    data = dataframe[column_name]\n",
    "    sorted_columns = np.sort(data)\n",
    "\n",
    "    Q3 = np.nanpercentile(a= sorted_columns, q = 75, interpolation= 'midpoint')\n",
    "    Q1 = np.nanpercentile(a= sorted_columns, q = 25, interpolation= 'midpoint')\n",
    "    IQR = Q3 - Q1\n",
    "    upperbound = Q3 + 1.5 * IQR\n",
    "    lowerbound = Q1 - 1.5 * IQR\n",
    "\n",
    "    return upperbound, lowerbound, Q3, Q1, IQR"
   ]
  },
  {
   "attachments": {},
   "cell_type": "markdown",
   "metadata": {},
   "source": [
    "We call the above function using the syntax given below. The above written function returns us 5 absolute values hence it is a little different from functions that just returns one value."
   ]
  },
  {
   "cell_type": "code",
   "execution_count": null,
   "metadata": {},
   "outputs": [],
   "source": [
    "sales_upper_limit, sales_lower_limit, quartile_3, quartile_1, inter_quartile_range = IQR_datapoints(dataframe = rawdata, column_name = 'sales')"
   ]
  },
  {
   "attachments": {},
   "cell_type": "markdown",
   "metadata": {},
   "source": [
    "We can also print the variables to which the function returns were assigned to view these data points"
   ]
  },
  {
   "cell_type": "code",
   "execution_count": null,
   "metadata": {},
   "outputs": [
    {
     "name": "stdout",
     "output_type": "stream",
     "text": [
      "-66.649\n",
      "148.719\n",
      "67.956\n",
      "14.114\n",
      "53.842\n"
     ]
    }
   ],
   "source": [
    "print(sales_lower_limit)\n",
    "print(sales_upper_limit)\n",
    "print(quartile_3)\n",
    "print(quartile_1)\n",
    "print(inter_quartile_range)"
   ]
  },
  {
   "attachments": {},
   "cell_type": "markdown",
   "metadata": {},
   "source": [
    "## **Outlier Trimming**"
   ]
  },
  {
   "attachments": {},
   "cell_type": "markdown",
   "metadata": {},
   "source": [
    "**Step 1**\n",
    "\n",
    "    Create a function that flags the outliers with Boolean Values using the IQR Proxmity Rule Datapoints and the np.where() method.\n",
    "\n",
    "**Step 2**\n",
    "\n",
    "    Use the return value / flagged values returned from the previous function to filter the outliers and create a new dataframe. We use the '~' bitwise operator for filtering the a dataframe using a Boolean series.\n",
    "\n",
    "**Step 3**\n",
    "\n",
    "    The new dataframe derived is a dataframe where the outliers have been trimmed off. \n",
    "    "
   ]
  },
  {
   "cell_type": "code",
   "execution_count": 513,
   "metadata": {},
   "outputs": [],
   "source": [
    "def outlier_flagging(dataframe, column_name):\n",
    "        \n",
    "    data = dataframe[column_name]\n",
    "    sorted_columns = np.sort(data)\n",
    "\n",
    "    Q3 = np.nanpercentile(a= sorted_columns, q = 75, interpolation= 'midpoint')\n",
    "    Q1 = np.nanpercentile(a= sorted_columns, q = 25, interpolation= 'midpoint')\n",
    "    IQR = Q3 - Q1\n",
    "    upperbound = Q3 + 1.5 * IQR\n",
    "    lowerbound = Q1 - 1.5 * IQR\n",
    "    \n",
    "    upper_limit, lower_limit, quartile_3, quartile_1, inter_quartile_range = IQR_datapoints(dataframe = dataframe, column_name = column_name)\n",
    "    \n",
    "    flagged_outliers = np.where( dataframe[column_name] < lower_limit, True, np.where(dataframe[column_name] > upper_limit, True, False))\n",
    "    \n",
    "    return flagged_outliers"
   ]
  },
  {
   "cell_type": "code",
   "execution_count": 514,
   "metadata": {},
   "outputs": [],
   "source": [
    "sales_outliers = outlier_flagging(dataframe= training_dataset, column_name = 'sales')"
   ]
  },
  {
   "cell_type": "code",
   "execution_count": 515,
   "metadata": {},
   "outputs": [],
   "source": [
    "resale_outliers = outlier_flagging(dataframe= training_dataset, column_name= 'resale')"
   ]
  },
  {
   "attachments": {},
   "cell_type": "markdown",
   "metadata": {},
   "source": [
    "After deriving the outlier flags of the dataset we can filter the dataset using the ~ operator and the .loc[] property that excludes all 'True'/Flagged Outliers from the dataset"
   ]
  },
  {
   "cell_type": "code",
   "execution_count": 516,
   "metadata": {},
   "outputs": [],
   "source": [
    "trainingdataset_trimmed = training_dataset.loc[~(sales_outliers + resale_outliers)]"
   ]
  },
  {
   "attachments": {},
   "cell_type": "markdown",
   "metadata": {},
   "source": [
    "We then get a dataset in which all the rows that atleast have one outlier have been trimmed off completely."
   ]
  },
  {
   "cell_type": "code",
   "execution_count": 517,
   "metadata": {},
   "outputs": [
    {
     "data": {
      "text/html": [
       "<div>\n",
       "<style scoped>\n",
       "    .dataframe tbody tr th:only-of-type {\n",
       "        vertical-align: middle;\n",
       "    }\n",
       "\n",
       "    .dataframe tbody tr th {\n",
       "        vertical-align: top;\n",
       "    }\n",
       "\n",
       "    .dataframe thead th {\n",
       "        text-align: right;\n",
       "    }\n",
       "</style>\n",
       "<table border=\"1\" class=\"dataframe\">\n",
       "  <thead>\n",
       "    <tr style=\"text-align: right;\">\n",
       "      <th></th>\n",
       "      <th>manufact</th>\n",
       "      <th>model</th>\n",
       "      <th>sales</th>\n",
       "      <th>resale</th>\n",
       "      <th>type</th>\n",
       "      <th>price</th>\n",
       "      <th>engine_s</th>\n",
       "      <th>horsepow</th>\n",
       "      <th>wheelbas</th>\n",
       "      <th>width</th>\n",
       "      <th>length</th>\n",
       "      <th>curb_wgt</th>\n",
       "      <th>fuel_cap</th>\n",
       "      <th>mpg</th>\n",
       "    </tr>\n",
       "  </thead>\n",
       "  <tbody>\n",
       "    <tr>\n",
       "      <th>136</th>\n",
       "      <td>Toyota</td>\n",
       "      <td>Corolla</td>\n",
       "      <td>142.535</td>\n",
       "      <td>10.025</td>\n",
       "      <td>Automobile</td>\n",
       "      <td>13.108</td>\n",
       "      <td>1.8</td>\n",
       "      <td>120.0</td>\n",
       "      <td>97.0</td>\n",
       "      <td>66.7</td>\n",
       "      <td>174.0</td>\n",
       "      <td>2.420</td>\n",
       "      <td>13.2</td>\n",
       "      <td>33.0</td>\n",
       "    </tr>\n",
       "    <tr>\n",
       "      <th>77</th>\n",
       "      <td>Lincoln</td>\n",
       "      <td>Town car</td>\n",
       "      <td>48.911</td>\n",
       "      <td>21.725</td>\n",
       "      <td>Automobile</td>\n",
       "      <td>43.330</td>\n",
       "      <td>4.6</td>\n",
       "      <td>215.0</td>\n",
       "      <td>117.7</td>\n",
       "      <td>78.2</td>\n",
       "      <td>215.3</td>\n",
       "      <td>4.121</td>\n",
       "      <td>19.0</td>\n",
       "      <td>21.0</td>\n",
       "    </tr>\n",
       "    <tr>\n",
       "      <th>43</th>\n",
       "      <td>Dodge</td>\n",
       "      <td>Dakota</td>\n",
       "      <td>111.313</td>\n",
       "      <td>11.260</td>\n",
       "      <td>Truck</td>\n",
       "      <td>16.980</td>\n",
       "      <td>2.5</td>\n",
       "      <td>120.0</td>\n",
       "      <td>131.0</td>\n",
       "      <td>71.5</td>\n",
       "      <td>215.0</td>\n",
       "      <td>3.557</td>\n",
       "      <td>22.0</td>\n",
       "      <td>19.0</td>\n",
       "    </tr>\n",
       "    <tr>\n",
       "      <th>38</th>\n",
       "      <td>Dodge</td>\n",
       "      <td>Intrepid</td>\n",
       "      <td>88.028</td>\n",
       "      <td>12.275</td>\n",
       "      <td>Automobile</td>\n",
       "      <td>22.505</td>\n",
       "      <td>2.7</td>\n",
       "      <td>202.0</td>\n",
       "      <td>113.0</td>\n",
       "      <td>74.7</td>\n",
       "      <td>203.7</td>\n",
       "      <td>3.489</td>\n",
       "      <td>17.0</td>\n",
       "      <td>NaN</td>\n",
       "    </tr>\n",
       "    <tr>\n",
       "      <th>138</th>\n",
       "      <td>Toyota</td>\n",
       "      <td>Avalon</td>\n",
       "      <td>63.849</td>\n",
       "      <td>18.140</td>\n",
       "      <td>Automobile</td>\n",
       "      <td>25.545</td>\n",
       "      <td>3.0</td>\n",
       "      <td>210.0</td>\n",
       "      <td>107.1</td>\n",
       "      <td>71.7</td>\n",
       "      <td>191.9</td>\n",
       "      <td>3.417</td>\n",
       "      <td>18.5</td>\n",
       "      <td>26.0</td>\n",
       "    </tr>\n",
       "    <tr>\n",
       "      <th>...</th>\n",
       "      <td>...</td>\n",
       "      <td>...</td>\n",
       "      <td>...</td>\n",
       "      <td>...</td>\n",
       "      <td>...</td>\n",
       "      <td>...</td>\n",
       "      <td>...</td>\n",
       "      <td>...</td>\n",
       "      <td>...</td>\n",
       "      <td>...</td>\n",
       "      <td>...</td>\n",
       "      <td>...</td>\n",
       "      <td>...</td>\n",
       "      <td>...</td>\n",
       "    </tr>\n",
       "    <tr>\n",
       "      <th>146</th>\n",
       "      <td>Volkswagen</td>\n",
       "      <td>Jetta</td>\n",
       "      <td>83.721</td>\n",
       "      <td>13.240</td>\n",
       "      <td>Automobile</td>\n",
       "      <td>16.700</td>\n",
       "      <td>2.0</td>\n",
       "      <td>115.0</td>\n",
       "      <td>98.9</td>\n",
       "      <td>68.3</td>\n",
       "      <td>172.3</td>\n",
       "      <td>2.853</td>\n",
       "      <td>14.5</td>\n",
       "      <td>26.0</td>\n",
       "    </tr>\n",
       "    <tr>\n",
       "      <th>90</th>\n",
       "      <td>Mercury</td>\n",
       "      <td>Mountaineer</td>\n",
       "      <td>27.609</td>\n",
       "      <td>20.430</td>\n",
       "      <td>Truck</td>\n",
       "      <td>27.560</td>\n",
       "      <td>4.0</td>\n",
       "      <td>210.0</td>\n",
       "      <td>111.6</td>\n",
       "      <td>70.2</td>\n",
       "      <td>190.1</td>\n",
       "      <td>3.876</td>\n",
       "      <td>21.0</td>\n",
       "      <td>18.0</td>\n",
       "    </tr>\n",
       "    <tr>\n",
       "      <th>112</th>\n",
       "      <td>Oldsmobile</td>\n",
       "      <td>Bravada</td>\n",
       "      <td>20.017</td>\n",
       "      <td>19.925</td>\n",
       "      <td>Truck</td>\n",
       "      <td>31.598</td>\n",
       "      <td>4.3</td>\n",
       "      <td>190.0</td>\n",
       "      <td>107.0</td>\n",
       "      <td>67.8</td>\n",
       "      <td>181.2</td>\n",
       "      <td>4.068</td>\n",
       "      <td>17.5</td>\n",
       "      <td>19.0</td>\n",
       "    </tr>\n",
       "    <tr>\n",
       "      <th>96</th>\n",
       "      <td>Mercedes-Benz</td>\n",
       "      <td>SLK</td>\n",
       "      <td>7.998</td>\n",
       "      <td>NaN</td>\n",
       "      <td>Automobile</td>\n",
       "      <td>38.900</td>\n",
       "      <td>2.3</td>\n",
       "      <td>190.0</td>\n",
       "      <td>94.5</td>\n",
       "      <td>67.5</td>\n",
       "      <td>157.9</td>\n",
       "      <td>3.055</td>\n",
       "      <td>15.9</td>\n",
       "      <td>26.0</td>\n",
       "    </tr>\n",
       "    <tr>\n",
       "      <th>147</th>\n",
       "      <td>Volkswagen</td>\n",
       "      <td>Passat</td>\n",
       "      <td>51.102</td>\n",
       "      <td>16.725</td>\n",
       "      <td>Automobile</td>\n",
       "      <td>21.200</td>\n",
       "      <td>1.8</td>\n",
       "      <td>150.0</td>\n",
       "      <td>106.4</td>\n",
       "      <td>68.5</td>\n",
       "      <td>184.1</td>\n",
       "      <td>3.043</td>\n",
       "      <td>16.4</td>\n",
       "      <td>27.0</td>\n",
       "    </tr>\n",
       "  </tbody>\n",
       "</table>\n",
       "<p>78 rows × 14 columns</p>\n",
       "</div>"
      ],
      "text/plain": [
       "          manufact        model    sales  resale        type   price  \\\n",
       "136         Toyota      Corolla  142.535  10.025  Automobile  13.108   \n",
       "77         Lincoln     Town car   48.911  21.725  Automobile  43.330   \n",
       "43           Dodge       Dakota  111.313  11.260       Truck  16.980   \n",
       "38           Dodge     Intrepid   88.028  12.275  Automobile  22.505   \n",
       "138         Toyota       Avalon   63.849  18.140  Automobile  25.545   \n",
       "..             ...          ...      ...     ...         ...     ...   \n",
       "146     Volkswagen        Jetta   83.721  13.240  Automobile  16.700   \n",
       "90         Mercury  Mountaineer   27.609  20.430       Truck  27.560   \n",
       "112     Oldsmobile      Bravada   20.017  19.925       Truck  31.598   \n",
       "96   Mercedes-Benz          SLK    7.998     NaN  Automobile  38.900   \n",
       "147     Volkswagen       Passat   51.102  16.725  Automobile  21.200   \n",
       "\n",
       "     engine_s  horsepow  wheelbas  width  length  curb_wgt  fuel_cap   mpg  \n",
       "136       1.8     120.0      97.0   66.7   174.0     2.420      13.2  33.0  \n",
       "77        4.6     215.0     117.7   78.2   215.3     4.121      19.0  21.0  \n",
       "43        2.5     120.0     131.0   71.5   215.0     3.557      22.0  19.0  \n",
       "38        2.7     202.0     113.0   74.7   203.7     3.489      17.0   NaN  \n",
       "138       3.0     210.0     107.1   71.7   191.9     3.417      18.5  26.0  \n",
       "..        ...       ...       ...    ...     ...       ...       ...   ...  \n",
       "146       2.0     115.0      98.9   68.3   172.3     2.853      14.5  26.0  \n",
       "90        4.0     210.0     111.6   70.2   190.1     3.876      21.0  18.0  \n",
       "112       4.3     190.0     107.0   67.8   181.2     4.068      17.5  19.0  \n",
       "96        2.3     190.0      94.5   67.5   157.9     3.055      15.9  26.0  \n",
       "147       1.8     150.0     106.4   68.5   184.1     3.043      16.4  27.0  \n",
       "\n",
       "[78 rows x 14 columns]"
      ]
     },
     "execution_count": 517,
     "metadata": {},
     "output_type": "execute_result"
    }
   ],
   "source": [
    "trainingdataset_trimmed "
   ]
  },
  {
   "attachments": {},
   "cell_type": "markdown",
   "metadata": {},
   "source": [
    "## **Outlier Capping**"
   ]
  },
  {
   "attachments": {},
   "cell_type": "markdown",
   "metadata": {},
   "source": [
    "We have 2 ways to cap the outliers in the dataset:\n",
    "* Capping at the Upper and Lower Bounds as per the IQR Proximity Rule\n",
    "* Capping at the Upper and Lower Quartiles"
   ]
  },
  {
   "attachments": {},
   "cell_type": "markdown",
   "metadata": {},
   "source": [
    "Capping based on the Inter Quantal Range Proximity Rule"
   ]
  },
  {
   "attachments": {},
   "cell_type": "markdown",
   "metadata": {},
   "source": [
    "The only thing we do differently in the below function compared to the Outlier Trimming function is that we in the np.where() method instead of passing the Value if True argument to be True we pass it as the the upper bound or the lower bound."
   ]
  },
  {
   "cell_type": "code",
   "execution_count": null,
   "metadata": {},
   "outputs": [],
   "source": [
    "def IQR_capping(dataframe, column_name):\n",
    "        \n",
    "    data = dataframe[column_name]\n",
    "    sorted_columns = np.sort(data)\n",
    "\n",
    "    Q3 = np.nanpercentile(a= sorted_columns, q = 75, interpolation= 'midpoint')\n",
    "    Q1 = np.nanpercentile(a= sorted_columns, q = 25, interpolation= 'midpoint')\n",
    "    IQR = Q3 - Q1\n",
    "    upperbound = Q3 + 1.5 * IQR\n",
    "    lowerbound = Q1 - 1.5 * IQR\n",
    "    \n",
    "    upper_limit, lower_limit, quartile_3, quartile_1, inter_quartile_range = IQR_datapoints(dataframe = dataframe, column_name = column_name)\n",
    "    \n",
    "    dataframe[column_name] = np.where( dataframe[column_name] < lower_limit, lowerbound, np.where(dataframe[column_name] > upper_limit, upperbound,dataframe[column_name]))\n",
    "    \n",
    "    return dataframe"
   ]
  },
  {
   "attachments": {},
   "cell_type": "markdown",
   "metadata": {},
   "source": [
    "Here we can see the before and after comparison of how the data will look like after the Capping the outliers using the IQR_capping() function "
   ]
  },
  {
   "cell_type": "code",
   "execution_count": null,
   "metadata": {},
   "outputs": [
    {
     "data": {
      "image/png": "[encoded data removed]",
      "text/plain": [
       "<Figure size 1600x400 with 3 Axes>"
      ]
     },
     "metadata": {},
     "output_type": "display_data"
    }
   ],
   "source": [
    "diagnostic_plots(training_dataset, 'sales')"
   ]
  },
  {
   "cell_type": "code",
   "execution_count": null,
   "metadata": {},
   "outputs": [
    {
     "data": {
      "text/html": [
       "<div>\n",
       "<style scoped>\n",
       "    .dataframe tbody tr th:only-of-type {\n",
       "        vertical-align: middle;\n",
       "    }\n",
       "\n",
       "    .dataframe tbody tr th {\n",
       "        vertical-align: top;\n",
       "    }\n",
       "\n",
       "    .dataframe thead th {\n",
       "        text-align: right;\n",
       "    }\n",
       "</style>\n",
       "<table border=\"1\" class=\"dataframe\">\n",
       "  <thead>\n",
       "    <tr style=\"text-align: right;\">\n",
       "      <th></th>\n",
       "      <th>manufact</th>\n",
       "      <th>model</th>\n",
       "      <th>sales</th>\n",
       "      <th>resale</th>\n",
       "      <th>type</th>\n",
       "      <th>price</th>\n",
       "      <th>engine_s</th>\n",
       "      <th>horsepow</th>\n",
       "      <th>wheelbas</th>\n",
       "      <th>width</th>\n",
       "      <th>length</th>\n",
       "      <th>curb_wgt</th>\n",
       "      <th>fuel_cap</th>\n",
       "      <th>mpg</th>\n",
       "    </tr>\n",
       "  </thead>\n",
       "  <tbody>\n",
       "    <tr>\n",
       "      <th>0</th>\n",
       "      <td>Acura</td>\n",
       "      <td>Integra</td>\n",
       "      <td>16.919</td>\n",
       "      <td>16.360000</td>\n",
       "      <td>Automobile</td>\n",
       "      <td>21.50</td>\n",
       "      <td>1.8</td>\n",
       "      <td>140.0</td>\n",
       "      <td>101.2</td>\n",
       "      <td>67.3</td>\n",
       "      <td>172.4</td>\n",
       "      <td>2.639</td>\n",
       "      <td>13.2</td>\n",
       "      <td>28.0</td>\n",
       "    </tr>\n",
       "    <tr>\n",
       "      <th>1</th>\n",
       "      <td>Acura</td>\n",
       "      <td>TL</td>\n",
       "      <td>39.384</td>\n",
       "      <td>19.875000</td>\n",
       "      <td>Automobile</td>\n",
       "      <td>28.40</td>\n",
       "      <td>3.2</td>\n",
       "      <td>225.0</td>\n",
       "      <td>108.1</td>\n",
       "      <td>70.3</td>\n",
       "      <td>192.9</td>\n",
       "      <td>3.517</td>\n",
       "      <td>17.2</td>\n",
       "      <td>25.0</td>\n",
       "    </tr>\n",
       "    <tr>\n",
       "      <th>2</th>\n",
       "      <td>Acura</td>\n",
       "      <td>CL</td>\n",
       "      <td>14.114</td>\n",
       "      <td>18.225000</td>\n",
       "      <td>Automobile</td>\n",
       "      <td>0.00</td>\n",
       "      <td>3.2</td>\n",
       "      <td>225.0</td>\n",
       "      <td>106.9</td>\n",
       "      <td>70.6</td>\n",
       "      <td>192.0</td>\n",
       "      <td>3.470</td>\n",
       "      <td>17.2</td>\n",
       "      <td>26.0</td>\n",
       "    </tr>\n",
       "    <tr>\n",
       "      <th>3</th>\n",
       "      <td>Acura</td>\n",
       "      <td>RL</td>\n",
       "      <td>8.588</td>\n",
       "      <td>29.725000</td>\n",
       "      <td>Automobile</td>\n",
       "      <td>42.00</td>\n",
       "      <td>3.5</td>\n",
       "      <td>210.0</td>\n",
       "      <td>114.6</td>\n",
       "      <td>71.4</td>\n",
       "      <td>196.6</td>\n",
       "      <td>3.850</td>\n",
       "      <td>18.0</td>\n",
       "      <td>22.0</td>\n",
       "    </tr>\n",
       "    <tr>\n",
       "      <th>4</th>\n",
       "      <td>Audi</td>\n",
       "      <td>A4</td>\n",
       "      <td>20.397</td>\n",
       "      <td>22.255000</td>\n",
       "      <td>Automobile</td>\n",
       "      <td>23.99</td>\n",
       "      <td>1.8</td>\n",
       "      <td>150.0</td>\n",
       "      <td>102.6</td>\n",
       "      <td>68.2</td>\n",
       "      <td>178.0</td>\n",
       "      <td>2.998</td>\n",
       "      <td>16.4</td>\n",
       "      <td>27.0</td>\n",
       "    </tr>\n",
       "    <tr>\n",
       "      <th>...</th>\n",
       "      <td>...</td>\n",
       "      <td>...</td>\n",
       "      <td>...</td>\n",
       "      <td>...</td>\n",
       "      <td>...</td>\n",
       "      <td>...</td>\n",
       "      <td>...</td>\n",
       "      <td>...</td>\n",
       "      <td>...</td>\n",
       "      <td>...</td>\n",
       "      <td>...</td>\n",
       "      <td>...</td>\n",
       "      <td>...</td>\n",
       "      <td>...</td>\n",
       "    </tr>\n",
       "    <tr>\n",
       "      <th>152</th>\n",
       "      <td>Volvo</td>\n",
       "      <td>V40</td>\n",
       "      <td>3.545</td>\n",
       "      <td>20.447598</td>\n",
       "      <td>Automobile</td>\n",
       "      <td>24.40</td>\n",
       "      <td>1.9</td>\n",
       "      <td>160.0</td>\n",
       "      <td>100.5</td>\n",
       "      <td>67.6</td>\n",
       "      <td>176.6</td>\n",
       "      <td>3.042</td>\n",
       "      <td>15.8</td>\n",
       "      <td>25.0</td>\n",
       "    </tr>\n",
       "    <tr>\n",
       "      <th>153</th>\n",
       "      <td>Volvo</td>\n",
       "      <td>S70</td>\n",
       "      <td>15.245</td>\n",
       "      <td>19.942736</td>\n",
       "      <td>Automobile</td>\n",
       "      <td>27.50</td>\n",
       "      <td>2.4</td>\n",
       "      <td>168.0</td>\n",
       "      <td>104.9</td>\n",
       "      <td>69.3</td>\n",
       "      <td>185.9</td>\n",
       "      <td>3.208</td>\n",
       "      <td>17.9</td>\n",
       "      <td>25.0</td>\n",
       "    </tr>\n",
       "    <tr>\n",
       "      <th>154</th>\n",
       "      <td>Volvo</td>\n",
       "      <td>V70</td>\n",
       "      <td>17.531</td>\n",
       "      <td>19.844094</td>\n",
       "      <td>Automobile</td>\n",
       "      <td>28.80</td>\n",
       "      <td>2.4</td>\n",
       "      <td>168.0</td>\n",
       "      <td>104.9</td>\n",
       "      <td>69.3</td>\n",
       "      <td>186.2</td>\n",
       "      <td>3.259</td>\n",
       "      <td>17.9</td>\n",
       "      <td>25.0</td>\n",
       "    </tr>\n",
       "    <tr>\n",
       "      <th>155</th>\n",
       "      <td>Volvo</td>\n",
       "      <td>C70</td>\n",
       "      <td>3.493</td>\n",
       "      <td>20.449842</td>\n",
       "      <td>Automobile</td>\n",
       "      <td>45.50</td>\n",
       "      <td>2.3</td>\n",
       "      <td>236.0</td>\n",
       "      <td>104.9</td>\n",
       "      <td>71.5</td>\n",
       "      <td>185.7</td>\n",
       "      <td>3.601</td>\n",
       "      <td>18.5</td>\n",
       "      <td>23.0</td>\n",
       "    </tr>\n",
       "    <tr>\n",
       "      <th>156</th>\n",
       "      <td>Volvo</td>\n",
       "      <td>S80</td>\n",
       "      <td>18.969</td>\n",
       "      <td>19.782043</td>\n",
       "      <td>Automobile</td>\n",
       "      <td>36.00</td>\n",
       "      <td>2.9</td>\n",
       "      <td>201.0</td>\n",
       "      <td>109.9</td>\n",
       "      <td>72.1</td>\n",
       "      <td>189.8</td>\n",
       "      <td>3.600</td>\n",
       "      <td>21.1</td>\n",
       "      <td>24.0</td>\n",
       "    </tr>\n",
       "  </tbody>\n",
       "</table>\n",
       "<p>157 rows × 14 columns</p>\n",
       "</div>"
      ],
      "text/plain": [
       "    manufact    model   sales     resale        type  price  engine_s  \\\n",
       "0      Acura  Integra  16.919  16.360000  Automobile  21.50       1.8   \n",
       "1      Acura       TL  39.384  19.875000  Automobile  28.40       3.2   \n",
       "2      Acura       CL  14.114  18.225000  Automobile   0.00       3.2   \n",
       "3      Acura       RL   8.588  29.725000  Automobile  42.00       3.5   \n",
       "4       Audi       A4  20.397  22.255000  Automobile  23.99       1.8   \n",
       "..       ...      ...     ...        ...         ...    ...       ...   \n",
       "152    Volvo      V40   3.545  20.447598  Automobile  24.40       1.9   \n",
       "153    Volvo      S70  15.245  19.942736  Automobile  27.50       2.4   \n",
       "154    Volvo      V70  17.531  19.844094  Automobile  28.80       2.4   \n",
       "155    Volvo      C70   3.493  20.449842  Automobile  45.50       2.3   \n",
       "156    Volvo      S80  18.969  19.782043  Automobile  36.00       2.9   \n",
       "\n",
       "     horsepow  wheelbas  width  length  curb_wgt  fuel_cap   mpg  \n",
       "0       140.0     101.2   67.3   172.4     2.639      13.2  28.0  \n",
       "1       225.0     108.1   70.3   192.9     3.517      17.2  25.0  \n",
       "2       225.0     106.9   70.6   192.0     3.470      17.2  26.0  \n",
       "3       210.0     114.6   71.4   196.6     3.850      18.0  22.0  \n",
       "4       150.0     102.6   68.2   178.0     2.998      16.4  27.0  \n",
       "..        ...       ...    ...     ...       ...       ...   ...  \n",
       "152     160.0     100.5   67.6   176.6     3.042      15.8  25.0  \n",
       "153     168.0     104.9   69.3   185.9     3.208      17.9  25.0  \n",
       "154     168.0     104.9   69.3   186.2     3.259      17.9  25.0  \n",
       "155     236.0     104.9   71.5   185.7     3.601      18.5  23.0  \n",
       "156     201.0     109.9   72.1   189.8     3.600      21.1  24.0  \n",
       "\n",
       "[157 rows x 14 columns]"
      ]
     },
     "execution_count": 364,
     "metadata": {},
     "output_type": "execute_result"
    }
   ],
   "source": [
    "IQR_capping(training_dataset, 'sales')"
   ]
  },
  {
   "cell_type": "code",
   "execution_count": null,
   "metadata": {},
   "outputs": [
    {
     "data": {
      "image/png": "[encoded data removed]",
      "text/plain": [
       "<Figure size 1600x400 with 3 Axes>"
      ]
     },
     "metadata": {},
     "output_type": "display_data"
    }
   ],
   "source": [
    "diagnostic_plots(training_dataset, 'sales')"
   ]
  },
  {
   "attachments": {},
   "cell_type": "markdown",
   "metadata": {},
   "source": [
    "**Outlier Engineering by capping the outliers based on Quantiles**"
   ]
  },
  {
   "attachments": {},
   "cell_type": "markdown",
   "metadata": {},
   "source": [
    "We can use the series.quantile() method to calculate the quatile value and then use the IQR_datapoints() function to write a np.where() method to cap the outliers at the calculated quantiles detected using the the IQR Proximity Rule. "
   ]
  },
  {
   "cell_type": "code",
   "execution_count": 523,
   "metadata": {},
   "outputs": [],
   "source": [
    "def quartile_capping(dataframe, column_name):\n",
    "        \n",
    "    data = dataframe[column_name]\n",
    "    sorted_columns = np.sort(data)\n",
    "    \n",
    "    upperbound = dataframe[column_name].quantile(0.95)\n",
    "    lowerbound = dataframe[column_name].quantile(0.05)\n",
    "    \n",
    "    upper_limit, lower_limit, quartile_3, quartile_1, inter_quartile_range = IQR_datapoints(dataframe = dataframe, column_name = column_name)\n",
    "    \n",
    "    dataframe[column_name] = np.where( dataframe[column_name] < lower_limit, lowerbound, np.where(dataframe[column_name] > upper_limit, upperbound,dataframe[column_name]))\n",
    "    \n",
    "    return dataframe"
   ]
  },
  {
   "cell_type": "code",
   "execution_count": 521,
   "metadata": {},
   "outputs": [
    {
     "data": {
      "image/png": "[encoded data removed]",
      "text/plain": [
       "<Figure size 1600x400 with 3 Axes>"
      ]
     },
     "metadata": {},
     "output_type": "display_data"
    }
   ],
   "source": [
    "diagnostic_plots(training_dataset, 'resale')"
   ]
  },
  {
   "cell_type": "code",
   "execution_count": 524,
   "metadata": {},
   "outputs": [
    {
     "data": {
      "text/html": [
       "<div>\n",
       "<style scoped>\n",
       "    .dataframe tbody tr th:only-of-type {\n",
       "        vertical-align: middle;\n",
       "    }\n",
       "\n",
       "    .dataframe tbody tr th {\n",
       "        vertical-align: top;\n",
       "    }\n",
       "\n",
       "    .dataframe thead th {\n",
       "        text-align: right;\n",
       "    }\n",
       "</style>\n",
       "<table border=\"1\" class=\"dataframe\">\n",
       "  <thead>\n",
       "    <tr style=\"text-align: right;\">\n",
       "      <th></th>\n",
       "      <th>manufact</th>\n",
       "      <th>model</th>\n",
       "      <th>sales</th>\n",
       "      <th>resale</th>\n",
       "      <th>type</th>\n",
       "      <th>price</th>\n",
       "      <th>engine_s</th>\n",
       "      <th>horsepow</th>\n",
       "      <th>wheelbas</th>\n",
       "      <th>width</th>\n",
       "      <th>length</th>\n",
       "      <th>curb_wgt</th>\n",
       "      <th>fuel_cap</th>\n",
       "      <th>mpg</th>\n",
       "    </tr>\n",
       "  </thead>\n",
       "  <tbody>\n",
       "    <tr>\n",
       "      <th>136</th>\n",
       "      <td>Toyota</td>\n",
       "      <td>Corolla</td>\n",
       "      <td>142.535</td>\n",
       "      <td>10.025</td>\n",
       "      <td>Automobile</td>\n",
       "      <td>13.108</td>\n",
       "      <td>1.8</td>\n",
       "      <td>120.0</td>\n",
       "      <td>97.0</td>\n",
       "      <td>66.7</td>\n",
       "      <td>174.0</td>\n",
       "      <td>2.420</td>\n",
       "      <td>13.2</td>\n",
       "      <td>33.0</td>\n",
       "    </tr>\n",
       "    <tr>\n",
       "      <th>77</th>\n",
       "      <td>Lincoln</td>\n",
       "      <td>Town car</td>\n",
       "      <td>48.911</td>\n",
       "      <td>21.725</td>\n",
       "      <td>Automobile</td>\n",
       "      <td>43.330</td>\n",
       "      <td>4.6</td>\n",
       "      <td>215.0</td>\n",
       "      <td>117.7</td>\n",
       "      <td>78.2</td>\n",
       "      <td>215.3</td>\n",
       "      <td>4.121</td>\n",
       "      <td>19.0</td>\n",
       "      <td>21.0</td>\n",
       "    </tr>\n",
       "    <tr>\n",
       "      <th>43</th>\n",
       "      <td>Dodge</td>\n",
       "      <td>Dakota</td>\n",
       "      <td>111.313</td>\n",
       "      <td>11.260</td>\n",
       "      <td>Truck</td>\n",
       "      <td>16.980</td>\n",
       "      <td>2.5</td>\n",
       "      <td>120.0</td>\n",
       "      <td>131.0</td>\n",
       "      <td>71.5</td>\n",
       "      <td>215.0</td>\n",
       "      <td>3.557</td>\n",
       "      <td>22.0</td>\n",
       "      <td>19.0</td>\n",
       "    </tr>\n",
       "    <tr>\n",
       "      <th>38</th>\n",
       "      <td>Dodge</td>\n",
       "      <td>Intrepid</td>\n",
       "      <td>88.028</td>\n",
       "      <td>12.275</td>\n",
       "      <td>Automobile</td>\n",
       "      <td>22.505</td>\n",
       "      <td>2.7</td>\n",
       "      <td>202.0</td>\n",
       "      <td>113.0</td>\n",
       "      <td>74.7</td>\n",
       "      <td>203.7</td>\n",
       "      <td>3.489</td>\n",
       "      <td>17.0</td>\n",
       "      <td>NaN</td>\n",
       "    </tr>\n",
       "    <tr>\n",
       "      <th>138</th>\n",
       "      <td>Toyota</td>\n",
       "      <td>Avalon</td>\n",
       "      <td>63.849</td>\n",
       "      <td>18.140</td>\n",
       "      <td>Automobile</td>\n",
       "      <td>25.545</td>\n",
       "      <td>3.0</td>\n",
       "      <td>210.0</td>\n",
       "      <td>107.1</td>\n",
       "      <td>71.7</td>\n",
       "      <td>191.9</td>\n",
       "      <td>3.417</td>\n",
       "      <td>18.5</td>\n",
       "      <td>26.0</td>\n",
       "    </tr>\n",
       "    <tr>\n",
       "      <th>...</th>\n",
       "      <td>...</td>\n",
       "      <td>...</td>\n",
       "      <td>...</td>\n",
       "      <td>...</td>\n",
       "      <td>...</td>\n",
       "      <td>...</td>\n",
       "      <td>...</td>\n",
       "      <td>...</td>\n",
       "      <td>...</td>\n",
       "      <td>...</td>\n",
       "      <td>...</td>\n",
       "      <td>...</td>\n",
       "      <td>...</td>\n",
       "      <td>...</td>\n",
       "    </tr>\n",
       "    <tr>\n",
       "      <th>146</th>\n",
       "      <td>Volkswagen</td>\n",
       "      <td>Jetta</td>\n",
       "      <td>83.721</td>\n",
       "      <td>13.240</td>\n",
       "      <td>Automobile</td>\n",
       "      <td>16.700</td>\n",
       "      <td>2.0</td>\n",
       "      <td>115.0</td>\n",
       "      <td>98.9</td>\n",
       "      <td>68.3</td>\n",
       "      <td>172.3</td>\n",
       "      <td>2.853</td>\n",
       "      <td>14.5</td>\n",
       "      <td>26.0</td>\n",
       "    </tr>\n",
       "    <tr>\n",
       "      <th>90</th>\n",
       "      <td>Mercury</td>\n",
       "      <td>Mountaineer</td>\n",
       "      <td>27.609</td>\n",
       "      <td>20.430</td>\n",
       "      <td>Truck</td>\n",
       "      <td>27.560</td>\n",
       "      <td>4.0</td>\n",
       "      <td>210.0</td>\n",
       "      <td>111.6</td>\n",
       "      <td>70.2</td>\n",
       "      <td>190.1</td>\n",
       "      <td>3.876</td>\n",
       "      <td>21.0</td>\n",
       "      <td>18.0</td>\n",
       "    </tr>\n",
       "    <tr>\n",
       "      <th>112</th>\n",
       "      <td>Oldsmobile</td>\n",
       "      <td>Bravada</td>\n",
       "      <td>20.017</td>\n",
       "      <td>19.925</td>\n",
       "      <td>Truck</td>\n",
       "      <td>31.598</td>\n",
       "      <td>4.3</td>\n",
       "      <td>190.0</td>\n",
       "      <td>107.0</td>\n",
       "      <td>67.8</td>\n",
       "      <td>181.2</td>\n",
       "      <td>4.068</td>\n",
       "      <td>17.5</td>\n",
       "      <td>19.0</td>\n",
       "    </tr>\n",
       "    <tr>\n",
       "      <th>96</th>\n",
       "      <td>Mercedes-Benz</td>\n",
       "      <td>SLK</td>\n",
       "      <td>7.998</td>\n",
       "      <td>NaN</td>\n",
       "      <td>Automobile</td>\n",
       "      <td>38.900</td>\n",
       "      <td>2.3</td>\n",
       "      <td>190.0</td>\n",
       "      <td>94.5</td>\n",
       "      <td>67.5</td>\n",
       "      <td>157.9</td>\n",
       "      <td>3.055</td>\n",
       "      <td>15.9</td>\n",
       "      <td>26.0</td>\n",
       "    </tr>\n",
       "    <tr>\n",
       "      <th>147</th>\n",
       "      <td>Volkswagen</td>\n",
       "      <td>Passat</td>\n",
       "      <td>51.102</td>\n",
       "      <td>16.725</td>\n",
       "      <td>Automobile</td>\n",
       "      <td>21.200</td>\n",
       "      <td>1.8</td>\n",
       "      <td>150.0</td>\n",
       "      <td>106.4</td>\n",
       "      <td>68.5</td>\n",
       "      <td>184.1</td>\n",
       "      <td>3.043</td>\n",
       "      <td>16.4</td>\n",
       "      <td>27.0</td>\n",
       "    </tr>\n",
       "  </tbody>\n",
       "</table>\n",
       "<p>93 rows × 14 columns</p>\n",
       "</div>"
      ],
      "text/plain": [
       "          manufact        model    sales  resale        type   price  \\\n",
       "136         Toyota      Corolla  142.535  10.025  Automobile  13.108   \n",
       "77         Lincoln     Town car   48.911  21.725  Automobile  43.330   \n",
       "43           Dodge       Dakota  111.313  11.260       Truck  16.980   \n",
       "38           Dodge     Intrepid   88.028  12.275  Automobile  22.505   \n",
       "138         Toyota       Avalon   63.849  18.140  Automobile  25.545   \n",
       "..             ...          ...      ...     ...         ...     ...   \n",
       "146     Volkswagen        Jetta   83.721  13.240  Automobile  16.700   \n",
       "90         Mercury  Mountaineer   27.609  20.430       Truck  27.560   \n",
       "112     Oldsmobile      Bravada   20.017  19.925       Truck  31.598   \n",
       "96   Mercedes-Benz          SLK    7.998     NaN  Automobile  38.900   \n",
       "147     Volkswagen       Passat   51.102  16.725  Automobile  21.200   \n",
       "\n",
       "     engine_s  horsepow  wheelbas  width  length  curb_wgt  fuel_cap   mpg  \n",
       "136       1.8     120.0      97.0   66.7   174.0     2.420      13.2  33.0  \n",
       "77        4.6     215.0     117.7   78.2   215.3     4.121      19.0  21.0  \n",
       "43        2.5     120.0     131.0   71.5   215.0     3.557      22.0  19.0  \n",
       "38        2.7     202.0     113.0   74.7   203.7     3.489      17.0   NaN  \n",
       "138       3.0     210.0     107.1   71.7   191.9     3.417      18.5  26.0  \n",
       "..        ...       ...       ...    ...     ...       ...       ...   ...  \n",
       "146       2.0     115.0      98.9   68.3   172.3     2.853      14.5  26.0  \n",
       "90        4.0     210.0     111.6   70.2   190.1     3.876      21.0  18.0  \n",
       "112       4.3     190.0     107.0   67.8   181.2     4.068      17.5  19.0  \n",
       "96        2.3     190.0      94.5   67.5   157.9     3.055      15.9  26.0  \n",
       "147       1.8     150.0     106.4   68.5   184.1     3.043      16.4  27.0  \n",
       "\n",
       "[93 rows x 14 columns]"
      ]
     },
     "execution_count": 524,
     "metadata": {},
     "output_type": "execute_result"
    }
   ],
   "source": [
    "quartile_capping(training_dataset, 'resale')"
   ]
  },
  {
   "cell_type": "code",
   "execution_count": 525,
   "metadata": {},
   "outputs": [
    {
     "data": {
      "image/png": "[encoded data removed]",
      "text/plain": [
       "<Figure size 1600x400 with 3 Axes>"
      ]
     },
     "metadata": {},
     "output_type": "display_data"
    }
   ],
   "source": [
    "diagnostic_plots(training_dataset, 'resale')"
   ]
  },
  {
   "attachments": {},
   "cell_type": "markdown",
   "metadata": {},
   "source": [
    "# **Categorical Encoding**"
   ]
  },
  {
   "attachments": {},
   "cell_type": "markdown",
   "metadata": {},
   "source": [
    "**Cardinality Checks**\n",
    "\n",
    "    We can use the series.nunique() method to check for the number of unique values in the series. The syntax for which is mentioned below"
   ]
  },
  {
   "cell_type": "code",
   "execution_count": null,
   "metadata": {},
   "outputs": [
    {
     "data": {
      "text/plain": [
       "30"
      ]
     },
     "execution_count": 370,
     "metadata": {},
     "output_type": "execute_result"
    }
   ],
   "source": [
    "rawdata_copy['manufact'].nunique()"
   ]
  },
  {
   "cell_type": "code",
   "execution_count": null,
   "metadata": {},
   "outputs": [
    {
     "data": {
      "text/plain": [
       "156"
      ]
     },
     "execution_count": 371,
     "metadata": {},
     "output_type": "execute_result"
    }
   ],
   "source": [
    "rawdata_copy['model'].nunique()"
   ]
  },
  {
   "cell_type": "code",
   "execution_count": null,
   "metadata": {},
   "outputs": [
    {
     "data": {
      "text/plain": [
       "2"
      ]
     },
     "execution_count": 372,
     "metadata": {},
     "output_type": "execute_result"
    }
   ],
   "source": [
    "rawdata_copy['type'].nunique()"
   ]
  },
  {
   "attachments": {},
   "cell_type": "markdown",
   "metadata": {},
   "source": [
    "    We can also use the series.value_counts() method to get a series of counts for all the unique values in the index axis."
   ]
  },
  {
   "cell_type": "code",
   "execution_count": 527,
   "metadata": {},
   "outputs": [
    {
     "data": {
      "text/plain": [
       "Dodge            11\n",
       "Ford             11\n",
       "Toyota            9\n",
       "Chevrolet         9\n",
       "Mercedes-Benz     9\n",
       "Mitsubishi        7\n",
       "Nissan            7\n",
       "Chrysler          7\n",
       "Volvo             6\n",
       "Oldsmobile        6\n",
       "Lexus             6\n",
       "Mercury           6\n",
       "Pontiac           6\n",
       "Volkswagen        6\n",
       "Saturn            5\n",
       "Cadillac          5\n",
       "Honda             5\n",
       "Plymouth          4\n",
       "Acura             4\n",
       "Buick             4\n",
       "Audi              3\n",
       "Jeep              3\n",
       "Porsche           3\n",
       "Hyundai           3\n",
       "BMW               3\n",
       "Lincoln           3\n",
       "Saab              2\n",
       "Subaru            2\n",
       "Jaguar            1\n",
       "Infiniti          1\n",
       "Name: manufact, dtype: int64"
      ]
     },
     "execution_count": 527,
     "metadata": {},
     "output_type": "execute_result"
    }
   ],
   "source": [
    "rawdata_copy['manufact'].value_counts()"
   ]
  },
  {
   "cell_type": "code",
   "execution_count": null,
   "metadata": {},
   "outputs": [
    {
     "data": {
      "text/plain": [
       "Automobile    116\n",
       "Truck          41\n",
       "Name: type, dtype: int64"
      ]
     },
     "execution_count": 374,
     "metadata": {},
     "output_type": "execute_result"
    }
   ],
   "source": [
    "rawdata_copy['type'].value_counts()"
   ]
  },
  {
   "attachments": {},
   "cell_type": "markdown",
   "metadata": {},
   "source": [
    "# **One Hot Encoding**"
   ]
  },
  {
   "attachments": {},
   "cell_type": "markdown",
   "metadata": {},
   "source": [
    "## **Mean Encoding wihtout Rare Labels** "
   ]
  },
  {
   "attachments": {},
   "cell_type": "markdown",
   "metadata": {},
   "source": [
    "We use the groupby along with the mean function to determine the mean sales for each category in the dataset."
   ]
  },
  {
   "cell_type": "code",
   "execution_count": null,
   "metadata": {},
   "outputs": [
    {
     "data": {
      "text/plain": [
       "manufact\n",
       "Acura             19.751250\n",
       "Audi              13.519000\n",
       "BMW               15.501667\n",
       "Buick             60.504750\n",
       "Cadillac          22.435600\n",
       "Chevrolet         61.596111\n",
       "Chrysler          28.817286\n",
       "Dodge             72.616091\n",
       "Ford             118.156273\n",
       "Honda             91.905000\n",
       "Hyundai           45.775333\n",
       "Infiniti          23.713000\n",
       "Jaguar            15.467000\n",
       "Jeep              94.944000\n",
       "Lexus             17.807167\n",
       "Lincoln           28.544667\n",
       "Mercedes-Benz     13.013889\n",
       "Mercury           39.666500\n",
       "Mitsubishi        25.842143\n",
       "Nissan            57.090714\n",
       "Oldsmobile        29.831500\n",
       "Plymouth          16.000250\n",
       "Pontiac           61.755667\n",
       "Porsche            4.042667\n",
       "Saab              10.653000\n",
       "Saturn            33.770000\n",
       "Subaru            40.067500\n",
       "Toyota            71.214444\n",
       "Volkswagen        34.868667\n",
       "Volvo             12.623333\n",
       "Name: sales, dtype: float64"
      ]
     },
     "execution_count": 375,
     "metadata": {},
     "output_type": "execute_result"
    }
   ],
   "source": [
    "manufact_groupby_object_withoutrarelabels = rawdata_copy.groupby(['manufact'])['sales'].mean()\n",
    "manufact_groupby_object_withoutrarelabels"
   ]
  },
  {
   "attachments": {},
   "cell_type": "markdown",
   "metadata": {},
   "source": [
    "We can then assign the groupby object to a dictionary"
   ]
  },
  {
   "cell_type": "code",
   "execution_count": null,
   "metadata": {},
   "outputs": [],
   "source": [
    "manufact_groupby_object_withoutrarelabels_dictionary  = manufact_groupby_object_withoutrarelabels.to_dict()"
   ]
  },
  {
   "cell_type": "code",
   "execution_count": null,
   "metadata": {},
   "outputs": [
    {
     "data": {
      "text/plain": [
       "{'Acura': 19.75125,\n",
       " 'Audi': 13.519,\n",
       " 'BMW': 15.501666666666667,\n",
       " 'Buick': 60.50475,\n",
       " 'Cadillac': 22.4356,\n",
       " 'Chevrolet': 61.596111111111114,\n",
       " 'Chrysler': 28.817285714285713,\n",
       " 'Dodge': 72.61609090909091,\n",
       " 'Ford': 118.15627272727274,\n",
       " 'Honda': 91.905,\n",
       " 'Hyundai': 45.77533333333333,\n",
       " 'Infiniti': 23.713,\n",
       " 'Jaguar': 15.467,\n",
       " 'Jeep': 94.944,\n",
       " 'Lexus': 17.807166666666664,\n",
       " 'Lincoln': 28.544666666666668,\n",
       " 'Mercedes-Benz': 13.01388888888889,\n",
       " 'Mercury': 39.6665,\n",
       " 'Mitsubishi': 25.842142857142854,\n",
       " 'Nissan': 57.090714285714284,\n",
       " 'Oldsmobile': 29.831500000000002,\n",
       " 'Plymouth': 16.00025,\n",
       " 'Pontiac': 61.75566666666668,\n",
       " 'Porsche': 4.042666666666666,\n",
       " 'Saab': 10.653,\n",
       " 'Saturn': 33.769999999999996,\n",
       " 'Subaru': 40.067499999999995,\n",
       " 'Toyota': 71.21444444444444,\n",
       " 'Volkswagen': 34.86866666666666,\n",
       " 'Volvo': 12.623333333333333}"
      ]
     },
     "execution_count": 377,
     "metadata": {},
     "output_type": "execute_result"
    }
   ],
   "source": [
    "manufact_groupby_object_withoutrarelabels_dictionary"
   ]
  },
  {
   "attachments": {},
   "cell_type": "markdown",
   "metadata": {},
   "source": [
    "We can then use the .map() method to impute the values in the dictionary to corresponding values in the dataset. This completes categorical encoding without rare labels. "
   ]
  },
  {
   "cell_type": "code",
   "execution_count": null,
   "metadata": {},
   "outputs": [
    {
     "data": {
      "text/plain": [
       "0      19.751250\n",
       "1      19.751250\n",
       "2      19.751250\n",
       "3      19.751250\n",
       "4      13.519000\n",
       "         ...    \n",
       "152    12.623333\n",
       "153    12.623333\n",
       "154    12.623333\n",
       "155    12.623333\n",
       "156    12.623333\n",
       "Name: manufact, Length: 157, dtype: float64"
      ]
     },
     "execution_count": 378,
     "metadata": {},
     "output_type": "execute_result"
    }
   ],
   "source": [
    "rawdata_copy['manufact'].map(manufact_groupby_object_withoutrarelabels_dictionary)"
   ]
  },
  {
   "attachments": {},
   "cell_type": "markdown",
   "metadata": {},
   "source": [
    "At this point we can just add a assignment operator to the above function to perform an inplace encoding in the original column"
   ]
  },
  {
   "attachments": {},
   "cell_type": "markdown",
   "metadata": {},
   "source": [
    "## **Mean Encoding with rare labels**"
   ]
  },
  {
   "attachments": {},
   "cell_type": "markdown",
   "metadata": {},
   "source": [
    "For Mean Encoding with rare labels we just need to first categorize the categories that add very little explanatory power into a rare label category"
   ]
  },
  {
   "attachments": {},
   "cell_type": "markdown",
   "metadata": {},
   "source": [
    "The below mentioned function takes in a tolerance argument and then returns a list that contains the categories that have weights less than the tolerance level specified"
   ]
  },
  {
   "cell_type": "code",
   "execution_count": null,
   "metadata": {},
   "outputs": [],
   "source": [
    "def get_rare_labelled_data(dataframe = pd.DataFrame, column = str, tolerance = float):\n",
    "    \n",
    "    rare_label_grouby = dataframe.groupby([column])[column].count() / len(dataframe)\n",
    "    \n",
    "    rare_labels = rare_label_grouby.loc[rare_label_grouby.values < tolerance].index.values\n",
    "    \n",
    "    rare_labels_list = rare_labels.tolist()\n",
    "    \n",
    "    return rare_labels_list"
   ]
  },
  {
   "cell_type": "code",
   "execution_count": null,
   "metadata": {},
   "outputs": [
    {
     "data": {
      "text/plain": [
       "['Infiniti', 'Jaguar', 'Saab', 'Subaru']"
      ]
     },
     "execution_count": 380,
     "metadata": {},
     "output_type": "execute_result"
    }
   ],
   "source": [
    "get_rare_labelled_data(rawdata_copy, 'manufact', 0.014)"
   ]
  },
  {
   "attachments": {},
   "cell_type": "markdown",
   "metadata": {},
   "source": [
    "We can then use list comprehension to replace all the items that are rare label with one category which in this case is 'Rare Labels'  "
   ]
  },
  {
   "cell_type": "code",
   "execution_count": null,
   "metadata": {},
   "outputs": [],
   "source": [
    "rawdata_copy['manufact'] = ['Rare Labels' if i == 'Infiniti' or i == 'Jaguar' or i == 'Saab' or i == 'Subaru' else i for i in rawdata_copy['manufact']] "
   ]
  },
  {
   "attachments": {},
   "cell_type": "markdown",
   "metadata": {},
   "source": [
    "We can then view the explanatory weight of all the columns again by using the grouby function along with the count()/len(dataframe) aggregator"
   ]
  },
  {
   "cell_type": "code",
   "execution_count": null,
   "metadata": {},
   "outputs": [
    {
     "data": {
      "text/plain": [
       "manufact\n",
       "Acura            0.025478\n",
       "Audi             0.019108\n",
       "BMW              0.019108\n",
       "Buick            0.025478\n",
       "Cadillac         0.031847\n",
       "Chevrolet        0.057325\n",
       "Chrysler         0.044586\n",
       "Dodge            0.070064\n",
       "Ford             0.070064\n",
       "Honda            0.031847\n",
       "Hyundai          0.019108\n",
       "Jeep             0.019108\n",
       "Lexus            0.038217\n",
       "Lincoln          0.019108\n",
       "Mercedes-Benz    0.057325\n",
       "Mercury          0.038217\n",
       "Mitsubishi       0.044586\n",
       "Nissan           0.044586\n",
       "Oldsmobile       0.038217\n",
       "Plymouth         0.025478\n",
       "Pontiac          0.038217\n",
       "Porsche          0.019108\n",
       "Rare Labels      0.038217\n",
       "Saturn           0.031847\n",
       "Toyota           0.057325\n",
       "Volkswagen       0.038217\n",
       "Volvo            0.038217\n",
       "Name: manufact, dtype: float64"
      ]
     },
     "execution_count": 382,
     "metadata": {},
     "output_type": "execute_result"
    }
   ],
   "source": [
    "rawdata_copy.groupby(['manufact'])['manufact'].count() / len(rawdata_copy)"
   ]
  },
  {
   "attachments": {},
   "cell_type": "markdown",
   "metadata": {},
   "source": [
    "After we have categorizes the categories as rare labels we can do a similar operation like we did in the previous example that was categorical encoding without rare labels"
   ]
  },
  {
   "cell_type": "code",
   "execution_count": null,
   "metadata": {},
   "outputs": [],
   "source": [
    "rare_labelled_dictionnary = rawdata_copy.groupby(['manufact'])['sales'].mean()\n",
    "rare_labelled_dictionnary = rare_labelled_dictionnary.to_dict()"
   ]
  },
  {
   "cell_type": "code",
   "execution_count": null,
   "metadata": {},
   "outputs": [
    {
     "data": {
      "text/plain": [
       "{'Acura': 19.75125,\n",
       " 'Audi': 13.519,\n",
       " 'BMW': 15.501666666666667,\n",
       " 'Buick': 60.50475,\n",
       " 'Cadillac': 22.4356,\n",
       " 'Chevrolet': 61.596111111111114,\n",
       " 'Chrysler': 28.817285714285713,\n",
       " 'Dodge': 72.61609090909091,\n",
       " 'Ford': 118.15627272727274,\n",
       " 'Honda': 91.905,\n",
       " 'Hyundai': 45.77533333333333,\n",
       " 'Jeep': 94.944,\n",
       " 'Lexus': 17.807166666666664,\n",
       " 'Lincoln': 28.544666666666668,\n",
       " 'Mercedes-Benz': 13.01388888888889,\n",
       " 'Mercury': 39.6665,\n",
       " 'Mitsubishi': 25.842142857142854,\n",
       " 'Nissan': 57.090714285714284,\n",
       " 'Oldsmobile': 29.831500000000002,\n",
       " 'Plymouth': 16.00025,\n",
       " 'Pontiac': 61.75566666666668,\n",
       " 'Porsche': 4.042666666666666,\n",
       " 'Rare Labels': 23.436833333333336,\n",
       " 'Saturn': 33.769999999999996,\n",
       " 'Toyota': 71.21444444444444,\n",
       " 'Volkswagen': 34.86866666666666,\n",
       " 'Volvo': 12.623333333333333}"
      ]
     },
     "execution_count": 384,
     "metadata": {},
     "output_type": "execute_result"
    }
   ],
   "source": [
    "rare_labelled_dictionnary"
   ]
  },
  {
   "cell_type": "code",
   "execution_count": null,
   "metadata": {},
   "outputs": [],
   "source": [
    "rawdata_copy['manufact'] = rawdata_copy['manufact'].map(rare_labelled_dictionnary)"
   ]
  },
  {
   "cell_type": "code",
   "execution_count": null,
   "metadata": {},
   "outputs": [
    {
     "data": {
      "text/html": [
       "<div>\n",
       "<style scoped>\n",
       "    .dataframe tbody tr th:only-of-type {\n",
       "        vertical-align: middle;\n",
       "    }\n",
       "\n",
       "    .dataframe tbody tr th {\n",
       "        vertical-align: top;\n",
       "    }\n",
       "\n",
       "    .dataframe thead th {\n",
       "        text-align: right;\n",
       "    }\n",
       "</style>\n",
       "<table border=\"1\" class=\"dataframe\">\n",
       "  <thead>\n",
       "    <tr style=\"text-align: right;\">\n",
       "      <th></th>\n",
       "      <th>manufact</th>\n",
       "      <th>model</th>\n",
       "      <th>sales</th>\n",
       "      <th>resale</th>\n",
       "      <th>type</th>\n",
       "      <th>price</th>\n",
       "      <th>engine_s</th>\n",
       "      <th>horsepow</th>\n",
       "      <th>wheelbas</th>\n",
       "      <th>width</th>\n",
       "      <th>length</th>\n",
       "      <th>curb_wgt</th>\n",
       "      <th>fuel_cap</th>\n",
       "      <th>mpg</th>\n",
       "    </tr>\n",
       "  </thead>\n",
       "  <tbody>\n",
       "    <tr>\n",
       "      <th>0</th>\n",
       "      <td>19.751250</td>\n",
       "      <td>Integra</td>\n",
       "      <td>16.919</td>\n",
       "      <td>16.360000</td>\n",
       "      <td>Automobile</td>\n",
       "      <td>21.50</td>\n",
       "      <td>1.8</td>\n",
       "      <td>140.0</td>\n",
       "      <td>101.2</td>\n",
       "      <td>67.3</td>\n",
       "      <td>172.4</td>\n",
       "      <td>2.639</td>\n",
       "      <td>13.2</td>\n",
       "      <td>28.0</td>\n",
       "    </tr>\n",
       "    <tr>\n",
       "      <th>1</th>\n",
       "      <td>19.751250</td>\n",
       "      <td>TL</td>\n",
       "      <td>39.384</td>\n",
       "      <td>19.875000</td>\n",
       "      <td>Automobile</td>\n",
       "      <td>28.40</td>\n",
       "      <td>3.2</td>\n",
       "      <td>225.0</td>\n",
       "      <td>108.1</td>\n",
       "      <td>70.3</td>\n",
       "      <td>192.9</td>\n",
       "      <td>3.517</td>\n",
       "      <td>17.2</td>\n",
       "      <td>25.0</td>\n",
       "    </tr>\n",
       "    <tr>\n",
       "      <th>2</th>\n",
       "      <td>19.751250</td>\n",
       "      <td>CL</td>\n",
       "      <td>14.114</td>\n",
       "      <td>18.225000</td>\n",
       "      <td>Automobile</td>\n",
       "      <td>0.00</td>\n",
       "      <td>3.2</td>\n",
       "      <td>225.0</td>\n",
       "      <td>106.9</td>\n",
       "      <td>70.6</td>\n",
       "      <td>192.0</td>\n",
       "      <td>3.470</td>\n",
       "      <td>17.2</td>\n",
       "      <td>26.0</td>\n",
       "    </tr>\n",
       "    <tr>\n",
       "      <th>3</th>\n",
       "      <td>19.751250</td>\n",
       "      <td>RL</td>\n",
       "      <td>8.588</td>\n",
       "      <td>29.725000</td>\n",
       "      <td>Automobile</td>\n",
       "      <td>42.00</td>\n",
       "      <td>3.5</td>\n",
       "      <td>210.0</td>\n",
       "      <td>114.6</td>\n",
       "      <td>71.4</td>\n",
       "      <td>196.6</td>\n",
       "      <td>3.850</td>\n",
       "      <td>18.0</td>\n",
       "      <td>22.0</td>\n",
       "    </tr>\n",
       "    <tr>\n",
       "      <th>4</th>\n",
       "      <td>13.519000</td>\n",
       "      <td>A4</td>\n",
       "      <td>20.397</td>\n",
       "      <td>22.255000</td>\n",
       "      <td>Automobile</td>\n",
       "      <td>23.99</td>\n",
       "      <td>1.8</td>\n",
       "      <td>150.0</td>\n",
       "      <td>102.6</td>\n",
       "      <td>68.2</td>\n",
       "      <td>178.0</td>\n",
       "      <td>2.998</td>\n",
       "      <td>16.4</td>\n",
       "      <td>27.0</td>\n",
       "    </tr>\n",
       "    <tr>\n",
       "      <th>...</th>\n",
       "      <td>...</td>\n",
       "      <td>...</td>\n",
       "      <td>...</td>\n",
       "      <td>...</td>\n",
       "      <td>...</td>\n",
       "      <td>...</td>\n",
       "      <td>...</td>\n",
       "      <td>...</td>\n",
       "      <td>...</td>\n",
       "      <td>...</td>\n",
       "      <td>...</td>\n",
       "      <td>...</td>\n",
       "      <td>...</td>\n",
       "      <td>...</td>\n",
       "    </tr>\n",
       "    <tr>\n",
       "      <th>152</th>\n",
       "      <td>12.623333</td>\n",
       "      <td>V40</td>\n",
       "      <td>3.545</td>\n",
       "      <td>20.447598</td>\n",
       "      <td>Automobile</td>\n",
       "      <td>24.40</td>\n",
       "      <td>1.9</td>\n",
       "      <td>160.0</td>\n",
       "      <td>100.5</td>\n",
       "      <td>67.6</td>\n",
       "      <td>176.6</td>\n",
       "      <td>3.042</td>\n",
       "      <td>15.8</td>\n",
       "      <td>25.0</td>\n",
       "    </tr>\n",
       "    <tr>\n",
       "      <th>153</th>\n",
       "      <td>12.623333</td>\n",
       "      <td>S70</td>\n",
       "      <td>15.245</td>\n",
       "      <td>19.942736</td>\n",
       "      <td>Automobile</td>\n",
       "      <td>27.50</td>\n",
       "      <td>2.4</td>\n",
       "      <td>168.0</td>\n",
       "      <td>104.9</td>\n",
       "      <td>69.3</td>\n",
       "      <td>185.9</td>\n",
       "      <td>3.208</td>\n",
       "      <td>17.9</td>\n",
       "      <td>25.0</td>\n",
       "    </tr>\n",
       "    <tr>\n",
       "      <th>154</th>\n",
       "      <td>12.623333</td>\n",
       "      <td>V70</td>\n",
       "      <td>17.531</td>\n",
       "      <td>19.844094</td>\n",
       "      <td>Automobile</td>\n",
       "      <td>28.80</td>\n",
       "      <td>2.4</td>\n",
       "      <td>168.0</td>\n",
       "      <td>104.9</td>\n",
       "      <td>69.3</td>\n",
       "      <td>186.2</td>\n",
       "      <td>3.259</td>\n",
       "      <td>17.9</td>\n",
       "      <td>25.0</td>\n",
       "    </tr>\n",
       "    <tr>\n",
       "      <th>155</th>\n",
       "      <td>12.623333</td>\n",
       "      <td>C70</td>\n",
       "      <td>3.493</td>\n",
       "      <td>20.449842</td>\n",
       "      <td>Automobile</td>\n",
       "      <td>45.50</td>\n",
       "      <td>2.3</td>\n",
       "      <td>236.0</td>\n",
       "      <td>104.9</td>\n",
       "      <td>71.5</td>\n",
       "      <td>185.7</td>\n",
       "      <td>3.601</td>\n",
       "      <td>18.5</td>\n",
       "      <td>23.0</td>\n",
       "    </tr>\n",
       "    <tr>\n",
       "      <th>156</th>\n",
       "      <td>12.623333</td>\n",
       "      <td>S80</td>\n",
       "      <td>18.969</td>\n",
       "      <td>19.782043</td>\n",
       "      <td>Automobile</td>\n",
       "      <td>36.00</td>\n",
       "      <td>2.9</td>\n",
       "      <td>201.0</td>\n",
       "      <td>109.9</td>\n",
       "      <td>72.1</td>\n",
       "      <td>189.8</td>\n",
       "      <td>3.600</td>\n",
       "      <td>21.1</td>\n",
       "      <td>24.0</td>\n",
       "    </tr>\n",
       "  </tbody>\n",
       "</table>\n",
       "<p>157 rows × 14 columns</p>\n",
       "</div>"
      ],
      "text/plain": [
       "      manufact    model   sales     resale        type  price  engine_s  \\\n",
       "0    19.751250  Integra  16.919  16.360000  Automobile  21.50       1.8   \n",
       "1    19.751250       TL  39.384  19.875000  Automobile  28.40       3.2   \n",
       "2    19.751250       CL  14.114  18.225000  Automobile   0.00       3.2   \n",
       "3    19.751250       RL   8.588  29.725000  Automobile  42.00       3.5   \n",
       "4    13.519000       A4  20.397  22.255000  Automobile  23.99       1.8   \n",
       "..         ...      ...     ...        ...         ...    ...       ...   \n",
       "152  12.623333      V40   3.545  20.447598  Automobile  24.40       1.9   \n",
       "153  12.623333      S70  15.245  19.942736  Automobile  27.50       2.4   \n",
       "154  12.623333      V70  17.531  19.844094  Automobile  28.80       2.4   \n",
       "155  12.623333      C70   3.493  20.449842  Automobile  45.50       2.3   \n",
       "156  12.623333      S80  18.969  19.782043  Automobile  36.00       2.9   \n",
       "\n",
       "     horsepow  wheelbas  width  length  curb_wgt  fuel_cap   mpg  \n",
       "0       140.0     101.2   67.3   172.4     2.639      13.2  28.0  \n",
       "1       225.0     108.1   70.3   192.9     3.517      17.2  25.0  \n",
       "2       225.0     106.9   70.6   192.0     3.470      17.2  26.0  \n",
       "3       210.0     114.6   71.4   196.6     3.850      18.0  22.0  \n",
       "4       150.0     102.6   68.2   178.0     2.998      16.4  27.0  \n",
       "..        ...       ...    ...     ...       ...       ...   ...  \n",
       "152     160.0     100.5   67.6   176.6     3.042      15.8  25.0  \n",
       "153     168.0     104.9   69.3   185.9     3.208      17.9  25.0  \n",
       "154     168.0     104.9   69.3   186.2     3.259      17.9  25.0  \n",
       "155     236.0     104.9   71.5   185.7     3.601      18.5  23.0  \n",
       "156     201.0     109.9   72.1   189.8     3.600      21.1  24.0  \n",
       "\n",
       "[157 rows x 14 columns]"
      ]
     },
     "execution_count": 386,
     "metadata": {},
     "output_type": "execute_result"
    }
   ],
   "source": [
    "rawdata_copy"
   ]
  },
  {
   "attachments": {},
   "cell_type": "markdown",
   "metadata": {},
   "source": [
    "**Categorical encoding with dummy variables**"
   ]
  },
  {
   "attachments": {},
   "cell_type": "markdown",
   "metadata": {},
   "source": [
    "In this case we use list comprehension to flag the categories with 0 or 1  "
   ]
  },
  {
   "cell_type": "code",
   "execution_count": null,
   "metadata": {},
   "outputs": [],
   "source": [
    "rawdata_copy['type'] = [1 if i == 'Automobile' else 0 for i in rawdata_copy['type']]"
   ]
  },
  {
   "cell_type": "code",
   "execution_count": null,
   "metadata": {},
   "outputs": [
    {
     "data": {
      "text/plain": [
       "0      1\n",
       "1      1\n",
       "2      1\n",
       "3      1\n",
       "4      1\n",
       "      ..\n",
       "152    1\n",
       "153    1\n",
       "154    1\n",
       "155    1\n",
       "156    1\n",
       "Name: type, Length: 157, dtype: int64"
      ]
     },
     "execution_count": 390,
     "metadata": {},
     "output_type": "execute_result"
    }
   ],
   "source": [
    "rawdata_copy['type']"
   ]
  }
 ],
 "metadata": {
  "kernelspec": {
   "display_name": "base",
   "language": "python",
   "name": "python3"
  },
  "language_info": {
   "codemirror_mode": {
    "name": "ipython",
    "version": 3
   },
   "file_extension": ".py",
   "mimetype": "text/x-python",
   "name": "python",
   "nbconvert_exporter": "python",
   "pygments_lexer": "ipython3",
   "version": "3.9.7"
  },
  "orig_nbformat": 4,
  "vscode": {
   "interpreter": {
    "hash": "8891f3cfb547db503e78f25128202364d60f1c09259e140a1bd236c27b0b7a43"
   }
  }
 },
 "nbformat": 4,
 "nbformat_minor": 2
}
